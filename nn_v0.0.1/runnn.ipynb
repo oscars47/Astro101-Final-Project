{
 "cells": [
  {
   "cell_type": "code",
   "execution_count": 2,
   "metadata": {},
   "outputs": [
    {
     "name": "stdout",
     "output_type": "stream",
     "text": [
      "Error in callback <function _WandbInit._resume_backend at 0x7f08488940d0> (for pre_run_cell):\n"
     ]
    },
    {
     "ename": "BrokenPipeError",
     "evalue": "[Errno 32] Broken pipe",
     "output_type": "error",
     "traceback": [
      "\u001b[0;31m---------------------------------------------------------------------------\u001b[0m",
      "\u001b[0;31mBrokenPipeError\u001b[0m                           Traceback (most recent call last)",
      "\u001b[0;32m~/anaconda3/lib/python3.9/site-packages/backcall/backcall.py\u001b[0m in \u001b[0;36madapted\u001b[0;34m(*args, **kwargs)\u001b[0m\n\u001b[1;32m    102\u001b[0m                 \u001b[0mkwargs\u001b[0m\u001b[0;34m.\u001b[0m\u001b[0mpop\u001b[0m\u001b[0;34m(\u001b[0m\u001b[0mname\u001b[0m\u001b[0;34m)\u001b[0m\u001b[0;34m\u001b[0m\u001b[0;34m\u001b[0m\u001b[0m\n\u001b[1;32m    103\u001b[0m \u001b[0;31m#            print(args, kwargs, unmatched_pos, cut_positional, unmatched_kw)\u001b[0m\u001b[0;34m\u001b[0m\u001b[0;34m\u001b[0m\u001b[0m\n\u001b[0;32m--> 104\u001b[0;31m             \u001b[0;32mreturn\u001b[0m \u001b[0mcallback\u001b[0m\u001b[0;34m(\u001b[0m\u001b[0;34m*\u001b[0m\u001b[0margs\u001b[0m\u001b[0;34m,\u001b[0m \u001b[0;34m**\u001b[0m\u001b[0mkwargs\u001b[0m\u001b[0;34m)\u001b[0m\u001b[0;34m\u001b[0m\u001b[0;34m\u001b[0m\u001b[0m\n\u001b[0m\u001b[1;32m    105\u001b[0m \u001b[0;34m\u001b[0m\u001b[0m\n\u001b[1;32m    106\u001b[0m         \u001b[0;32mreturn\u001b[0m \u001b[0madapted\u001b[0m\u001b[0;34m\u001b[0m\u001b[0;34m\u001b[0m\u001b[0m\n",
      "\u001b[0;32m~/anaconda3/lib/python3.9/site-packages/wandb/sdk/wandb_init.py\u001b[0m in \u001b[0;36m_resume_backend\u001b[0;34m(self)\u001b[0m\n\u001b[1;32m    397\u001b[0m         \u001b[0;32mif\u001b[0m \u001b[0mself\u001b[0m\u001b[0;34m.\u001b[0m\u001b[0mbackend\u001b[0m \u001b[0;32mis\u001b[0m \u001b[0;32mnot\u001b[0m \u001b[0;32mNone\u001b[0m\u001b[0;34m:\u001b[0m\u001b[0;34m\u001b[0m\u001b[0;34m\u001b[0m\u001b[0m\n\u001b[1;32m    398\u001b[0m             \u001b[0mlogger\u001b[0m\u001b[0;34m.\u001b[0m\u001b[0minfo\u001b[0m\u001b[0;34m(\u001b[0m\u001b[0;34m\"resuming backend\"\u001b[0m\u001b[0;34m)\u001b[0m\u001b[0;34m\u001b[0m\u001b[0;34m\u001b[0m\u001b[0m\n\u001b[0;32m--> 399\u001b[0;31m             \u001b[0mself\u001b[0m\u001b[0;34m.\u001b[0m\u001b[0mbackend\u001b[0m\u001b[0;34m.\u001b[0m\u001b[0minterface\u001b[0m\u001b[0;34m.\u001b[0m\u001b[0mpublish_resume\u001b[0m\u001b[0;34m(\u001b[0m\u001b[0;34m)\u001b[0m\u001b[0;34m\u001b[0m\u001b[0;34m\u001b[0m\u001b[0m\n\u001b[0m\u001b[1;32m    400\u001b[0m \u001b[0;34m\u001b[0m\u001b[0m\n\u001b[1;32m    401\u001b[0m     \u001b[0;32mdef\u001b[0m \u001b[0m_jupyter_teardown\u001b[0m\u001b[0;34m(\u001b[0m\u001b[0mself\u001b[0m\u001b[0;34m)\u001b[0m\u001b[0;34m:\u001b[0m\u001b[0;34m\u001b[0m\u001b[0;34m\u001b[0m\u001b[0m\n",
      "\u001b[0;32m~/anaconda3/lib/python3.9/site-packages/wandb/sdk/interface/interface.py\u001b[0m in \u001b[0;36mpublish_resume\u001b[0;34m(self)\u001b[0m\n\u001b[1;32m    642\u001b[0m     \u001b[0;32mdef\u001b[0m \u001b[0mpublish_resume\u001b[0m\u001b[0;34m(\u001b[0m\u001b[0mself\u001b[0m\u001b[0;34m)\u001b[0m \u001b[0;34m->\u001b[0m \u001b[0;32mNone\u001b[0m\u001b[0;34m:\u001b[0m\u001b[0;34m\u001b[0m\u001b[0;34m\u001b[0m\u001b[0m\n\u001b[1;32m    643\u001b[0m         \u001b[0mresume\u001b[0m \u001b[0;34m=\u001b[0m \u001b[0mpb\u001b[0m\u001b[0;34m.\u001b[0m\u001b[0mResumeRequest\u001b[0m\u001b[0;34m(\u001b[0m\u001b[0;34m)\u001b[0m\u001b[0;34m\u001b[0m\u001b[0;34m\u001b[0m\u001b[0m\n\u001b[0;32m--> 644\u001b[0;31m         \u001b[0mself\u001b[0m\u001b[0;34m.\u001b[0m\u001b[0m_publish_resume\u001b[0m\u001b[0;34m(\u001b[0m\u001b[0mresume\u001b[0m\u001b[0;34m)\u001b[0m\u001b[0;34m\u001b[0m\u001b[0;34m\u001b[0m\u001b[0m\n\u001b[0m\u001b[1;32m    645\u001b[0m \u001b[0;34m\u001b[0m\u001b[0m\n\u001b[1;32m    646\u001b[0m     \u001b[0;34m@\u001b[0m\u001b[0mabstractmethod\u001b[0m\u001b[0;34m\u001b[0m\u001b[0;34m\u001b[0m\u001b[0m\n",
      "\u001b[0;32m~/anaconda3/lib/python3.9/site-packages/wandb/sdk/interface/interface_shared.py\u001b[0m in \u001b[0;36m_publish_resume\u001b[0;34m(self, resume)\u001b[0m\n\u001b[1;32m    310\u001b[0m     \u001b[0;32mdef\u001b[0m \u001b[0m_publish_resume\u001b[0m\u001b[0;34m(\u001b[0m\u001b[0mself\u001b[0m\u001b[0;34m,\u001b[0m \u001b[0mresume\u001b[0m\u001b[0;34m:\u001b[0m \u001b[0mpb\u001b[0m\u001b[0;34m.\u001b[0m\u001b[0mResumeRequest\u001b[0m\u001b[0;34m)\u001b[0m \u001b[0;34m->\u001b[0m \u001b[0;32mNone\u001b[0m\u001b[0;34m:\u001b[0m\u001b[0;34m\u001b[0m\u001b[0;34m\u001b[0m\u001b[0m\n\u001b[1;32m    311\u001b[0m         \u001b[0mrec\u001b[0m \u001b[0;34m=\u001b[0m \u001b[0mself\u001b[0m\u001b[0;34m.\u001b[0m\u001b[0m_make_request\u001b[0m\u001b[0;34m(\u001b[0m\u001b[0mresume\u001b[0m\u001b[0;34m=\u001b[0m\u001b[0mresume\u001b[0m\u001b[0;34m)\u001b[0m\u001b[0;34m\u001b[0m\u001b[0;34m\u001b[0m\u001b[0m\n\u001b[0;32m--> 312\u001b[0;31m         \u001b[0mself\u001b[0m\u001b[0;34m.\u001b[0m\u001b[0m_publish\u001b[0m\u001b[0;34m(\u001b[0m\u001b[0mrec\u001b[0m\u001b[0;34m)\u001b[0m\u001b[0;34m\u001b[0m\u001b[0;34m\u001b[0m\u001b[0m\n\u001b[0m\u001b[1;32m    313\u001b[0m \u001b[0;34m\u001b[0m\u001b[0m\n\u001b[1;32m    314\u001b[0m     \u001b[0;32mdef\u001b[0m \u001b[0m_publish_run\u001b[0m\u001b[0;34m(\u001b[0m\u001b[0mself\u001b[0m\u001b[0;34m,\u001b[0m \u001b[0mrun\u001b[0m\u001b[0;34m:\u001b[0m \u001b[0mpb\u001b[0m\u001b[0;34m.\u001b[0m\u001b[0mRunRecord\u001b[0m\u001b[0;34m)\u001b[0m \u001b[0;34m->\u001b[0m \u001b[0;32mNone\u001b[0m\u001b[0;34m:\u001b[0m\u001b[0;34m\u001b[0m\u001b[0;34m\u001b[0m\u001b[0m\n",
      "\u001b[0;32m~/anaconda3/lib/python3.9/site-packages/wandb/sdk/interface/interface_sock.py\u001b[0m in \u001b[0;36m_publish\u001b[0;34m(self, record, local)\u001b[0m\n\u001b[1;32m     49\u001b[0m     \u001b[0;32mdef\u001b[0m \u001b[0m_publish\u001b[0m\u001b[0;34m(\u001b[0m\u001b[0mself\u001b[0m\u001b[0;34m,\u001b[0m \u001b[0mrecord\u001b[0m\u001b[0;34m:\u001b[0m \u001b[0;34m\"pb.Record\"\u001b[0m\u001b[0;34m,\u001b[0m \u001b[0mlocal\u001b[0m\u001b[0;34m:\u001b[0m \u001b[0mbool\u001b[0m \u001b[0;34m=\u001b[0m \u001b[0;32mNone\u001b[0m\u001b[0;34m)\u001b[0m \u001b[0;34m->\u001b[0m \u001b[0;32mNone\u001b[0m\u001b[0;34m:\u001b[0m\u001b[0;34m\u001b[0m\u001b[0;34m\u001b[0m\u001b[0m\n\u001b[1;32m     50\u001b[0m         \u001b[0mself\u001b[0m\u001b[0;34m.\u001b[0m\u001b[0m_assign\u001b[0m\u001b[0;34m(\u001b[0m\u001b[0mrecord\u001b[0m\u001b[0;34m)\u001b[0m\u001b[0;34m\u001b[0m\u001b[0;34m\u001b[0m\u001b[0m\n\u001b[0;32m---> 51\u001b[0;31m         \u001b[0mself\u001b[0m\u001b[0;34m.\u001b[0m\u001b[0m_sock_client\u001b[0m\u001b[0;34m.\u001b[0m\u001b[0msend_record_publish\u001b[0m\u001b[0;34m(\u001b[0m\u001b[0mrecord\u001b[0m\u001b[0;34m)\u001b[0m\u001b[0;34m\u001b[0m\u001b[0;34m\u001b[0m\u001b[0m\n\u001b[0m\u001b[1;32m     52\u001b[0m \u001b[0;34m\u001b[0m\u001b[0m\n\u001b[1;32m     53\u001b[0m     \u001b[0;32mdef\u001b[0m \u001b[0m_communicate_async\u001b[0m\u001b[0;34m(\u001b[0m\u001b[0mself\u001b[0m\u001b[0;34m,\u001b[0m \u001b[0mrec\u001b[0m\u001b[0;34m:\u001b[0m \u001b[0;34m\"pb.Record\"\u001b[0m\u001b[0;34m,\u001b[0m \u001b[0mlocal\u001b[0m\u001b[0;34m:\u001b[0m \u001b[0mbool\u001b[0m \u001b[0;34m=\u001b[0m \u001b[0;32mNone\u001b[0m\u001b[0;34m)\u001b[0m \u001b[0;34m->\u001b[0m \u001b[0mMessageFuture\u001b[0m\u001b[0;34m:\u001b[0m\u001b[0;34m\u001b[0m\u001b[0;34m\u001b[0m\u001b[0m\n",
      "\u001b[0;32m~/anaconda3/lib/python3.9/site-packages/wandb/sdk/lib/sock_client.py\u001b[0m in \u001b[0;36msend_record_publish\u001b[0;34m(self, record)\u001b[0m\n\u001b[1;32m    219\u001b[0m         \u001b[0mserver_req\u001b[0m \u001b[0;34m=\u001b[0m \u001b[0mspb\u001b[0m\u001b[0;34m.\u001b[0m\u001b[0mServerRequest\u001b[0m\u001b[0;34m(\u001b[0m\u001b[0;34m)\u001b[0m\u001b[0;34m\u001b[0m\u001b[0;34m\u001b[0m\u001b[0m\n\u001b[1;32m    220\u001b[0m         \u001b[0mserver_req\u001b[0m\u001b[0;34m.\u001b[0m\u001b[0mrecord_publish\u001b[0m\u001b[0;34m.\u001b[0m\u001b[0mCopyFrom\u001b[0m\u001b[0;34m(\u001b[0m\u001b[0mrecord\u001b[0m\u001b[0;34m)\u001b[0m\u001b[0;34m\u001b[0m\u001b[0;34m\u001b[0m\u001b[0m\n\u001b[0;32m--> 221\u001b[0;31m         \u001b[0mself\u001b[0m\u001b[0;34m.\u001b[0m\u001b[0msend_server_request\u001b[0m\u001b[0;34m(\u001b[0m\u001b[0mserver_req\u001b[0m\u001b[0;34m)\u001b[0m\u001b[0;34m\u001b[0m\u001b[0;34m\u001b[0m\u001b[0m\n\u001b[0m\u001b[1;32m    222\u001b[0m \u001b[0;34m\u001b[0m\u001b[0m\n\u001b[1;32m    223\u001b[0m     \u001b[0;32mdef\u001b[0m \u001b[0m_extract_packet_bytes\u001b[0m\u001b[0;34m(\u001b[0m\u001b[0mself\u001b[0m\u001b[0;34m)\u001b[0m \u001b[0;34m->\u001b[0m \u001b[0mOptional\u001b[0m\u001b[0;34m[\u001b[0m\u001b[0mbytes\u001b[0m\u001b[0;34m]\u001b[0m\u001b[0;34m:\u001b[0m\u001b[0;34m\u001b[0m\u001b[0;34m\u001b[0m\u001b[0m\n",
      "\u001b[0;32m~/anaconda3/lib/python3.9/site-packages/wandb/sdk/lib/sock_client.py\u001b[0m in \u001b[0;36msend_server_request\u001b[0;34m(self, msg)\u001b[0m\n\u001b[1;32m    153\u001b[0m \u001b[0;34m\u001b[0m\u001b[0m\n\u001b[1;32m    154\u001b[0m     \u001b[0;32mdef\u001b[0m \u001b[0msend_server_request\u001b[0m\u001b[0;34m(\u001b[0m\u001b[0mself\u001b[0m\u001b[0;34m,\u001b[0m \u001b[0mmsg\u001b[0m\u001b[0;34m:\u001b[0m \u001b[0mAny\u001b[0m\u001b[0;34m)\u001b[0m \u001b[0;34m->\u001b[0m \u001b[0;32mNone\u001b[0m\u001b[0;34m:\u001b[0m\u001b[0;34m\u001b[0m\u001b[0;34m\u001b[0m\u001b[0m\n\u001b[0;32m--> 155\u001b[0;31m         \u001b[0mself\u001b[0m\u001b[0;34m.\u001b[0m\u001b[0m_send_message\u001b[0m\u001b[0;34m(\u001b[0m\u001b[0mmsg\u001b[0m\u001b[0;34m)\u001b[0m\u001b[0;34m\u001b[0m\u001b[0;34m\u001b[0m\u001b[0m\n\u001b[0m\u001b[1;32m    156\u001b[0m \u001b[0;34m\u001b[0m\u001b[0m\n\u001b[1;32m    157\u001b[0m     \u001b[0;32mdef\u001b[0m \u001b[0msend_server_response\u001b[0m\u001b[0;34m(\u001b[0m\u001b[0mself\u001b[0m\u001b[0;34m,\u001b[0m \u001b[0mmsg\u001b[0m\u001b[0;34m:\u001b[0m \u001b[0mAny\u001b[0m\u001b[0;34m)\u001b[0m \u001b[0;34m->\u001b[0m \u001b[0;32mNone\u001b[0m\u001b[0;34m:\u001b[0m\u001b[0;34m\u001b[0m\u001b[0;34m\u001b[0m\u001b[0m\n",
      "\u001b[0;32m~/anaconda3/lib/python3.9/site-packages/wandb/sdk/lib/sock_client.py\u001b[0m in \u001b[0;36m_send_message\u001b[0;34m(self, msg)\u001b[0m\n\u001b[1;32m    150\u001b[0m         \u001b[0mheader\u001b[0m \u001b[0;34m=\u001b[0m \u001b[0mstruct\u001b[0m\u001b[0;34m.\u001b[0m\u001b[0mpack\u001b[0m\u001b[0;34m(\u001b[0m\u001b[0;34m\"<BI\"\u001b[0m\u001b[0;34m,\u001b[0m \u001b[0mord\u001b[0m\u001b[0;34m(\u001b[0m\u001b[0;34m\"W\"\u001b[0m\u001b[0;34m)\u001b[0m\u001b[0;34m,\u001b[0m \u001b[0mraw_size\u001b[0m\u001b[0;34m)\u001b[0m\u001b[0;34m\u001b[0m\u001b[0;34m\u001b[0m\u001b[0m\n\u001b[1;32m    151\u001b[0m         \u001b[0;32mwith\u001b[0m \u001b[0mself\u001b[0m\u001b[0;34m.\u001b[0m\u001b[0m_lock\u001b[0m\u001b[0;34m:\u001b[0m\u001b[0;34m\u001b[0m\u001b[0;34m\u001b[0m\u001b[0m\n\u001b[0;32m--> 152\u001b[0;31m             \u001b[0mself\u001b[0m\u001b[0;34m.\u001b[0m\u001b[0m_sendall_with_error_handle\u001b[0m\u001b[0;34m(\u001b[0m\u001b[0mheader\u001b[0m \u001b[0;34m+\u001b[0m \u001b[0mdata\u001b[0m\u001b[0;34m)\u001b[0m\u001b[0;34m\u001b[0m\u001b[0;34m\u001b[0m\u001b[0m\n\u001b[0m\u001b[1;32m    153\u001b[0m \u001b[0;34m\u001b[0m\u001b[0m\n\u001b[1;32m    154\u001b[0m     \u001b[0;32mdef\u001b[0m \u001b[0msend_server_request\u001b[0m\u001b[0;34m(\u001b[0m\u001b[0mself\u001b[0m\u001b[0;34m,\u001b[0m \u001b[0mmsg\u001b[0m\u001b[0;34m:\u001b[0m \u001b[0mAny\u001b[0m\u001b[0;34m)\u001b[0m \u001b[0;34m->\u001b[0m \u001b[0;32mNone\u001b[0m\u001b[0;34m:\u001b[0m\u001b[0;34m\u001b[0m\u001b[0;34m\u001b[0m\u001b[0m\n",
      "\u001b[0;32m~/anaconda3/lib/python3.9/site-packages/wandb/sdk/lib/sock_client.py\u001b[0m in \u001b[0;36m_sendall_with_error_handle\u001b[0;34m(self, data)\u001b[0m\n\u001b[1;32m    128\u001b[0m             \u001b[0mstart_time\u001b[0m \u001b[0;34m=\u001b[0m \u001b[0mtime\u001b[0m\u001b[0;34m.\u001b[0m\u001b[0mmonotonic\u001b[0m\u001b[0;34m(\u001b[0m\u001b[0;34m)\u001b[0m\u001b[0;34m\u001b[0m\u001b[0;34m\u001b[0m\u001b[0m\n\u001b[1;32m    129\u001b[0m             \u001b[0;32mtry\u001b[0m\u001b[0;34m:\u001b[0m\u001b[0;34m\u001b[0m\u001b[0;34m\u001b[0m\u001b[0m\n\u001b[0;32m--> 130\u001b[0;31m                 \u001b[0msent\u001b[0m \u001b[0;34m=\u001b[0m \u001b[0mself\u001b[0m\u001b[0;34m.\u001b[0m\u001b[0m_sock\u001b[0m\u001b[0;34m.\u001b[0m\u001b[0msend\u001b[0m\u001b[0;34m(\u001b[0m\u001b[0mdata\u001b[0m\u001b[0;34m)\u001b[0m\u001b[0;34m\u001b[0m\u001b[0;34m\u001b[0m\u001b[0m\n\u001b[0m\u001b[1;32m    131\u001b[0m                 \u001b[0;31m# sent equal to 0 indicates a closed socket\u001b[0m\u001b[0;34m\u001b[0m\u001b[0;34m\u001b[0m\u001b[0m\n\u001b[1;32m    132\u001b[0m                 \u001b[0;32mif\u001b[0m \u001b[0msent\u001b[0m \u001b[0;34m==\u001b[0m \u001b[0;36m0\u001b[0m\u001b[0;34m:\u001b[0m\u001b[0;34m\u001b[0m\u001b[0;34m\u001b[0m\u001b[0m\n",
      "\u001b[0;31mBrokenPipeError\u001b[0m: [Errno 32] Broken pipe"
     ]
    },
    {
     "name": "stdout",
     "output_type": "stream",
     "text": [
      "Num GPUs Available:  0\n"
     ]
    },
    {
     "data": {
      "text/html": [
       "Changes to your `wandb` environment variables will be ignored because your `wandb` session has already started. For more information on how to modify your settings with `wandb.init()` arguments, please refer to <a href=\"https://wandb.me/wandb-init\" target=\"_blank\">the W&B docs</a>."
      ],
      "text/plain": [
       "<IPython.core.display.HTML object>"
      ]
     },
     "metadata": {},
     "output_type": "display_data"
    },
    {
     "name": "stderr",
     "output_type": "stream",
     "text": [
      "\u001b[34m\u001b[1mwandb\u001b[0m: \u001b[33mWARNING\u001b[0m Ignored wandb.init() arg project when running a sweep.\n",
      "\u001b[34m\u001b[1mwandb\u001b[0m: \u001b[33mWARNING\u001b[0m Ignored wandb.init() arg entity when running a sweep.\n"
     ]
    },
    {
     "data": {
      "text/html": [
       "Tracking run with wandb version 0.13.5"
      ],
      "text/plain": [
       "<IPython.core.display.HTML object>"
      ]
     },
     "metadata": {},
     "output_type": "display_data"
    },
    {
     "data": {
      "text/html": [
       "Run data is saved locally in <code>/home/oscar47/Desktop/astro101/wandb/run-20221116_212016-aj5imyy8</code>"
      ],
      "text/plain": [
       "<IPython.core.display.HTML object>"
      ]
     },
     "metadata": {},
     "output_type": "display_data"
    },
    {
     "data": {
      "text/html": [
       "Syncing run <strong><a href=\"https://wandb.ai/oscarscholin/Astro101_Project/runs/aj5imyy8\" target=\"_blank\">prime-sweep-3</a></strong> to <a href=\"https://wandb.ai/oscarscholin/Astro101_Project\" target=\"_blank\">Weights & Biases</a> (<a href=\"https://wandb.me/run\" target=\"_blank\">docs</a>)<br/>Sweep page:  <a href=\"https://wandb.ai/oscarscholin/Astro101_Project/sweeps/lknu1984\" target=\"_blank\">https://wandb.ai/oscarscholin/Astro101_Project/sweeps/lknu1984</a>"
      ],
      "text/plain": [
       "<IPython.core.display.HTML object>"
      ]
     },
     "metadata": {},
     "output_type": "display_data"
    },
    {
     "name": "stderr",
     "output_type": "stream",
     "text": [
      "\u001b[34m\u001b[1mwandb\u001b[0m: \u001b[33mWARNING\u001b[0m Malformed sweep config detected! This may cause your sweep to behave in unexpected ways.\n",
      "\u001b[34m\u001b[1mwandb\u001b[0m: \u001b[33mWARNING\u001b[0m To avoid this, please fix the sweep config schema violations below:\n",
      "\u001b[34m\u001b[1mwandb\u001b[0m: \u001b[33mWARNING\u001b[0m   Violation 1. Additional properties are not allowed ('goal' was unexpected)\n",
      "\u001b[34m\u001b[1mwandb\u001b[0m: \u001b[33mWARNING\u001b[0m   Violation 2. 'val_accuracy' is not of type 'object'\n",
      "\u001b[34m\u001b[1mwandb\u001b[0m: \u001b[33mWARNING\u001b[0m Calling wandb.login() after wandb.init() has no effect.\n"
     ]
    },
    {
     "name": "stdout",
     "output_type": "stream",
     "text": [
      "Create sweep with ID: 3ouqvjl5\n",
      "Sweep URL: https://wandb.ai/oscarscholin/Astro101_Project/sweeps/3ouqvjl5\n"
     ]
    },
    {
     "name": "stderr",
     "output_type": "stream",
     "text": [
      "wandb: Waiting for W&B process to finish... (success).\n",
      "wandb: Synced prime-sweep-3: https://wandb.ai/oscarscholin/Astro101_Project/runs/aj5imyy8\n",
      "wandb: Synced 6 W&B file(s), 0 media file(s), 0 artifact file(s) and 0 other file(s)\n",
      "wandb: Find logs at: ./wandb/run-20221116_212016-aj5imyy8/logs\n",
      "\u001b[34m\u001b[1mwandb\u001b[0m: Agent Starting Run: l84eyhj6 with config:\n",
      "\u001b[34m\u001b[1mwandb\u001b[0m: \tbatch_size: 165\n",
      "\u001b[34m\u001b[1mwandb\u001b[0m: \tdropout: 0.12668728598320972\n",
      "\u001b[34m\u001b[1mwandb\u001b[0m: \tepochs: 13\n",
      "\u001b[34m\u001b[1mwandb\u001b[0m: \tlearning_rate: 0.0834106952585986\n",
      "\u001b[34m\u001b[1mwandb\u001b[0m: \tsize_1: 78\n",
      "\u001b[34m\u001b[1mwandb\u001b[0m: \tsize_2: 100\n",
      "\u001b[34m\u001b[1mwandb\u001b[0m: \tsize_3: 100\n",
      "\u001b[34m\u001b[1mwandb\u001b[0m: \tsize_4: 93\n",
      "\u001b[34m\u001b[1mwandb\u001b[0m: \tsize_5: 132\n"
     ]
    },
    {
     "data": {
      "text/html": [
       "Tracking run with wandb version 0.13.5"
      ],
      "text/plain": [
       "<IPython.core.display.HTML object>"
      ]
     },
     "metadata": {},
     "output_type": "display_data"
    },
    {
     "data": {
      "text/html": [
       "Run data is saved locally in <code>/home/oscar47/Desktop/astro101/wandb/run-20221116_212026-l84eyhj6</code>"
      ],
      "text/plain": [
       "<IPython.core.display.HTML object>"
      ]
     },
     "metadata": {},
     "output_type": "display_data"
    },
    {
     "data": {
      "text/html": [
       "Syncing run <strong><a href=\"https://wandb.ai/oscarscholin/Astro101_Project/runs/l84eyhj6\" target=\"_blank\">golden-sweep-1</a></strong> to <a href=\"https://wandb.ai/oscarscholin/Astro101_Project\" target=\"_blank\">Weights & Biases</a> (<a href=\"https://wandb.me/run\" target=\"_blank\">docs</a>)<br/>Sweep page:  <a href=\"https://wandb.ai/oscarscholin/Astro101_Project/sweeps/3ouqvjl5\" target=\"_blank\">https://wandb.ai/oscarscholin/Astro101_Project/sweeps/3ouqvjl5</a>"
      ],
      "text/plain": [
       "<IPython.core.display.HTML object>"
      ]
     },
     "metadata": {},
     "output_type": "display_data"
    },
    {
     "name": "stdout",
     "output_type": "stream",
     "text": [
      "Epoch 1/13\n",
      "871/889 [============================>.] - ETA: 0s - loss: 519.6530INFO:tensorflow:Assets written to: /home/oscar47/Desktop/astro101/wandb/run-20221116_212026-l84eyhj6/files/model-best/assets\n"
     ]
    },
    {
     "name": "stderr",
     "output_type": "stream",
     "text": [
      "\u001b[34m\u001b[1mwandb\u001b[0m: Adding directory to artifact (/home/oscar47/Desktop/astro101/wandb/run-20221116_212026-l84eyhj6/files/model-best)... Done. 0.0s\n"
     ]
    },
    {
     "name": "stdout",
     "output_type": "stream",
     "text": [
      "889/889 [==============================] - 2s 2ms/step - loss: 509.5614 - val_loss: 0.9882\n",
      "Epoch 2/13\n",
      "889/889 [==============================] - 1s 1ms/step - loss: 1.0335 - val_loss: 1.0835\n",
      "Epoch 3/13\n",
      "884/889 [============================>.] - ETA: 0s - loss: 0.8871INFO:tensorflow:Assets written to: /home/oscar47/Desktop/astro101/wandb/run-20221116_212026-l84eyhj6/files/model-best/assets\n"
     ]
    },
    {
     "name": "stderr",
     "output_type": "stream",
     "text": [
      "\u001b[34m\u001b[1mwandb\u001b[0m: Adding directory to artifact (/home/oscar47/Desktop/astro101/wandb/run-20221116_212026-l84eyhj6/files/model-best)... Done. 0.0s\n"
     ]
    },
    {
     "name": "stdout",
     "output_type": "stream",
     "text": [
      "889/889 [==============================] - 2s 2ms/step - loss: 0.8872 - val_loss: 0.8104\n",
      "Epoch 4/13\n",
      "887/889 [============================>.] - ETA: 0s - loss: 0.8395INFO:tensorflow:Assets written to: /home/oscar47/Desktop/astro101/wandb/run-20221116_212026-l84eyhj6/files/model-best/assets\n"
     ]
    },
    {
     "name": "stderr",
     "output_type": "stream",
     "text": [
      "\u001b[34m\u001b[1mwandb\u001b[0m: Adding directory to artifact (/home/oscar47/Desktop/astro101/wandb/run-20221116_212026-l84eyhj6/files/model-best)... Done. 0.0s\n"
     ]
    },
    {
     "name": "stdout",
     "output_type": "stream",
     "text": [
      "889/889 [==============================] - 2s 3ms/step - loss: 0.8394 - val_loss: 0.7512\n",
      "Epoch 5/13\n",
      "889/889 [==============================] - 1s 1ms/step - loss: 0.8065 - val_loss: 0.7690\n",
      "Epoch 6/13\n",
      "889/889 [==============================] - 1s 1ms/step - loss: 42519468.0000 - val_loss: 611186.1875\n",
      "Epoch 7/13\n",
      "889/889 [==============================] - 1s 2ms/step - loss: 198683.5625 - val_loss: 50541.3477\n",
      "Epoch 8/13\n",
      "889/889 [==============================] - 1s 2ms/step - loss: 59929.5391 - val_loss: 20798.0137\n",
      "Epoch 9/13\n",
      "889/889 [==============================] - 1s 2ms/step - loss: 31751.6777 - val_loss: 9074.6914\n",
      "Epoch 10/13\n",
      "889/889 [==============================] - 1s 2ms/step - loss: 19535.9941 - val_loss: 13454.6797\n",
      "Epoch 11/13\n",
      "889/889 [==============================] - 1s 2ms/step - loss: 12263.0176 - val_loss: 7687.4878\n",
      "Epoch 12/13\n",
      "889/889 [==============================] - 1s 2ms/step - loss: 9142.0127 - val_loss: 3599.0137\n",
      "Epoch 13/13\n",
      "889/889 [==============================] - 1s 2ms/step - loss: 74926024.0000 - val_loss: 1085177.5000\n"
     ]
    },
    {
     "data": {
      "text/html": [
       "Waiting for W&B process to finish... <strong style=\"color:green\">(success).</strong>"
      ],
      "text/plain": [
       "<IPython.core.display.HTML object>"
      ]
     },
     "metadata": {},
     "output_type": "display_data"
    },
    {
     "data": {
      "application/vnd.jupyter.widget-view+json": {
       "model_id": "c1ae5850411442348ee9d77fcb5c7d84",
       "version_major": 2,
       "version_minor": 0
      },
      "text/plain": [
       "VBox(children=(Label(value='2.682 MB of 2.682 MB uploaded (0.016 MB deduped)\\r'), FloatProgress(value=1.0, max…"
      ]
     },
     "metadata": {},
     "output_type": "display_data"
    },
    {
     "data": {
      "text/html": [
       "<style>\n",
       "    table.wandb td:nth-child(1) { padding: 0 10px; text-align: left ; width: auto;} td:nth-child(2) {text-align: left ; width: 100%}\n",
       "    .wandb-row { display: flex; flex-direction: row; flex-wrap: wrap; justify-content: flex-start; width: 100% }\n",
       "    .wandb-col { display: flex; flex-direction: column; flex-basis: 100%; flex: 1; padding: 10px; }\n",
       "    </style>\n",
       "<div class=\"wandb-row\"><div class=\"wandb-col\"><h3>Run history:</h3><br/><table class=\"wandb\"><tr><td>epoch</td><td>▁▂▂▃▃▄▅▅▆▆▇▇█</td></tr><tr><td>loss</td><td>▁▁▁▁▁▅▁▁▁▁▁▁█</td></tr><tr><td>val_loss</td><td>▁▁▁▁▁▅▁▁▁▁▁▁█</td></tr></table><br/></div><div class=\"wandb-col\"><h3>Run summary:</h3><br/><table class=\"wandb\"><tr><td>best_epoch</td><td>3</td></tr><tr><td>best_val_loss</td><td>0.75123</td></tr><tr><td>epoch</td><td>12</td></tr><tr><td>loss</td><td>74926024.0</td></tr><tr><td>val_loss</td><td>1085177.5</td></tr></table><br/></div></div>"
      ],
      "text/plain": [
       "<IPython.core.display.HTML object>"
      ]
     },
     "metadata": {},
     "output_type": "display_data"
    },
    {
     "data": {
      "text/html": [
       "Synced <strong style=\"color:#cdcd00\">golden-sweep-1</strong>: <a href=\"https://wandb.ai/oscarscholin/Astro101_Project/runs/l84eyhj6\" target=\"_blank\">https://wandb.ai/oscarscholin/Astro101_Project/runs/l84eyhj6</a><br/>Synced 6 W&B file(s), 1 media file(s), 10 artifact file(s) and 1 other file(s)"
      ],
      "text/plain": [
       "<IPython.core.display.HTML object>"
      ]
     },
     "metadata": {},
     "output_type": "display_data"
    },
    {
     "data": {
      "text/html": [
       "Find logs at: <code>./wandb/run-20221116_212026-l84eyhj6/logs</code>"
      ],
      "text/plain": [
       "<IPython.core.display.HTML object>"
      ]
     },
     "metadata": {},
     "output_type": "display_data"
    },
    {
     "name": "stderr",
     "output_type": "stream",
     "text": [
      "\u001b[34m\u001b[1mwandb\u001b[0m: Agent Starting Run: 0naxjrfn with config:\n",
      "\u001b[34m\u001b[1mwandb\u001b[0m: \tbatch_size: 115\n",
      "\u001b[34m\u001b[1mwandb\u001b[0m: \tdropout: 0.434921089715962\n",
      "\u001b[34m\u001b[1mwandb\u001b[0m: \tepochs: 14\n",
      "\u001b[34m\u001b[1mwandb\u001b[0m: \tlearning_rate: 0.03175644604834093\n",
      "\u001b[34m\u001b[1mwandb\u001b[0m: \tsize_1: 74\n",
      "\u001b[34m\u001b[1mwandb\u001b[0m: \tsize_2: 157\n",
      "\u001b[34m\u001b[1mwandb\u001b[0m: \tsize_3: 231\n",
      "\u001b[34m\u001b[1mwandb\u001b[0m: \tsize_4: 69\n",
      "\u001b[34m\u001b[1mwandb\u001b[0m: \tsize_5: 116\n"
     ]
    },
    {
     "data": {
      "text/html": [
       "Tracking run with wandb version 0.13.5"
      ],
      "text/plain": [
       "<IPython.core.display.HTML object>"
      ]
     },
     "metadata": {},
     "output_type": "display_data"
    },
    {
     "data": {
      "text/html": [
       "Run data is saved locally in <code>/home/oscar47/Desktop/astro101/wandb/run-20221116_212058-0naxjrfn</code>"
      ],
      "text/plain": [
       "<IPython.core.display.HTML object>"
      ]
     },
     "metadata": {},
     "output_type": "display_data"
    },
    {
     "data": {
      "text/html": [
       "Syncing run <strong><a href=\"https://wandb.ai/oscarscholin/Astro101_Project/runs/0naxjrfn\" target=\"_blank\">lucky-sweep-2</a></strong> to <a href=\"https://wandb.ai/oscarscholin/Astro101_Project\" target=\"_blank\">Weights & Biases</a> (<a href=\"https://wandb.me/run\" target=\"_blank\">docs</a>)<br/>Sweep page:  <a href=\"https://wandb.ai/oscarscholin/Astro101_Project/sweeps/3ouqvjl5\" target=\"_blank\">https://wandb.ai/oscarscholin/Astro101_Project/sweeps/3ouqvjl5</a>"
      ],
      "text/plain": [
       "<IPython.core.display.HTML object>"
      ]
     },
     "metadata": {},
     "output_type": "display_data"
    },
    {
     "name": "stdout",
     "output_type": "stream",
     "text": [
      "Epoch 1/14\n",
      "1245/1275 [============================>.] - ETA: 0s - loss: 2.0365INFO:tensorflow:Assets written to: /home/oscar47/Desktop/astro101/wandb/run-20221116_212058-0naxjrfn/files/model-best/assets\n"
     ]
    },
    {
     "name": "stderr",
     "output_type": "stream",
     "text": [
      "\u001b[34m\u001b[1mwandb\u001b[0m: Adding directory to artifact (/home/oscar47/Desktop/astro101/wandb/run-20221116_212058-0naxjrfn/files/model-best)... Done. 0.0s\n"
     ]
    },
    {
     "name": "stdout",
     "output_type": "stream",
     "text": [
      "1275/1275 [==============================] - 3s 2ms/step - loss: 2.0079 - val_loss: 0.7944\n",
      "Epoch 2/14\n",
      "1275/1275 [==============================] - ETA: 0s - loss: 0.8138INFO:tensorflow:Assets written to: /home/oscar47/Desktop/astro101/wandb/run-20221116_212058-0naxjrfn/files/model-best/assets\n"
     ]
    },
    {
     "name": "stderr",
     "output_type": "stream",
     "text": [
      "\u001b[34m\u001b[1mwandb\u001b[0m: Adding directory to artifact (/home/oscar47/Desktop/astro101/wandb/run-20221116_212058-0naxjrfn/files/model-best)... Done. 0.0s\n"
     ]
    },
    {
     "name": "stdout",
     "output_type": "stream",
     "text": [
      "1275/1275 [==============================] - 3s 2ms/step - loss: 0.8138 - val_loss: 0.7536\n",
      "Epoch 3/14\n",
      "1275/1275 [==============================] - 2s 2ms/step - loss: 0.8575 - val_loss: 0.8046\n",
      "Epoch 4/14\n",
      "1275/1275 [==============================] - 2s 2ms/step - loss: 479875.5625 - val_loss: 1089973.8750\n",
      "Epoch 5/14\n",
      "1275/1275 [==============================] - 2s 2ms/step - loss: 11114.7227 - val_loss: 1299.9490\n",
      "Epoch 6/14\n",
      "1275/1275 [==============================] - 2s 2ms/step - loss: 1093.3553 - val_loss: 322.9384\n",
      "Epoch 7/14\n",
      "1275/1275 [==============================] - 2s 2ms/step - loss: 544.8572 - val_loss: 202.5610\n",
      "Epoch 8/14\n",
      "1275/1275 [==============================] - 2s 2ms/step - loss: 283.9189 - val_loss: 136.9441\n",
      "Epoch 9/14\n",
      "1275/1275 [==============================] - 2s 2ms/step - loss: 143.7196 - val_loss: 68.1378\n",
      "Epoch 10/14\n",
      "1275/1275 [==============================] - 2s 2ms/step - loss: 79.5548 - val_loss: 41.4943\n",
      "Epoch 11/14\n",
      "1275/1275 [==============================] - 2s 2ms/step - loss: 47.3279 - val_loss: 18.9870\n",
      "Epoch 12/14\n",
      "1275/1275 [==============================] - 2s 2ms/step - loss: 273828.0625 - val_loss: 2037.1770\n",
      "Epoch 13/14\n",
      "1275/1275 [==============================] - 2s 2ms/step - loss: 1272.4288 - val_loss: 472.3700\n",
      "Epoch 14/14\n",
      "1275/1275 [==============================] - 2s 2ms/step - loss: 540.7932 - val_loss: 184.0999\n"
     ]
    },
    {
     "data": {
      "text/html": [
       "Waiting for W&B process to finish... <strong style=\"color:green\">(success).</strong>"
      ],
      "text/plain": [
       "<IPython.core.display.HTML object>"
      ]
     },
     "metadata": {},
     "output_type": "display_data"
    },
    {
     "data": {
      "application/vnd.jupyter.widget-view+json": {
       "model_id": "52995180b7194441823bd9bf449613df",
       "version_major": 2,
       "version_minor": 0
      },
      "text/plain": [
       "VBox(children=(Label(value='3.092 MB of 3.092 MB uploaded (0.016 MB deduped)\\r'), FloatProgress(value=1.0, max…"
      ]
     },
     "metadata": {},
     "output_type": "display_data"
    },
    {
     "data": {
      "text/html": [
       "<style>\n",
       "    table.wandb td:nth-child(1) { padding: 0 10px; text-align: left ; width: auto;} td:nth-child(2) {text-align: left ; width: 100%}\n",
       "    .wandb-row { display: flex; flex-direction: row; flex-wrap: wrap; justify-content: flex-start; width: 100% }\n",
       "    .wandb-col { display: flex; flex-direction: column; flex-basis: 100%; flex: 1; padding: 10px; }\n",
       "    </style>\n",
       "<div class=\"wandb-row\"><div class=\"wandb-col\"><h3>Run history:</h3><br/><table class=\"wandb\"><tr><td>epoch</td><td>▁▂▂▃▃▄▄▅▅▆▆▇▇█</td></tr><tr><td>loss</td><td>▁▁▁█▁▁▁▁▁▁▁▅▁▁</td></tr><tr><td>val_loss</td><td>▁▁▁█▁▁▁▁▁▁▁▁▁▁</td></tr></table><br/></div><div class=\"wandb-col\"><h3>Run summary:</h3><br/><table class=\"wandb\"><tr><td>best_epoch</td><td>1</td></tr><tr><td>best_val_loss</td><td>0.75364</td></tr><tr><td>epoch</td><td>13</td></tr><tr><td>loss</td><td>540.79315</td></tr><tr><td>val_loss</td><td>184.09985</td></tr></table><br/></div></div>"
      ],
      "text/plain": [
       "<IPython.core.display.HTML object>"
      ]
     },
     "metadata": {},
     "output_type": "display_data"
    },
    {
     "data": {
      "text/html": [
       "Synced <strong style=\"color:#cdcd00\">lucky-sweep-2</strong>: <a href=\"https://wandb.ai/oscarscholin/Astro101_Project/runs/0naxjrfn\" target=\"_blank\">https://wandb.ai/oscarscholin/Astro101_Project/runs/0naxjrfn</a><br/>Synced 6 W&B file(s), 1 media file(s), 7 artifact file(s) and 1 other file(s)"
      ],
      "text/plain": [
       "<IPython.core.display.HTML object>"
      ]
     },
     "metadata": {},
     "output_type": "display_data"
    },
    {
     "data": {
      "text/html": [
       "Find logs at: <code>./wandb/run-20221116_212058-0naxjrfn/logs</code>"
      ],
      "text/plain": [
       "<IPython.core.display.HTML object>"
      ]
     },
     "metadata": {},
     "output_type": "display_data"
    },
    {
     "name": "stderr",
     "output_type": "stream",
     "text": [
      "\u001b[34m\u001b[1mwandb\u001b[0m: Agent Starting Run: jw5dm7am with config:\n",
      "\u001b[34m\u001b[1mwandb\u001b[0m: \tbatch_size: 205\n",
      "\u001b[34m\u001b[1mwandb\u001b[0m: \tdropout: 0.03970718481056299\n",
      "\u001b[34m\u001b[1mwandb\u001b[0m: \tepochs: 13\n",
      "\u001b[34m\u001b[1mwandb\u001b[0m: \tlearning_rate: 0.035029843582812005\n",
      "\u001b[34m\u001b[1mwandb\u001b[0m: \tsize_1: 220\n",
      "\u001b[34m\u001b[1mwandb\u001b[0m: \tsize_2: 160\n",
      "\u001b[34m\u001b[1mwandb\u001b[0m: \tsize_3: 156\n",
      "\u001b[34m\u001b[1mwandb\u001b[0m: \tsize_4: 77\n",
      "\u001b[34m\u001b[1mwandb\u001b[0m: \tsize_5: 197\n"
     ]
    },
    {
     "data": {
      "text/html": [
       "Tracking run with wandb version 0.13.5"
      ],
      "text/plain": [
       "<IPython.core.display.HTML object>"
      ]
     },
     "metadata": {},
     "output_type": "display_data"
    },
    {
     "data": {
      "text/html": [
       "Run data is saved locally in <code>/home/oscar47/Desktop/astro101/wandb/run-20221116_212139-jw5dm7am</code>"
      ],
      "text/plain": [
       "<IPython.core.display.HTML object>"
      ]
     },
     "metadata": {},
     "output_type": "display_data"
    },
    {
     "data": {
      "text/html": [
       "Syncing run <strong><a href=\"https://wandb.ai/oscarscholin/Astro101_Project/runs/jw5dm7am\" target=\"_blank\">expert-sweep-3</a></strong> to <a href=\"https://wandb.ai/oscarscholin/Astro101_Project\" target=\"_blank\">Weights & Biases</a> (<a href=\"https://wandb.me/run\" target=\"_blank\">docs</a>)<br/>Sweep page:  <a href=\"https://wandb.ai/oscarscholin/Astro101_Project/sweeps/3ouqvjl5\" target=\"_blank\">https://wandb.ai/oscarscholin/Astro101_Project/sweeps/3ouqvjl5</a>"
      ],
      "text/plain": [
       "<IPython.core.display.HTML object>"
      ]
     },
     "metadata": {},
     "output_type": "display_data"
    },
    {
     "name": "stdout",
     "output_type": "stream",
     "text": [
      "Epoch 1/13\n",
      "698/715 [============================>.] - ETA: 0s - loss: 46.4172INFO:tensorflow:Assets written to: /home/oscar47/Desktop/astro101/wandb/run-20221116_212139-jw5dm7am/files/model-best/assets\n"
     ]
    },
    {
     "name": "stderr",
     "output_type": "stream",
     "text": [
      "\u001b[34m\u001b[1mwandb\u001b[0m: Adding directory to artifact (/home/oscar47/Desktop/astro101/wandb/run-20221116_212139-jw5dm7am/files/model-best)... Done. 0.0s\n"
     ]
    },
    {
     "name": "stdout",
     "output_type": "stream",
     "text": [
      "715/715 [==============================] - 2s 3ms/step - loss: 45.3364 - val_loss: 0.8067\n",
      "Epoch 2/13\n",
      "697/715 [============================>.] - ETA: 0s - loss: 0.7935INFO:tensorflow:Assets written to: /home/oscar47/Desktop/astro101/wandb/run-20221116_212139-jw5dm7am/files/model-best/assets\n"
     ]
    },
    {
     "name": "stderr",
     "output_type": "stream",
     "text": [
      "\u001b[34m\u001b[1mwandb\u001b[0m: Adding directory to artifact (/home/oscar47/Desktop/astro101/wandb/run-20221116_212139-jw5dm7am/files/model-best)... Done. 0.0s\n"
     ]
    },
    {
     "name": "stdout",
     "output_type": "stream",
     "text": [
      "715/715 [==============================] - 2s 3ms/step - loss: 0.7926 - val_loss: 0.7543\n",
      "Epoch 3/13\n",
      "698/715 [============================>.] - ETA: 0s - loss: 0.7608INFO:tensorflow:Assets written to: /home/oscar47/Desktop/astro101/wandb/run-20221116_212139-jw5dm7am/files/model-best/assets\n"
     ]
    },
    {
     "name": "stderr",
     "output_type": "stream",
     "text": [
      "\u001b[34m\u001b[1mwandb\u001b[0m: Adding directory to artifact (/home/oscar47/Desktop/astro101/wandb/run-20221116_212139-jw5dm7am/files/model-best)... Done. 0.0s\n"
     ]
    },
    {
     "name": "stdout",
     "output_type": "stream",
     "text": [
      "715/715 [==============================] - 2s 3ms/step - loss: 0.7619 - val_loss: 0.7203\n",
      "Epoch 4/13\n",
      "704/715 [============================>.] - ETA: 0s - loss: 0.7427INFO:tensorflow:Assets written to: /home/oscar47/Desktop/astro101/wandb/run-20221116_212139-jw5dm7am/files/model-best/assets\n"
     ]
    },
    {
     "name": "stderr",
     "output_type": "stream",
     "text": [
      "\u001b[34m\u001b[1mwandb\u001b[0m: Adding directory to artifact (/home/oscar47/Desktop/astro101/wandb/run-20221116_212139-jw5dm7am/files/model-best)... Done. 0.0s\n"
     ]
    },
    {
     "name": "stdout",
     "output_type": "stream",
     "text": [
      "715/715 [==============================] - 2s 3ms/step - loss: 0.7427 - val_loss: 0.7071\n",
      "Epoch 5/13\n",
      "715/715 [==============================] - 2s 2ms/step - loss: 0.7272 - val_loss: 0.7194\n",
      "Epoch 6/13\n",
      "696/715 [============================>.] - ETA: 0s - loss: 0.7234INFO:tensorflow:Assets written to: /home/oscar47/Desktop/astro101/wandb/run-20221116_212139-jw5dm7am/files/model-best/assets\n"
     ]
    },
    {
     "name": "stderr",
     "output_type": "stream",
     "text": [
      "\u001b[34m\u001b[1mwandb\u001b[0m: Adding directory to artifact (/home/oscar47/Desktop/astro101/wandb/run-20221116_212139-jw5dm7am/files/model-best)... Done. 0.0s\n"
     ]
    },
    {
     "name": "stdout",
     "output_type": "stream",
     "text": [
      "715/715 [==============================] - 2s 3ms/step - loss: 0.7236 - val_loss: 0.7038\n",
      "Epoch 7/13\n",
      "715/715 [==============================] - 2s 2ms/step - loss: 0.7224 - val_loss: 0.7585\n",
      "Epoch 8/13\n",
      "715/715 [==============================] - 2s 2ms/step - loss: 0.7256 - val_loss: 0.7350\n",
      "Epoch 9/13\n",
      "715/715 [==============================] - 2s 2ms/step - loss: 0.7341 - val_loss: 0.7384\n",
      "Epoch 10/13\n",
      "715/715 [==============================] - 2s 2ms/step - loss: 0.7376 - val_loss: 0.8775\n",
      "Epoch 11/13\n",
      "715/715 [==============================] - 2s 2ms/step - loss: 0.7560 - val_loss: 0.8047\n",
      "Epoch 12/13\n",
      "715/715 [==============================] - 2s 2ms/step - loss: 0.7577 - val_loss: 0.7445\n",
      "Epoch 13/13\n",
      "715/715 [==============================] - 2s 2ms/step - loss: 14451442.0000 - val_loss: 37481.3438\n"
     ]
    },
    {
     "data": {
      "text/html": [
       "Waiting for W&B process to finish... <strong style=\"color:green\">(success).</strong>"
      ],
      "text/plain": [
       "<IPython.core.display.HTML object>"
      ]
     },
     "metadata": {},
     "output_type": "display_data"
    },
    {
     "data": {
      "application/vnd.jupyter.widget-view+json": {
       "model_id": "8a5f4fd9aac54febb76bdb407030e73e",
       "version_major": 2,
       "version_minor": 0
      },
      "text/plain": [
       "VBox(children=(Label(value='7.692 MB of 7.692 MB uploaded (0.016 MB deduped)\\r'), FloatProgress(value=1.0, max…"
      ]
     },
     "metadata": {},
     "output_type": "display_data"
    },
    {
     "data": {
      "text/html": [
       "<style>\n",
       "    table.wandb td:nth-child(1) { padding: 0 10px; text-align: left ; width: auto;} td:nth-child(2) {text-align: left ; width: 100%}\n",
       "    .wandb-row { display: flex; flex-direction: row; flex-wrap: wrap; justify-content: flex-start; width: 100% }\n",
       "    .wandb-col { display: flex; flex-direction: column; flex-basis: 100%; flex: 1; padding: 10px; }\n",
       "    </style>\n",
       "<div class=\"wandb-row\"><div class=\"wandb-col\"><h3>Run history:</h3><br/><table class=\"wandb\"><tr><td>epoch</td><td>▁▂▂▃▃▄▅▅▆▆▇▇█</td></tr><tr><td>loss</td><td>▁▁▁▁▁▁▁▁▁▁▁▁█</td></tr><tr><td>val_loss</td><td>▁▁▁▁▁▁▁▁▁▁▁▁█</td></tr></table><br/></div><div class=\"wandb-col\"><h3>Run summary:</h3><br/><table class=\"wandb\"><tr><td>best_epoch</td><td>5</td></tr><tr><td>best_val_loss</td><td>0.70376</td></tr><tr><td>epoch</td><td>12</td></tr><tr><td>loss</td><td>14451442.0</td></tr><tr><td>val_loss</td><td>37481.34375</td></tr></table><br/></div></div>"
      ],
      "text/plain": [
       "<IPython.core.display.HTML object>"
      ]
     },
     "metadata": {},
     "output_type": "display_data"
    },
    {
     "data": {
      "text/html": [
       "Synced <strong style=\"color:#cdcd00\">expert-sweep-3</strong>: <a href=\"https://wandb.ai/oscarscholin/Astro101_Project/runs/jw5dm7am\" target=\"_blank\">https://wandb.ai/oscarscholin/Astro101_Project/runs/jw5dm7am</a><br/>Synced 6 W&B file(s), 1 media file(s), 16 artifact file(s) and 1 other file(s)"
      ],
      "text/plain": [
       "<IPython.core.display.HTML object>"
      ]
     },
     "metadata": {},
     "output_type": "display_data"
    },
    {
     "data": {
      "text/html": [
       "Find logs at: <code>./wandb/run-20221116_212139-jw5dm7am/logs</code>"
      ],
      "text/plain": [
       "<IPython.core.display.HTML object>"
      ]
     },
     "metadata": {},
     "output_type": "display_data"
    },
    {
     "name": "stderr",
     "output_type": "stream",
     "text": [
      "\u001b[34m\u001b[1mwandb\u001b[0m: Agent Starting Run: 61ymtec1 with config:\n",
      "\u001b[34m\u001b[1mwandb\u001b[0m: \tbatch_size: 246\n",
      "\u001b[34m\u001b[1mwandb\u001b[0m: \tdropout: 0.2940922310053796\n",
      "\u001b[34m\u001b[1mwandb\u001b[0m: \tepochs: 13\n",
      "\u001b[34m\u001b[1mwandb\u001b[0m: \tlearning_rate: 0.033772180452815784\n",
      "\u001b[34m\u001b[1mwandb\u001b[0m: \tsize_1: 138\n",
      "\u001b[34m\u001b[1mwandb\u001b[0m: \tsize_2: 203\n",
      "\u001b[34m\u001b[1mwandb\u001b[0m: \tsize_3: 225\n",
      "\u001b[34m\u001b[1mwandb\u001b[0m: \tsize_4: 221\n",
      "\u001b[34m\u001b[1mwandb\u001b[0m: \tsize_5: 67\n"
     ]
    },
    {
     "data": {
      "text/html": [
       "Tracking run with wandb version 0.13.5"
      ],
      "text/plain": [
       "<IPython.core.display.HTML object>"
      ]
     },
     "metadata": {},
     "output_type": "display_data"
    },
    {
     "data": {
      "text/html": [
       "Run data is saved locally in <code>/home/oscar47/Desktop/astro101/wandb/run-20221116_212215-61ymtec1</code>"
      ],
      "text/plain": [
       "<IPython.core.display.HTML object>"
      ]
     },
     "metadata": {},
     "output_type": "display_data"
    },
    {
     "data": {
      "text/html": [
       "Syncing run <strong><a href=\"https://wandb.ai/oscarscholin/Astro101_Project/runs/61ymtec1\" target=\"_blank\">dauntless-sweep-4</a></strong> to <a href=\"https://wandb.ai/oscarscholin/Astro101_Project\" target=\"_blank\">Weights & Biases</a> (<a href=\"https://wandb.me/run\" target=\"_blank\">docs</a>)<br/>Sweep page:  <a href=\"https://wandb.ai/oscarscholin/Astro101_Project/sweeps/3ouqvjl5\" target=\"_blank\">https://wandb.ai/oscarscholin/Astro101_Project/sweeps/3ouqvjl5</a>"
      ],
      "text/plain": [
       "<IPython.core.display.HTML object>"
      ]
     },
     "metadata": {},
     "output_type": "display_data"
    },
    {
     "name": "stdout",
     "output_type": "stream",
     "text": [
      "Epoch 1/13\n",
      "583/596 [============================>.] - ETA: 0s - loss: 17.1464INFO:tensorflow:Assets written to: /home/oscar47/Desktop/astro101/wandb/run-20221116_212215-61ymtec1/files/model-best/assets\n"
     ]
    },
    {
     "name": "stderr",
     "output_type": "stream",
     "text": [
      "\u001b[34m\u001b[1mwandb\u001b[0m: Adding directory to artifact (/home/oscar47/Desktop/astro101/wandb/run-20221116_212215-61ymtec1/files/model-best)... Done. 0.0s\n"
     ]
    },
    {
     "name": "stdout",
     "output_type": "stream",
     "text": [
      "596/596 [==============================] - 3s 4ms/step - loss: 16.7958 - val_loss: 0.7669\n",
      "Epoch 2/13\n",
      "582/596 [============================>.] - ETA: 0s - loss: 0.7845INFO:tensorflow:Assets written to: /home/oscar47/Desktop/astro101/wandb/run-20221116_212215-61ymtec1/files/model-best/assets\n"
     ]
    },
    {
     "name": "stderr",
     "output_type": "stream",
     "text": [
      "\u001b[34m\u001b[1mwandb\u001b[0m: Adding directory to artifact (/home/oscar47/Desktop/astro101/wandb/run-20221116_212215-61ymtec1/files/model-best)... Done. 0.0s\n"
     ]
    },
    {
     "name": "stdout",
     "output_type": "stream",
     "text": [
      "596/596 [==============================] - 3s 5ms/step - loss: 0.7837 - val_loss: 0.7667\n",
      "Epoch 3/13\n",
      "580/596 [============================>.] - ETA: 0s - loss: 0.7583INFO:tensorflow:Assets written to: /home/oscar47/Desktop/astro101/wandb/run-20221116_212215-61ymtec1/files/model-best/assets\n"
     ]
    },
    {
     "name": "stderr",
     "output_type": "stream",
     "text": [
      "\u001b[34m\u001b[1mwandb\u001b[0m: Adding directory to artifact (/home/oscar47/Desktop/astro101/wandb/run-20221116_212215-61ymtec1/files/model-best)... Done. 0.0s\n"
     ]
    },
    {
     "name": "stdout",
     "output_type": "stream",
     "text": [
      "596/596 [==============================] - 2s 4ms/step - loss: 0.7586 - val_loss: 0.7309\n",
      "Epoch 4/13\n",
      "596/596 [==============================] - 2s 3ms/step - loss: 0.7434 - val_loss: 0.7685\n",
      "Epoch 5/13\n",
      "589/596 [============================>.] - ETA: 0s - loss: 0.7424INFO:tensorflow:Assets written to: /home/oscar47/Desktop/astro101/wandb/run-20221116_212215-61ymtec1/files/model-best/assets\n"
     ]
    },
    {
     "name": "stderr",
     "output_type": "stream",
     "text": [
      "\u001b[34m\u001b[1mwandb\u001b[0m: Adding directory to artifact (/home/oscar47/Desktop/astro101/wandb/run-20221116_212215-61ymtec1/files/model-best)... Done. 0.0s\n"
     ]
    },
    {
     "name": "stdout",
     "output_type": "stream",
     "text": [
      "596/596 [==============================] - 2s 4ms/step - loss: 0.7425 - val_loss: 0.7227\n",
      "Epoch 6/13\n",
      "596/596 [==============================] - 2s 3ms/step - loss: 0.7400 - val_loss: 0.7289\n",
      "Epoch 7/13\n",
      "596/596 [==============================] - 2s 3ms/step - loss: 0.7457 - val_loss: 0.7384\n",
      "Epoch 8/13\n",
      "596/596 [==============================] - 2s 3ms/step - loss: 0.7476 - val_loss: 0.7278\n",
      "Epoch 9/13\n",
      "596/596 [==============================] - 2s 3ms/step - loss: 0.7697 - val_loss: 0.7447\n",
      "Epoch 10/13\n",
      "596/596 [==============================] - 2s 3ms/step - loss: 0.7726 - val_loss: 0.7292\n",
      "Epoch 11/13\n",
      "596/596 [==============================] - 2s 3ms/step - loss: 0.7866 - val_loss: 0.7457\n",
      "Epoch 12/13\n",
      "596/596 [==============================] - 2s 3ms/step - loss: 0.7997 - val_loss: 0.7761\n",
      "Epoch 13/13\n",
      "596/596 [==============================] - 2s 3ms/step - loss: 0.8072 - val_loss: 0.8106\n"
     ]
    },
    {
     "data": {
      "text/html": [
       "Waiting for W&B process to finish... <strong style=\"color:green\">(success).</strong>"
      ],
      "text/plain": [
       "<IPython.core.display.HTML object>"
      ]
     },
     "metadata": {},
     "output_type": "display_data"
    },
    {
     "data": {
      "text/html": [
       "<style>\n",
       "    table.wandb td:nth-child(1) { padding: 0 10px; text-align: left ; width: auto;} td:nth-child(2) {text-align: left ; width: 100%}\n",
       "    .wandb-row { display: flex; flex-direction: row; flex-wrap: wrap; justify-content: flex-start; width: 100% }\n",
       "    .wandb-col { display: flex; flex-direction: column; flex-basis: 100%; flex: 1; padding: 10px; }\n",
       "    </style>\n",
       "<div class=\"wandb-row\"><div class=\"wandb-col\"><h3>Run history:</h3><br/><table class=\"wandb\"><tr><td>epoch</td><td>▁▂▂▃▃▄▅▅▆▆▇▇█</td></tr><tr><td>loss</td><td>█▁▁▁▁▁▁▁▁▁▁▁▁</td></tr><tr><td>val_loss</td><td>▅▅▂▅▁▁▂▁▃▂▃▅█</td></tr></table><br/></div><div class=\"wandb-col\"><h3>Run summary:</h3><br/><table class=\"wandb\"><tr><td>best_epoch</td><td>4</td></tr><tr><td>best_val_loss</td><td>0.72272</td></tr><tr><td>epoch</td><td>12</td></tr><tr><td>loss</td><td>0.80717</td></tr><tr><td>val_loss</td><td>0.81063</td></tr></table><br/></div></div>"
      ],
      "text/plain": [
       "<IPython.core.display.HTML object>"
      ]
     },
     "metadata": {},
     "output_type": "display_data"
    },
    {
     "data": {
      "text/html": [
       "Synced <strong style=\"color:#cdcd00\">dauntless-sweep-4</strong>: <a href=\"https://wandb.ai/oscarscholin/Astro101_Project/runs/61ymtec1\" target=\"_blank\">https://wandb.ai/oscarscholin/Astro101_Project/runs/61ymtec1</a><br/>Synced 6 W&B file(s), 1 media file(s), 13 artifact file(s) and 1 other file(s)"
      ],
      "text/plain": [
       "<IPython.core.display.HTML object>"
      ]
     },
     "metadata": {},
     "output_type": "display_data"
    },
    {
     "data": {
      "text/html": [
       "Find logs at: <code>./wandb/run-20221116_212215-61ymtec1/logs</code>"
      ],
      "text/plain": [
       "<IPython.core.display.HTML object>"
      ]
     },
     "metadata": {},
     "output_type": "display_data"
    },
    {
     "name": "stderr",
     "output_type": "stream",
     "text": [
      "\u001b[34m\u001b[1mwandb\u001b[0m: Agent Starting Run: 2x1hci7y with config:\n",
      "\u001b[34m\u001b[1mwandb\u001b[0m: \tbatch_size: 78\n",
      "\u001b[34m\u001b[1mwandb\u001b[0m: \tdropout: 0.3731875363171454\n",
      "\u001b[34m\u001b[1mwandb\u001b[0m: \tepochs: 12\n",
      "\u001b[34m\u001b[1mwandb\u001b[0m: \tlearning_rate: 0.015152746881137392\n",
      "\u001b[34m\u001b[1mwandb\u001b[0m: \tsize_1: 185\n",
      "\u001b[34m\u001b[1mwandb\u001b[0m: \tsize_2: 137\n",
      "\u001b[34m\u001b[1mwandb\u001b[0m: \tsize_3: 103\n",
      "\u001b[34m\u001b[1mwandb\u001b[0m: \tsize_4: 146\n",
      "\u001b[34m\u001b[1mwandb\u001b[0m: \tsize_5: 145\n"
     ]
    },
    {
     "data": {
      "text/html": [
       "Tracking run with wandb version 0.13.5"
      ],
      "text/plain": [
       "<IPython.core.display.HTML object>"
      ]
     },
     "metadata": {},
     "output_type": "display_data"
    },
    {
     "data": {
      "text/html": [
       "Run data is saved locally in <code>/home/oscar47/Desktop/astro101/wandb/run-20221116_212257-2x1hci7y</code>"
      ],
      "text/plain": [
       "<IPython.core.display.HTML object>"
      ]
     },
     "metadata": {},
     "output_type": "display_data"
    },
    {
     "data": {
      "text/html": [
       "Syncing run <strong><a href=\"https://wandb.ai/oscarscholin/Astro101_Project/runs/2x1hci7y\" target=\"_blank\">sweet-sweep-5</a></strong> to <a href=\"https://wandb.ai/oscarscholin/Astro101_Project\" target=\"_blank\">Weights & Biases</a> (<a href=\"https://wandb.me/run\" target=\"_blank\">docs</a>)<br/>Sweep page:  <a href=\"https://wandb.ai/oscarscholin/Astro101_Project/sweeps/3ouqvjl5\" target=\"_blank\">https://wandb.ai/oscarscholin/Astro101_Project/sweeps/3ouqvjl5</a>"
      ],
      "text/plain": [
       "<IPython.core.display.HTML object>"
      ]
     },
     "metadata": {},
     "output_type": "display_data"
    },
    {
     "name": "stdout",
     "output_type": "stream",
     "text": [
      "Epoch 1/12\n",
      "1856/1880 [============================>.] - ETA: 0s - loss: 0.9935INFO:tensorflow:Assets written to: /home/oscar47/Desktop/astro101/wandb/run-20221116_212257-2x1hci7y/files/model-best/assets\n"
     ]
    },
    {
     "name": "stderr",
     "output_type": "stream",
     "text": [
      "\u001b[34m\u001b[1mwandb\u001b[0m: Adding directory to artifact (/home/oscar47/Desktop/astro101/wandb/run-20221116_212257-2x1hci7y/files/model-best)... Done. 0.0s\n"
     ]
    },
    {
     "name": "stdout",
     "output_type": "stream",
     "text": [
      "1880/1880 [==============================] - 3s 2ms/step - loss: 0.9918 - val_loss: 0.8287\n",
      "Epoch 2/12\n",
      "1880/1880 [==============================] - 3s 1ms/step - loss: 3838.4998 - val_loss: 21.3952\n",
      "Epoch 3/12\n",
      "1880/1880 [==============================] - 3s 2ms/step - loss: 20.1653 - val_loss: 11.0001\n",
      "Epoch 4/12\n",
      "1880/1880 [==============================] - 3s 1ms/step - loss: 8.3820 - val_loss: 4.6577\n",
      "Epoch 5/12\n",
      "1880/1880 [==============================] - 3s 1ms/step - loss: 3.5238 - val_loss: 1.9382\n",
      "Epoch 6/12\n",
      "1880/1880 [==============================] - 3s 1ms/step - loss: 1.7817 - val_loss: 1.1764\n",
      "Epoch 7/12\n",
      "1880/1880 [==============================] - 3s 1ms/step - loss: 4273.6572 - val_loss: 75.8518\n",
      "Epoch 8/12\n",
      "1880/1880 [==============================] - 3s 1ms/step - loss: 31.7499 - val_loss: 10.9329\n",
      "Epoch 9/12\n",
      "1880/1880 [==============================] - 3s 2ms/step - loss: 14.0404 - val_loss: 4.9246\n",
      "Epoch 10/12\n",
      "1880/1880 [==============================] - 3s 2ms/step - loss: 7.5532 - val_loss: 38.0538\n",
      "Epoch 11/12\n",
      "1880/1880 [==============================] - 3s 1ms/step - loss: 4.1553 - val_loss: 1.4048\n",
      "Epoch 12/12\n",
      "1880/1880 [==============================] - 3s 1ms/step - loss: 3422.1985 - val_loss: 23.1515\n"
     ]
    },
    {
     "data": {
      "text/html": [
       "Waiting for W&B process to finish... <strong style=\"color:green\">(success).</strong>"
      ],
      "text/plain": [
       "<IPython.core.display.HTML object>"
      ]
     },
     "metadata": {},
     "output_type": "display_data"
    },
    {
     "data": {
      "text/html": [
       "<style>\n",
       "    table.wandb td:nth-child(1) { padding: 0 10px; text-align: left ; width: auto;} td:nth-child(2) {text-align: left ; width: 100%}\n",
       "    .wandb-row { display: flex; flex-direction: row; flex-wrap: wrap; justify-content: flex-start; width: 100% }\n",
       "    .wandb-col { display: flex; flex-direction: column; flex-basis: 100%; flex: 1; padding: 10px; }\n",
       "    </style>\n",
       "<div class=\"wandb-row\"><div class=\"wandb-col\"><h3>Run history:</h3><br/><table class=\"wandb\"><tr><td>epoch</td><td>▁▂▂▃▄▄▅▅▆▇▇█</td></tr><tr><td>loss</td><td>▁▇▁▁▁▁█▁▁▁▁▇</td></tr><tr><td>val_loss</td><td>▁▃▂▁▁▁█▂▁▄▁▃</td></tr></table><br/></div><div class=\"wandb-col\"><h3>Run summary:</h3><br/><table class=\"wandb\"><tr><td>best_epoch</td><td>0</td></tr><tr><td>best_val_loss</td><td>0.82866</td></tr><tr><td>epoch</td><td>11</td></tr><tr><td>loss</td><td>3422.19849</td></tr><tr><td>val_loss</td><td>23.15154</td></tr></table><br/></div></div>"
      ],
      "text/plain": [
       "<IPython.core.display.HTML object>"
      ]
     },
     "metadata": {},
     "output_type": "display_data"
    },
    {
     "data": {
      "text/html": [
       "Synced <strong style=\"color:#cdcd00\">sweet-sweep-5</strong>: <a href=\"https://wandb.ai/oscarscholin/Astro101_Project/runs/2x1hci7y\" target=\"_blank\">https://wandb.ai/oscarscholin/Astro101_Project/runs/2x1hci7y</a><br/>Synced 6 W&B file(s), 1 media file(s), 4 artifact file(s) and 1 other file(s)"
      ],
      "text/plain": [
       "<IPython.core.display.HTML object>"
      ]
     },
     "metadata": {},
     "output_type": "display_data"
    },
    {
     "data": {
      "text/html": [
       "Find logs at: <code>./wandb/run-20221116_212257-2x1hci7y/logs</code>"
      ],
      "text/plain": [
       "<IPython.core.display.HTML object>"
      ]
     },
     "metadata": {},
     "output_type": "display_data"
    },
    {
     "name": "stderr",
     "output_type": "stream",
     "text": [
      "\u001b[34m\u001b[1mwandb\u001b[0m: Agent Starting Run: qe2s3lqq with config:\n",
      "\u001b[34m\u001b[1mwandb\u001b[0m: \tbatch_size: 76\n",
      "\u001b[34m\u001b[1mwandb\u001b[0m: \tdropout: 0.1540037444321635\n",
      "\u001b[34m\u001b[1mwandb\u001b[0m: \tepochs: 18\n",
      "\u001b[34m\u001b[1mwandb\u001b[0m: \tlearning_rate: 0.06277051846853658\n",
      "\u001b[34m\u001b[1mwandb\u001b[0m: \tsize_1: 98\n",
      "\u001b[34m\u001b[1mwandb\u001b[0m: \tsize_2: 122\n",
      "\u001b[34m\u001b[1mwandb\u001b[0m: \tsize_3: 244\n",
      "\u001b[34m\u001b[1mwandb\u001b[0m: \tsize_4: 141\n",
      "\u001b[34m\u001b[1mwandb\u001b[0m: \tsize_5: 176\n"
     ]
    },
    {
     "data": {
      "text/html": [
       "Tracking run with wandb version 0.13.5"
      ],
      "text/plain": [
       "<IPython.core.display.HTML object>"
      ]
     },
     "metadata": {},
     "output_type": "display_data"
    },
    {
     "data": {
      "text/html": [
       "Run data is saved locally in <code>/home/oscar47/Desktop/astro101/wandb/run-20221116_212343-qe2s3lqq</code>"
      ],
      "text/plain": [
       "<IPython.core.display.HTML object>"
      ]
     },
     "metadata": {},
     "output_type": "display_data"
    },
    {
     "data": {
      "text/html": [
       "Syncing run <strong><a href=\"https://wandb.ai/oscarscholin/Astro101_Project/runs/qe2s3lqq\" target=\"_blank\">honest-sweep-6</a></strong> to <a href=\"https://wandb.ai/oscarscholin/Astro101_Project\" target=\"_blank\">Weights & Biases</a> (<a href=\"https://wandb.me/run\" target=\"_blank\">docs</a>)<br/>Sweep page:  <a href=\"https://wandb.ai/oscarscholin/Astro101_Project/sweeps/3ouqvjl5\" target=\"_blank\">https://wandb.ai/oscarscholin/Astro101_Project/sweeps/3ouqvjl5</a>"
      ],
      "text/plain": [
       "<IPython.core.display.HTML object>"
      ]
     },
     "metadata": {},
     "output_type": "display_data"
    },
    {
     "name": "stdout",
     "output_type": "stream",
     "text": [
      "Epoch 1/18\n",
      "1927/1929 [============================>.] - ETA: 0s - loss: 867.1446INFO:tensorflow:Assets written to: /home/oscar47/Desktop/astro101/wandb/run-20221116_212343-qe2s3lqq/files/model-best/assets\n"
     ]
    },
    {
     "name": "stderr",
     "output_type": "stream",
     "text": [
      "\u001b[34m\u001b[1mwandb\u001b[0m: Adding directory to artifact (/home/oscar47/Desktop/astro101/wandb/run-20221116_212343-qe2s3lqq/files/model-best)... Done. 0.0s\n"
     ]
    },
    {
     "name": "stdout",
     "output_type": "stream",
     "text": [
      "1929/1929 [==============================] - 4s 2ms/step - loss: 866.4652 - val_loss: 1.2084\n",
      "Epoch 2/18\n",
      "1923/1929 [============================>.] - ETA: 0s - loss: 1.3021INFO:tensorflow:Assets written to: /home/oscar47/Desktop/astro101/wandb/run-20221116_212343-qe2s3lqq/files/model-best/assets\n"
     ]
    },
    {
     "name": "stderr",
     "output_type": "stream",
     "text": [
      "\u001b[34m\u001b[1mwandb\u001b[0m: Adding directory to artifact (/home/oscar47/Desktop/astro101/wandb/run-20221116_212343-qe2s3lqq/files/model-best)... Done. 0.0s\n"
     ]
    },
    {
     "name": "stdout",
     "output_type": "stream",
     "text": [
      "1929/1929 [==============================] - 4s 2ms/step - loss: 1.3014 - val_loss: 0.9035\n",
      "Epoch 3/18\n",
      "1923/1929 [============================>.] - ETA: 0s - loss: 0.9624INFO:tensorflow:Assets written to: /home/oscar47/Desktop/astro101/wandb/run-20221116_212343-qe2s3lqq/files/model-best/assets\n"
     ]
    },
    {
     "name": "stderr",
     "output_type": "stream",
     "text": [
      "\u001b[34m\u001b[1mwandb\u001b[0m: Adding directory to artifact (/home/oscar47/Desktop/astro101/wandb/run-20221116_212343-qe2s3lqq/files/model-best)... Done. 0.0s\n"
     ]
    },
    {
     "name": "stdout",
     "output_type": "stream",
     "text": [
      "1929/1929 [==============================] - 4s 2ms/step - loss: 0.9619 - val_loss: 0.8431\n",
      "Epoch 4/18\n",
      "1929/1929 [==============================] - 3s 2ms/step - loss: 0.8529 - val_loss: 0.8941\n",
      "Epoch 5/18\n",
      "1929/1929 [==============================] - 3s 2ms/step - loss: 0.8180 - val_loss: 0.9984\n",
      "Epoch 6/18\n",
      "1929/1929 [==============================] - 3s 2ms/step - loss: 43651852.0000 - val_loss: 161049.4375\n",
      "Epoch 7/18\n",
      "1929/1929 [==============================] - 3s 2ms/step - loss: 113432.1094 - val_loss: 31146.2441\n",
      "Epoch 8/18\n",
      "1929/1929 [==============================] - 3s 2ms/step - loss: 34137.7539 - val_loss: 7071.6841\n",
      "Epoch 9/18\n",
      "1929/1929 [==============================] - 3s 2ms/step - loss: 121895.3438 - val_loss: 2330.6501\n",
      "Epoch 10/18\n",
      "1929/1929 [==============================] - 3s 2ms/step - loss: 2902.1816 - val_loss: 1529.5134\n",
      "Epoch 11/18\n",
      "1929/1929 [==============================] - 3s 2ms/step - loss: 31794238.0000 - val_loss: 121445.1406\n",
      "Epoch 12/18\n",
      "1929/1929 [==============================] - 3s 2ms/step - loss: 102124.1797 - val_loss: 90711.9062\n",
      "Epoch 13/18\n",
      "1929/1929 [==============================] - 3s 2ms/step - loss: 36013.1055 - val_loss: 19107.6797\n",
      "Epoch 14/18\n",
      "1929/1929 [==============================] - 3s 2ms/step - loss: 13224.3203 - val_loss: 24133.1289\n",
      "Epoch 15/18\n",
      "1929/1929 [==============================] - 3s 2ms/step - loss: 56189204.0000 - val_loss: 415051.8438\n",
      "Epoch 16/18\n",
      "1929/1929 [==============================] - 3s 2ms/step - loss: 180168.2969 - val_loss: 64083.7344\n",
      "Epoch 17/18\n",
      "1929/1929 [==============================] - 3s 2ms/step - loss: 80932.9531 - val_loss: 37161.7109\n",
      "Epoch 18/18\n",
      "1929/1929 [==============================] - 3s 2ms/step - loss: 31003.6484 - val_loss: 11086.9629\n"
     ]
    },
    {
     "data": {
      "text/html": [
       "Waiting for W&B process to finish... <strong style=\"color:green\">(success).</strong>"
      ],
      "text/plain": [
       "<IPython.core.display.HTML object>"
      ]
     },
     "metadata": {},
     "output_type": "display_data"
    },
    {
     "data": {
      "text/html": [
       "<style>\n",
       "    table.wandb td:nth-child(1) { padding: 0 10px; text-align: left ; width: auto;} td:nth-child(2) {text-align: left ; width: 100%}\n",
       "    .wandb-row { display: flex; flex-direction: row; flex-wrap: wrap; justify-content: flex-start; width: 100% }\n",
       "    .wandb-col { display: flex; flex-direction: column; flex-basis: 100%; flex: 1; padding: 10px; }\n",
       "    </style>\n",
       "<div class=\"wandb-row\"><div class=\"wandb-col\"><h3>Run history:</h3><br/><table class=\"wandb\"><tr><td>epoch</td><td>▁▁▂▂▃▃▃▄▄▅▅▆▆▆▇▇██</td></tr><tr><td>loss</td><td>▁▁▁▁▁▆▁▁▁▁▅▁▁▁█▁▁▁</td></tr><tr><td>val_loss</td><td>▁▁▁▁▁▄▂▁▁▁▃▃▁▁█▂▂▁</td></tr></table><br/></div><div class=\"wandb-col\"><h3>Run summary:</h3><br/><table class=\"wandb\"><tr><td>best_epoch</td><td>2</td></tr><tr><td>best_val_loss</td><td>0.84314</td></tr><tr><td>epoch</td><td>17</td></tr><tr><td>loss</td><td>31003.64844</td></tr><tr><td>val_loss</td><td>11086.96289</td></tr></table><br/></div></div>"
      ],
      "text/plain": [
       "<IPython.core.display.HTML object>"
      ]
     },
     "metadata": {},
     "output_type": "display_data"
    },
    {
     "data": {
      "text/html": [
       "Synced <strong style=\"color:#cdcd00\">honest-sweep-6</strong>: <a href=\"https://wandb.ai/oscarscholin/Astro101_Project/runs/qe2s3lqq\" target=\"_blank\">https://wandb.ai/oscarscholin/Astro101_Project/runs/qe2s3lqq</a><br/>Synced 6 W&B file(s), 1 media file(s), 10 artifact file(s) and 1 other file(s)"
      ],
      "text/plain": [
       "<IPython.core.display.HTML object>"
      ]
     },
     "metadata": {},
     "output_type": "display_data"
    },
    {
     "data": {
      "text/html": [
       "Find logs at: <code>./wandb/run-20221116_212343-qe2s3lqq/logs</code>"
      ],
      "text/plain": [
       "<IPython.core.display.HTML object>"
      ]
     },
     "metadata": {},
     "output_type": "display_data"
    },
    {
     "name": "stderr",
     "output_type": "stream",
     "text": [
      "\u001b[34m\u001b[1mwandb\u001b[0m: Agent Starting Run: 9eh2s3pt with config:\n",
      "\u001b[34m\u001b[1mwandb\u001b[0m: \tbatch_size: 169\n",
      "\u001b[34m\u001b[1mwandb\u001b[0m: \tdropout: 0.08253387347050385\n",
      "\u001b[34m\u001b[1mwandb\u001b[0m: \tepochs: 15\n",
      "\u001b[34m\u001b[1mwandb\u001b[0m: \tlearning_rate: 0.06393315573110114\n",
      "\u001b[34m\u001b[1mwandb\u001b[0m: \tsize_1: 85\n",
      "\u001b[34m\u001b[1mwandb\u001b[0m: \tsize_2: 107\n",
      "\u001b[34m\u001b[1mwandb\u001b[0m: \tsize_3: 78\n",
      "\u001b[34m\u001b[1mwandb\u001b[0m: \tsize_4: 242\n",
      "\u001b[34m\u001b[1mwandb\u001b[0m: \tsize_5: 144\n"
     ]
    },
    {
     "data": {
      "text/html": [
       "Tracking run with wandb version 0.13.5"
      ],
      "text/plain": [
       "<IPython.core.display.HTML object>"
      ]
     },
     "metadata": {},
     "output_type": "display_data"
    },
    {
     "data": {
      "text/html": [
       "Run data is saved locally in <code>/home/oscar47/Desktop/astro101/wandb/run-20221116_212455-9eh2s3pt</code>"
      ],
      "text/plain": [
       "<IPython.core.display.HTML object>"
      ]
     },
     "metadata": {},
     "output_type": "display_data"
    },
    {
     "data": {
      "text/html": [
       "Syncing run <strong><a href=\"https://wandb.ai/oscarscholin/Astro101_Project/runs/9eh2s3pt\" target=\"_blank\">laced-sweep-7</a></strong> to <a href=\"https://wandb.ai/oscarscholin/Astro101_Project\" target=\"_blank\">Weights & Biases</a> (<a href=\"https://wandb.me/run\" target=\"_blank\">docs</a>)<br/>Sweep page:  <a href=\"https://wandb.ai/oscarscholin/Astro101_Project/sweeps/3ouqvjl5\" target=\"_blank\">https://wandb.ai/oscarscholin/Astro101_Project/sweeps/3ouqvjl5</a>"
      ],
      "text/plain": [
       "<IPython.core.display.HTML object>"
      ]
     },
     "metadata": {},
     "output_type": "display_data"
    },
    {
     "name": "stdout",
     "output_type": "stream",
     "text": [
      "Epoch 1/15\n",
      "849/868 [============================>.] - ETA: 0s - loss: 204.1849INFO:tensorflow:Assets written to: /home/oscar47/Desktop/astro101/wandb/run-20221116_212455-9eh2s3pt/files/model-best/assets\n"
     ]
    },
    {
     "name": "stderr",
     "output_type": "stream",
     "text": [
      "\u001b[34m\u001b[1mwandb\u001b[0m: Adding directory to artifact (/home/oscar47/Desktop/astro101/wandb/run-20221116_212455-9eh2s3pt/files/model-best)... Done. 0.0s\n"
     ]
    },
    {
     "name": "stdout",
     "output_type": "stream",
     "text": [
      "868/868 [==============================] - 2s 2ms/step - loss: 199.9048 - val_loss: 0.8454\n",
      "Epoch 2/15\n",
      "850/868 [============================>.] - ETA: 0s - loss: 0.9305INFO:tensorflow:Assets written to: /home/oscar47/Desktop/astro101/wandb/run-20221116_212455-9eh2s3pt/files/model-best/assets\n"
     ]
    },
    {
     "name": "stderr",
     "output_type": "stream",
     "text": [
      "\u001b[34m\u001b[1mwandb\u001b[0m: Adding directory to artifact (/home/oscar47/Desktop/astro101/wandb/run-20221116_212455-9eh2s3pt/files/model-best)... Done. 0.0s\n"
     ]
    },
    {
     "name": "stdout",
     "output_type": "stream",
     "text": [
      "868/868 [==============================] - 2s 3ms/step - loss: 0.9287 - val_loss: 0.7557\n",
      "Epoch 3/15\n",
      "868/868 [==============================] - 2s 2ms/step - loss: 0.8141 - val_loss: 0.7920\n",
      "Epoch 4/15\n",
      "853/868 [============================>.] - ETA: 0s - loss: 0.7765INFO:tensorflow:Assets written to: /home/oscar47/Desktop/astro101/wandb/run-20221116_212455-9eh2s3pt/files/model-best/assets\n"
     ]
    },
    {
     "name": "stderr",
     "output_type": "stream",
     "text": [
      "\u001b[34m\u001b[1mwandb\u001b[0m: Adding directory to artifact (/home/oscar47/Desktop/astro101/wandb/run-20221116_212455-9eh2s3pt/files/model-best)... Done. 0.0s\n"
     ]
    },
    {
     "name": "stdout",
     "output_type": "stream",
     "text": [
      "868/868 [==============================] - 2s 3ms/step - loss: 0.7760 - val_loss: 0.7499\n",
      "Epoch 5/15\n",
      "868/868 [==============================] - 2s 2ms/step - loss: 0.7550 - val_loss: 0.7810\n",
      "Epoch 6/15\n",
      "868/868 [==============================] - 2s 2ms/step - loss: 0.7491 - val_loss: 0.7537\n",
      "Epoch 7/15\n",
      "868/868 [==============================] - 2s 2ms/step - loss: 0.7384 - val_loss: 0.8045\n",
      "Epoch 8/15\n",
      "868/868 [==============================] - 2s 2ms/step - loss: 0.7480 - val_loss: 0.9698\n",
      "Epoch 9/15\n",
      "868/868 [==============================] - 2s 2ms/step - loss: 0.7501 - val_loss: 0.7728\n",
      "Epoch 10/15\n",
      "868/868 [==============================] - 2s 2ms/step - loss: 0.7735 - val_loss: 0.8455\n",
      "Epoch 11/15\n",
      "868/868 [==============================] - 2s 2ms/step - loss: 0.7710 - val_loss: 0.7544\n",
      "Epoch 12/15\n",
      "868/868 [==============================] - 1s 2ms/step - loss: 42047420.0000 - val_loss: 372613.2188\n",
      "Epoch 13/15\n",
      "868/868 [==============================] - 2s 2ms/step - loss: 114109.6406 - val_loss: 63381.4492\n",
      "Epoch 14/15\n",
      "868/868 [==============================] - 2s 2ms/step - loss: 33902.5391 - val_loss: 12527.6035\n",
      "Epoch 15/15\n",
      "868/868 [==============================] - 1s 2ms/step - loss: 19309.1523 - val_loss: 30549.1445\n"
     ]
    },
    {
     "data": {
      "text/html": [
       "Waiting for W&B process to finish... <strong style=\"color:green\">(success).</strong>"
      ],
      "text/plain": [
       "<IPython.core.display.HTML object>"
      ]
     },
     "metadata": {},
     "output_type": "display_data"
    },
    {
     "data": {
      "text/html": [
       "<style>\n",
       "    table.wandb td:nth-child(1) { padding: 0 10px; text-align: left ; width: auto;} td:nth-child(2) {text-align: left ; width: 100%}\n",
       "    .wandb-row { display: flex; flex-direction: row; flex-wrap: wrap; justify-content: flex-start; width: 100% }\n",
       "    .wandb-col { display: flex; flex-direction: column; flex-basis: 100%; flex: 1; padding: 10px; }\n",
       "    </style>\n",
       "<div class=\"wandb-row\"><div class=\"wandb-col\"><h3>Run history:</h3><br/><table class=\"wandb\"><tr><td>epoch</td><td>▁▁▂▃▃▃▄▅▅▅▆▇▇▇█</td></tr><tr><td>loss</td><td>▁▁▁▁▁▁▁▁▁▁▁█▁▁▁</td></tr><tr><td>val_loss</td><td>▁▁▁▁▁▁▁▁▁▁▁█▂▁▂</td></tr></table><br/></div><div class=\"wandb-col\"><h3>Run summary:</h3><br/><table class=\"wandb\"><tr><td>best_epoch</td><td>3</td></tr><tr><td>best_val_loss</td><td>0.74989</td></tr><tr><td>epoch</td><td>14</td></tr><tr><td>loss</td><td>19309.15234</td></tr><tr><td>val_loss</td><td>30549.14453</td></tr></table><br/></div></div>"
      ],
      "text/plain": [
       "<IPython.core.display.HTML object>"
      ]
     },
     "metadata": {},
     "output_type": "display_data"
    },
    {
     "data": {
      "text/html": [
       "Synced <strong style=\"color:#cdcd00\">laced-sweep-7</strong>: <a href=\"https://wandb.ai/oscarscholin/Astro101_Project/runs/9eh2s3pt\" target=\"_blank\">https://wandb.ai/oscarscholin/Astro101_Project/runs/9eh2s3pt</a><br/>Synced 6 W&B file(s), 1 media file(s), 10 artifact file(s) and 1 other file(s)"
      ],
      "text/plain": [
       "<IPython.core.display.HTML object>"
      ]
     },
     "metadata": {},
     "output_type": "display_data"
    },
    {
     "data": {
      "text/html": [
       "Find logs at: <code>./wandb/run-20221116_212455-9eh2s3pt/logs</code>"
      ],
      "text/plain": [
       "<IPython.core.display.HTML object>"
      ]
     },
     "metadata": {},
     "output_type": "display_data"
    },
    {
     "name": "stderr",
     "output_type": "stream",
     "text": [
      "\u001b[34m\u001b[1mwandb\u001b[0m: Agent Starting Run: ftt6ai8o with config:\n",
      "\u001b[34m\u001b[1mwandb\u001b[0m: \tbatch_size: 135\n",
      "\u001b[34m\u001b[1mwandb\u001b[0m: \tdropout: 0.0663033705922536\n",
      "\u001b[34m\u001b[1mwandb\u001b[0m: \tepochs: 14\n",
      "\u001b[34m\u001b[1mwandb\u001b[0m: \tlearning_rate: 0.02867841794888624\n",
      "\u001b[34m\u001b[1mwandb\u001b[0m: \tsize_1: 167\n",
      "\u001b[34m\u001b[1mwandb\u001b[0m: \tsize_2: 87\n",
      "\u001b[34m\u001b[1mwandb\u001b[0m: \tsize_3: 224\n",
      "\u001b[34m\u001b[1mwandb\u001b[0m: \tsize_4: 178\n",
      "\u001b[34m\u001b[1mwandb\u001b[0m: \tsize_5: 76\n"
     ]
    },
    {
     "data": {
      "text/html": [
       "Tracking run with wandb version 0.13.5"
      ],
      "text/plain": [
       "<IPython.core.display.HTML object>"
      ]
     },
     "metadata": {},
     "output_type": "display_data"
    },
    {
     "data": {
      "text/html": [
       "Run data is saved locally in <code>/home/oscar47/Desktop/astro101/wandb/run-20221116_212531-ftt6ai8o</code>"
      ],
      "text/plain": [
       "<IPython.core.display.HTML object>"
      ]
     },
     "metadata": {},
     "output_type": "display_data"
    },
    {
     "data": {
      "text/html": [
       "Syncing run <strong><a href=\"https://wandb.ai/oscarscholin/Astro101_Project/runs/ftt6ai8o\" target=\"_blank\">serene-sweep-8</a></strong> to <a href=\"https://wandb.ai/oscarscholin/Astro101_Project\" target=\"_blank\">Weights & Biases</a> (<a href=\"https://wandb.me/run\" target=\"_blank\">docs</a>)<br/>Sweep page:  <a href=\"https://wandb.ai/oscarscholin/Astro101_Project/sweeps/3ouqvjl5\" target=\"_blank\">https://wandb.ai/oscarscholin/Astro101_Project/sweeps/3ouqvjl5</a>"
      ],
      "text/plain": [
       "<IPython.core.display.HTML object>"
      ]
     },
     "metadata": {},
     "output_type": "display_data"
    },
    {
     "name": "stdout",
     "output_type": "stream",
     "text": [
      "Epoch 1/14\n",
      "1075/1086 [============================>.] - ETA: 0s - loss: 4.6146INFO:tensorflow:Assets written to: /home/oscar47/Desktop/astro101/wandb/run-20221116_212531-ftt6ai8o/files/model-best/assets\n"
     ]
    },
    {
     "name": "stderr",
     "output_type": "stream",
     "text": [
      "\u001b[34m\u001b[1mwandb\u001b[0m: Adding directory to artifact (/home/oscar47/Desktop/astro101/wandb/run-20221116_212531-ftt6ai8o/files/model-best)... Done. 0.0s\n"
     ]
    },
    {
     "name": "stdout",
     "output_type": "stream",
     "text": [
      "1086/1086 [==============================] - 2s 2ms/step - loss: 4.5771 - val_loss: 0.7801\n",
      "Epoch 2/14\n",
      "1062/1086 [============================>.] - ETA: 0s - loss: 0.7709INFO:tensorflow:Assets written to: /home/oscar47/Desktop/astro101/wandb/run-20221116_212531-ftt6ai8o/files/model-best/assets\n"
     ]
    },
    {
     "name": "stderr",
     "output_type": "stream",
     "text": [
      "\u001b[34m\u001b[1mwandb\u001b[0m: Adding directory to artifact (/home/oscar47/Desktop/astro101/wandb/run-20221116_212531-ftt6ai8o/files/model-best)... Done. 0.0s\n"
     ]
    },
    {
     "name": "stdout",
     "output_type": "stream",
     "text": [
      "1086/1086 [==============================] - 2s 2ms/step - loss: 0.7699 - val_loss: 0.7409\n",
      "Epoch 3/14\n",
      "1086/1086 [==============================] - 2s 2ms/step - loss: 0.7620 - val_loss: 0.7543\n",
      "Epoch 4/14\n",
      "1086/1086 [==============================] - 2s 2ms/step - loss: 0.7788 - val_loss: 0.8334\n",
      "Epoch 5/14\n",
      "1086/1086 [==============================] - 2s 2ms/step - loss: 0.7938 - val_loss: 0.7541\n",
      "Epoch 6/14\n",
      "1086/1086 [==============================] - 2s 2ms/step - loss: 0.8076 - val_loss: 2.1930\n",
      "Epoch 7/14\n",
      "1086/1086 [==============================] - 2s 2ms/step - loss: 1586236.2500 - val_loss: 4187.4385\n",
      "Epoch 8/14\n",
      "1086/1086 [==============================] - 2s 2ms/step - loss: 5466.6289 - val_loss: 1159.7351\n",
      "Epoch 9/14\n",
      "1086/1086 [==============================] - 2s 2ms/step - loss: 2647.3474 - val_loss: 469.5020\n",
      "Epoch 10/14\n",
      "1086/1086 [==============================] - 2s 2ms/step - loss: 1543.6755 - val_loss: 445.7457\n",
      "Epoch 11/14\n",
      "1086/1086 [==============================] - 2s 2ms/step - loss: 1422.9039 - val_loss: 233.6786\n",
      "Epoch 12/14\n",
      "1086/1086 [==============================] - 2s 2ms/step - loss: 146.7448 - val_loss: 48.0290\n",
      "Epoch 13/14\n",
      "1086/1086 [==============================] - 2s 2ms/step - loss: 148.3293 - val_loss: 216.5521\n",
      "Epoch 14/14\n",
      "1086/1086 [==============================] - 2s 2ms/step - loss: 307928.6562 - val_loss: 1221.1174\n"
     ]
    },
    {
     "data": {
      "text/html": [
       "Waiting for W&B process to finish... <strong style=\"color:green\">(success).</strong>"
      ],
      "text/plain": [
       "<IPython.core.display.HTML object>"
      ]
     },
     "metadata": {},
     "output_type": "display_data"
    },
    {
     "data": {
      "application/vnd.jupyter.widget-view+json": {
       "model_id": "605765db3b804178a1b15540eeaec2db",
       "version_major": 2,
       "version_minor": 0
      },
      "text/plain": [
       "VBox(children=(Label(value='3.676 MB of 3.676 MB uploaded (0.016 MB deduped)\\r'), FloatProgress(value=1.0, max…"
      ]
     },
     "metadata": {},
     "output_type": "display_data"
    },
    {
     "data": {
      "text/html": [
       "<style>\n",
       "    table.wandb td:nth-child(1) { padding: 0 10px; text-align: left ; width: auto;} td:nth-child(2) {text-align: left ; width: 100%}\n",
       "    .wandb-row { display: flex; flex-direction: row; flex-wrap: wrap; justify-content: flex-start; width: 100% }\n",
       "    .wandb-col { display: flex; flex-direction: column; flex-basis: 100%; flex: 1; padding: 10px; }\n",
       "    </style>\n",
       "<div class=\"wandb-row\"><div class=\"wandb-col\"><h3>Run history:</h3><br/><table class=\"wandb\"><tr><td>epoch</td><td>▁▂▂▃▃▄▄▅▅▆▆▇▇█</td></tr><tr><td>loss</td><td>▁▁▁▁▁▁█▁▁▁▁▁▁▂</td></tr><tr><td>val_loss</td><td>▁▁▁▁▁▁█▃▂▂▁▁▁▃</td></tr></table><br/></div><div class=\"wandb-col\"><h3>Run summary:</h3><br/><table class=\"wandb\"><tr><td>best_epoch</td><td>1</td></tr><tr><td>best_val_loss</td><td>0.74085</td></tr><tr><td>epoch</td><td>13</td></tr><tr><td>loss</td><td>307928.65625</td></tr><tr><td>val_loss</td><td>1221.11743</td></tr></table><br/></div></div>"
      ],
      "text/plain": [
       "<IPython.core.display.HTML object>"
      ]
     },
     "metadata": {},
     "output_type": "display_data"
    },
    {
     "data": {
      "text/html": [
       "Synced <strong style=\"color:#cdcd00\">serene-sweep-8</strong>: <a href=\"https://wandb.ai/oscarscholin/Astro101_Project/runs/ftt6ai8o\" target=\"_blank\">https://wandb.ai/oscarscholin/Astro101_Project/runs/ftt6ai8o</a><br/>Synced 6 W&B file(s), 1 media file(s), 7 artifact file(s) and 1 other file(s)"
      ],
      "text/plain": [
       "<IPython.core.display.HTML object>"
      ]
     },
     "metadata": {},
     "output_type": "display_data"
    },
    {
     "data": {
      "text/html": [
       "Find logs at: <code>./wandb/run-20221116_212531-ftt6ai8o/logs</code>"
      ],
      "text/plain": [
       "<IPython.core.display.HTML object>"
      ]
     },
     "metadata": {},
     "output_type": "display_data"
    },
    {
     "name": "stderr",
     "output_type": "stream",
     "text": [
      "\u001b[34m\u001b[1mwandb\u001b[0m: Agent Starting Run: yyo7su5i with config:\n",
      "\u001b[34m\u001b[1mwandb\u001b[0m: \tbatch_size: 253\n",
      "\u001b[34m\u001b[1mwandb\u001b[0m: \tdropout: 0.31823050926173196\n",
      "\u001b[34m\u001b[1mwandb\u001b[0m: \tepochs: 19\n",
      "\u001b[34m\u001b[1mwandb\u001b[0m: \tlearning_rate: 0.01431332137993342\n",
      "\u001b[34m\u001b[1mwandb\u001b[0m: \tsize_1: 91\n",
      "\u001b[34m\u001b[1mwandb\u001b[0m: \tsize_2: 248\n",
      "\u001b[34m\u001b[1mwandb\u001b[0m: \tsize_3: 117\n",
      "\u001b[34m\u001b[1mwandb\u001b[0m: \tsize_4: 205\n",
      "\u001b[34m\u001b[1mwandb\u001b[0m: \tsize_5: 109\n"
     ]
    },
    {
     "data": {
      "text/html": [
       "Tracking run with wandb version 0.13.5"
      ],
      "text/plain": [
       "<IPython.core.display.HTML object>"
      ]
     },
     "metadata": {},
     "output_type": "display_data"
    },
    {
     "data": {
      "text/html": [
       "Run data is saved locally in <code>/home/oscar47/Desktop/astro101/wandb/run-20221116_212612-yyo7su5i</code>"
      ],
      "text/plain": [
       "<IPython.core.display.HTML object>"
      ]
     },
     "metadata": {},
     "output_type": "display_data"
    },
    {
     "data": {
      "text/html": [
       "Syncing run <strong><a href=\"https://wandb.ai/oscarscholin/Astro101_Project/runs/yyo7su5i\" target=\"_blank\">glad-sweep-9</a></strong> to <a href=\"https://wandb.ai/oscarscholin/Astro101_Project\" target=\"_blank\">Weights & Biases</a> (<a href=\"https://wandb.me/run\" target=\"_blank\">docs</a>)<br/>Sweep page:  <a href=\"https://wandb.ai/oscarscholin/Astro101_Project/sweeps/3ouqvjl5\" target=\"_blank\">https://wandb.ai/oscarscholin/Astro101_Project/sweeps/3ouqvjl5</a>"
      ],
      "text/plain": [
       "<IPython.core.display.HTML object>"
      ]
     },
     "metadata": {},
     "output_type": "display_data"
    },
    {
     "name": "stdout",
     "output_type": "stream",
     "text": [
      "Epoch 1/19\n",
      "559/580 [===========================>..] - ETA: 0s - loss: 1.0516INFO:tensorflow:Assets written to: /home/oscar47/Desktop/astro101/wandb/run-20221116_212612-yyo7su5i/files/model-best/assets\n"
     ]
    },
    {
     "name": "stderr",
     "output_type": "stream",
     "text": [
      "\u001b[34m\u001b[1mwandb\u001b[0m: Adding directory to artifact (/home/oscar47/Desktop/astro101/wandb/run-20221116_212612-yyo7su5i/files/model-best)... Done. 0.0s\n"
     ]
    },
    {
     "name": "stdout",
     "output_type": "stream",
     "text": [
      "580/580 [==============================] - 3s 4ms/step - loss: 1.0426 - val_loss: 0.7510\n",
      "Epoch 2/19\n",
      "580/580 [==============================] - 1s 2ms/step - loss: 0.7955 - val_loss: 0.7926\n",
      "Epoch 3/19\n",
      "580/580 [==============================] - 1s 3ms/step - loss: 0.7874 - val_loss: 0.7829\n",
      "Epoch 4/19\n",
      "573/580 [============================>.] - ETA: 0s - loss: 0.7814INFO:tensorflow:Assets written to: /home/oscar47/Desktop/astro101/wandb/run-20221116_212612-yyo7su5i/files/model-best/assets\n"
     ]
    },
    {
     "name": "stderr",
     "output_type": "stream",
     "text": [
      "\u001b[34m\u001b[1mwandb\u001b[0m: Adding directory to artifact (/home/oscar47/Desktop/astro101/wandb/run-20221116_212612-yyo7su5i/files/model-best)... Done. 0.0s\n"
     ]
    },
    {
     "name": "stdout",
     "output_type": "stream",
     "text": [
      "580/580 [==============================] - 2s 4ms/step - loss: 0.7808 - val_loss: 0.7387\n",
      "Epoch 5/19\n",
      "569/580 [============================>.] - ETA: 0s - loss: 0.7613INFO:tensorflow:Assets written to: /home/oscar47/Desktop/astro101/wandb/run-20221116_212612-yyo7su5i/files/model-best/assets\n"
     ]
    },
    {
     "name": "stderr",
     "output_type": "stream",
     "text": [
      "\u001b[34m\u001b[1mwandb\u001b[0m: Adding directory to artifact (/home/oscar47/Desktop/astro101/wandb/run-20221116_212612-yyo7su5i/files/model-best)... Done. 0.0s\n"
     ]
    },
    {
     "name": "stdout",
     "output_type": "stream",
     "text": [
      "580/580 [==============================] - 2s 3ms/step - loss: 0.7606 - val_loss: 0.7073\n",
      "Epoch 6/19\n",
      "580/580 [==============================] - 1s 3ms/step - loss: 0.7636 - val_loss: 0.7785\n",
      "Epoch 7/19\n",
      "580/580 [==============================] - 1s 3ms/step - loss: 0.7348 - val_loss: 0.7412\n",
      "Epoch 8/19\n",
      "580/580 [==============================] - 1s 3ms/step - loss: 0.7372 - val_loss: 0.7997\n",
      "Epoch 9/19\n",
      "580/580 [==============================] - 2s 3ms/step - loss: 4052.3716 - val_loss: 16.0322\n",
      "Epoch 10/19\n",
      "580/580 [==============================] - 2s 3ms/step - loss: 28.3358 - val_loss: 5.8947\n",
      "Epoch 11/19\n",
      "580/580 [==============================] - 2s 3ms/step - loss: 6.7202 - val_loss: 4.4377\n",
      "Epoch 12/19\n",
      "580/580 [==============================] - 2s 3ms/step - loss: 5.6701 - val_loss: 8.1437\n",
      "Epoch 13/19\n",
      "580/580 [==============================] - 2s 3ms/step - loss: 4.1794 - val_loss: 1.9260\n",
      "Epoch 14/19\n",
      "580/580 [==============================] - 2s 3ms/step - loss: 2.7941 - val_loss: 1.3303\n",
      "Epoch 15/19\n",
      "580/580 [==============================] - 2s 3ms/step - loss: 2.4605 - val_loss: 1.5880\n",
      "Epoch 16/19\n",
      "580/580 [==============================] - 2s 3ms/step - loss: 1.2813 - val_loss: 1.0739\n",
      "Epoch 17/19\n",
      "580/580 [==============================] - 2s 3ms/step - loss: 1.4059 - val_loss: 1.2275\n",
      "Epoch 18/19\n",
      "580/580 [==============================] - 2s 3ms/step - loss: 1.4168 - val_loss: 0.9336\n",
      "Epoch 19/19\n",
      "580/580 [==============================] - 2s 3ms/step - loss: 1.1289 - val_loss: 1.2716\n"
     ]
    },
    {
     "data": {
      "text/html": [
       "Waiting for W&B process to finish... <strong style=\"color:green\">(success).</strong>"
      ],
      "text/plain": [
       "<IPython.core.display.HTML object>"
      ]
     },
     "metadata": {},
     "output_type": "display_data"
    },
    {
     "data": {
      "application/vnd.jupyter.widget-view+json": {
       "model_id": "d5498259405f49198290beb0b0b2d505",
       "version_major": 2,
       "version_minor": 0
      },
      "text/plain": [
       "VBox(children=(Label(value='5.368 MB of 5.368 MB uploaded (0.016 MB deduped)\\r'), FloatProgress(value=1.0, max…"
      ]
     },
     "metadata": {},
     "output_type": "display_data"
    },
    {
     "data": {
      "text/html": [
       "<style>\n",
       "    table.wandb td:nth-child(1) { padding: 0 10px; text-align: left ; width: auto;} td:nth-child(2) {text-align: left ; width: 100%}\n",
       "    .wandb-row { display: flex; flex-direction: row; flex-wrap: wrap; justify-content: flex-start; width: 100% }\n",
       "    .wandb-col { display: flex; flex-direction: column; flex-basis: 100%; flex: 1; padding: 10px; }\n",
       "    </style>\n",
       "<div class=\"wandb-row\"><div class=\"wandb-col\"><h3>Run history:</h3><br/><table class=\"wandb\"><tr><td>epoch</td><td>▁▁▂▂▃▃▃▄▄▅▅▅▆▆▆▇▇██</td></tr><tr><td>loss</td><td>▁▁▁▁▁▁▁▁█▁▁▁▁▁▁▁▁▁▁</td></tr><tr><td>val_loss</td><td>▁▁▁▁▁▁▁▁█▃▃▄▂▁▁▁▁▁▁</td></tr></table><br/></div><div class=\"wandb-col\"><h3>Run summary:</h3><br/><table class=\"wandb\"><tr><td>best_epoch</td><td>4</td></tr><tr><td>best_val_loss</td><td>0.70729</td></tr><tr><td>epoch</td><td>18</td></tr><tr><td>loss</td><td>1.12893</td></tr><tr><td>val_loss</td><td>1.27156</td></tr></table><br/></div></div>"
      ],
      "text/plain": [
       "<IPython.core.display.HTML object>"
      ]
     },
     "metadata": {},
     "output_type": "display_data"
    },
    {
     "data": {
      "text/html": [
       "Synced <strong style=\"color:#cdcd00\">glad-sweep-9</strong>: <a href=\"https://wandb.ai/oscarscholin/Astro101_Project/runs/yyo7su5i\" target=\"_blank\">https://wandb.ai/oscarscholin/Astro101_Project/runs/yyo7su5i</a><br/>Synced 6 W&B file(s), 1 media file(s), 10 artifact file(s) and 1 other file(s)"
      ],
      "text/plain": [
       "<IPython.core.display.HTML object>"
      ]
     },
     "metadata": {},
     "output_type": "display_data"
    },
    {
     "data": {
      "text/html": [
       "Find logs at: <code>./wandb/run-20221116_212612-yyo7su5i/logs</code>"
      ],
      "text/plain": [
       "<IPython.core.display.HTML object>"
      ]
     },
     "metadata": {},
     "output_type": "display_data"
    },
    {
     "name": "stderr",
     "output_type": "stream",
     "text": [
      "\u001b[34m\u001b[1mwandb\u001b[0m: Agent Starting Run: v4ha2f3g with config:\n",
      "\u001b[34m\u001b[1mwandb\u001b[0m: \tbatch_size: 240\n",
      "\u001b[34m\u001b[1mwandb\u001b[0m: \tdropout: 0.49719374085894247\n",
      "\u001b[34m\u001b[1mwandb\u001b[0m: \tepochs: 10\n",
      "\u001b[34m\u001b[1mwandb\u001b[0m: \tlearning_rate: 0.08076307269961358\n",
      "\u001b[34m\u001b[1mwandb\u001b[0m: \tsize_1: 169\n",
      "\u001b[34m\u001b[1mwandb\u001b[0m: \tsize_2: 185\n",
      "\u001b[34m\u001b[1mwandb\u001b[0m: \tsize_3: 123\n",
      "\u001b[34m\u001b[1mwandb\u001b[0m: \tsize_4: 181\n",
      "\u001b[34m\u001b[1mwandb\u001b[0m: \tsize_5: 115\n"
     ]
    },
    {
     "data": {
      "application/vnd.jupyter.widget-view+json": {
       "model_id": "9a4673b2eee2498f80de0a6f7aaf3952",
       "version_major": 2,
       "version_minor": 0
      },
      "text/plain": [
       "VBox(children=(Label(value='Waiting for wandb.init()...\\r'), FloatProgress(value=0.016668481366650667, max=1.0…"
      ]
     },
     "metadata": {},
     "output_type": "display_data"
    },
    {
     "data": {
      "text/html": [
       "Tracking run with wandb version 0.13.5"
      ],
      "text/plain": [
       "<IPython.core.display.HTML object>"
      ]
     },
     "metadata": {},
     "output_type": "display_data"
    },
    {
     "data": {
      "text/html": [
       "Run data is saved locally in <code>/home/oscar47/Desktop/astro101/wandb/run-20221116_212653-v4ha2f3g</code>"
      ],
      "text/plain": [
       "<IPython.core.display.HTML object>"
      ]
     },
     "metadata": {},
     "output_type": "display_data"
    },
    {
     "data": {
      "text/html": [
       "Syncing run <strong><a href=\"https://wandb.ai/oscarscholin/Astro101_Project/runs/v4ha2f3g\" target=\"_blank\">pleasant-sweep-10</a></strong> to <a href=\"https://wandb.ai/oscarscholin/Astro101_Project\" target=\"_blank\">Weights & Biases</a> (<a href=\"https://wandb.me/run\" target=\"_blank\">docs</a>)<br/>Sweep page:  <a href=\"https://wandb.ai/oscarscholin/Astro101_Project/sweeps/3ouqvjl5\" target=\"_blank\">https://wandb.ai/oscarscholin/Astro101_Project/sweeps/3ouqvjl5</a>"
      ],
      "text/plain": [
       "<IPython.core.display.HTML object>"
      ]
     },
     "metadata": {},
     "output_type": "display_data"
    },
    {
     "name": "stdout",
     "output_type": "stream",
     "text": [
      "Epoch 1/10\n",
      "598/611 [============================>.] - ETA: 0s - loss: 2053.4231INFO:tensorflow:Assets written to: /home/oscar47/Desktop/astro101/wandb/run-20221116_212653-v4ha2f3g/files/model-best/assets\n"
     ]
    },
    {
     "name": "stderr",
     "output_type": "stream",
     "text": [
      "\u001b[34m\u001b[1mwandb\u001b[0m: Adding directory to artifact (/home/oscar47/Desktop/astro101/wandb/run-20221116_212653-v4ha2f3g/files/model-best)... Done. 0.0s\n"
     ]
    },
    {
     "name": "stdout",
     "output_type": "stream",
     "text": [
      "611/611 [==============================] - 2s 3ms/step - loss: 2010.7784 - val_loss: 1.5373\n",
      "Epoch 2/10\n",
      "611/611 [==============================] - 1s 2ms/step - loss: 1.7357 - val_loss: 1.6910\n",
      "Epoch 3/10\n",
      "595/611 [============================>.] - ETA: 0s - loss: 1.0952INFO:tensorflow:Assets written to: /home/oscar47/Desktop/astro101/wandb/run-20221116_212653-v4ha2f3g/files/model-best/assets\n"
     ]
    },
    {
     "name": "stderr",
     "output_type": "stream",
     "text": [
      "\u001b[34m\u001b[1mwandb\u001b[0m: Adding directory to artifact (/home/oscar47/Desktop/astro101/wandb/run-20221116_212653-v4ha2f3g/files/model-best)... Done. 0.0s\n"
     ]
    },
    {
     "name": "stdout",
     "output_type": "stream",
     "text": [
      "611/611 [==============================] - 2s 3ms/step - loss: 1.0918 - val_loss: 0.7835\n",
      "Epoch 4/10\n",
      "611/611 [==============================] - 1s 2ms/step - loss: 1.0098 - val_loss: 0.8360\n",
      "Epoch 5/10\n",
      "611/611 [==============================] - 1s 2ms/step - loss: 0.9019 - val_loss: 0.8513\n",
      "Epoch 6/10\n",
      "611/611 [==============================] - 1s 2ms/step - loss: 0.8831 - val_loss: 0.7985\n",
      "Epoch 7/10\n",
      "607/611 [============================>.] - ETA: 0s - loss: 0.8589INFO:tensorflow:Assets written to: /home/oscar47/Desktop/astro101/wandb/run-20221116_212653-v4ha2f3g/files/model-best/assets\n"
     ]
    },
    {
     "name": "stderr",
     "output_type": "stream",
     "text": [
      "\u001b[34m\u001b[1mwandb\u001b[0m: Adding directory to artifact (/home/oscar47/Desktop/astro101/wandb/run-20221116_212653-v4ha2f3g/files/model-best)... Done. 0.0s\n"
     ]
    },
    {
     "name": "stdout",
     "output_type": "stream",
     "text": [
      "611/611 [==============================] - 2s 3ms/step - loss: 0.8588 - val_loss: 0.7611\n",
      "Epoch 8/10\n",
      "611/611 [==============================] - 1s 2ms/step - loss: 0.8241 - val_loss: 0.7750\n",
      "Epoch 9/10\n",
      "611/611 [==============================] - 1s 2ms/step - loss: 0.8291 - val_loss: 0.7644\n",
      "Epoch 10/10\n",
      "608/611 [============================>.] - ETA: 0s - loss: 0.8029INFO:tensorflow:Assets written to: /home/oscar47/Desktop/astro101/wandb/run-20221116_212653-v4ha2f3g/files/model-best/assets\n"
     ]
    },
    {
     "name": "stderr",
     "output_type": "stream",
     "text": [
      "\u001b[34m\u001b[1mwandb\u001b[0m: Adding directory to artifact (/home/oscar47/Desktop/astro101/wandb/run-20221116_212653-v4ha2f3g/files/model-best)... Done. 0.0s\n"
     ]
    },
    {
     "name": "stdout",
     "output_type": "stream",
     "text": [
      "611/611 [==============================] - 2s 3ms/step - loss: 0.8030 - val_loss: 0.7335\n"
     ]
    },
    {
     "data": {
      "text/html": [
       "Waiting for W&B process to finish... <strong style=\"color:green\">(success).</strong>"
      ],
      "text/plain": [
       "<IPython.core.display.HTML object>"
      ]
     },
     "metadata": {},
     "output_type": "display_data"
    },
    {
     "data": {
      "application/vnd.jupyter.widget-view+json": {
       "model_id": "af0dac5912e0412d8b6b829a6284c68f",
       "version_major": 2,
       "version_minor": 0
      },
      "text/plain": [
       "VBox(children=(Label(value='6.795 MB of 6.795 MB uploaded (0.016 MB deduped)\\r'), FloatProgress(value=1.0, max…"
      ]
     },
     "metadata": {},
     "output_type": "display_data"
    },
    {
     "data": {
      "text/html": [
       "<style>\n",
       "    table.wandb td:nth-child(1) { padding: 0 10px; text-align: left ; width: auto;} td:nth-child(2) {text-align: left ; width: 100%}\n",
       "    .wandb-row { display: flex; flex-direction: row; flex-wrap: wrap; justify-content: flex-start; width: 100% }\n",
       "    .wandb-col { display: flex; flex-direction: column; flex-basis: 100%; flex: 1; padding: 10px; }\n",
       "    </style>\n",
       "<div class=\"wandb-row\"><div class=\"wandb-col\"><h3>Run history:</h3><br/><table class=\"wandb\"><tr><td>epoch</td><td>▁▂▃▃▄▅▆▆▇█</td></tr><tr><td>loss</td><td>█▁▁▁▁▁▁▁▁▁</td></tr><tr><td>val_loss</td><td>▇█▁▂▂▁▁▁▁▁</td></tr></table><br/></div><div class=\"wandb-col\"><h3>Run summary:</h3><br/><table class=\"wandb\"><tr><td>best_epoch</td><td>9</td></tr><tr><td>best_val_loss</td><td>0.73352</td></tr><tr><td>epoch</td><td>9</td></tr><tr><td>loss</td><td>0.80305</td></tr><tr><td>val_loss</td><td>0.73352</td></tr></table><br/></div></div>"
      ],
      "text/plain": [
       "<IPython.core.display.HTML object>"
      ]
     },
     "metadata": {},
     "output_type": "display_data"
    },
    {
     "data": {
      "text/html": [
       "Synced <strong style=\"color:#cdcd00\">pleasant-sweep-10</strong>: <a href=\"https://wandb.ai/oscarscholin/Astro101_Project/runs/v4ha2f3g\" target=\"_blank\">https://wandb.ai/oscarscholin/Astro101_Project/runs/v4ha2f3g</a><br/>Synced 6 W&B file(s), 1 media file(s), 13 artifact file(s) and 1 other file(s)"
      ],
      "text/plain": [
       "<IPython.core.display.HTML object>"
      ]
     },
     "metadata": {},
     "output_type": "display_data"
    },
    {
     "data": {
      "text/html": [
       "Find logs at: <code>./wandb/run-20221116_212653-v4ha2f3g/logs</code>"
      ],
      "text/plain": [
       "<IPython.core.display.HTML object>"
      ]
     },
     "metadata": {},
     "output_type": "display_data"
    },
    {
     "name": "stderr",
     "output_type": "stream",
     "text": [
      "\u001b[34m\u001b[1mwandb\u001b[0m: Agent Starting Run: 0eqbhmpt with config:\n",
      "\u001b[34m\u001b[1mwandb\u001b[0m: \tbatch_size: 178\n",
      "\u001b[34m\u001b[1mwandb\u001b[0m: \tdropout: 0.351918104192671\n",
      "\u001b[34m\u001b[1mwandb\u001b[0m: \tepochs: 16\n",
      "\u001b[34m\u001b[1mwandb\u001b[0m: \tlearning_rate: 0.017472948618767116\n",
      "\u001b[34m\u001b[1mwandb\u001b[0m: \tsize_1: 198\n",
      "\u001b[34m\u001b[1mwandb\u001b[0m: \tsize_2: 216\n",
      "\u001b[34m\u001b[1mwandb\u001b[0m: \tsize_3: 125\n",
      "\u001b[34m\u001b[1mwandb\u001b[0m: \tsize_4: 201\n",
      "\u001b[34m\u001b[1mwandb\u001b[0m: \tsize_5: 246\n"
     ]
    },
    {
     "data": {
      "text/html": [
       "Tracking run with wandb version 0.13.5"
      ],
      "text/plain": [
       "<IPython.core.display.HTML object>"
      ]
     },
     "metadata": {},
     "output_type": "display_data"
    },
    {
     "data": {
      "text/html": [
       "Run data is saved locally in <code>/home/oscar47/Desktop/astro101/wandb/run-20221116_212729-0eqbhmpt</code>"
      ],
      "text/plain": [
       "<IPython.core.display.HTML object>"
      ]
     },
     "metadata": {},
     "output_type": "display_data"
    },
    {
     "data": {
      "text/html": [
       "Syncing run <strong><a href=\"https://wandb.ai/oscarscholin/Astro101_Project/runs/0eqbhmpt\" target=\"_blank\">prime-sweep-11</a></strong> to <a href=\"https://wandb.ai/oscarscholin/Astro101_Project\" target=\"_blank\">Weights & Biases</a> (<a href=\"https://wandb.me/run\" target=\"_blank\">docs</a>)<br/>Sweep page:  <a href=\"https://wandb.ai/oscarscholin/Astro101_Project/sweeps/3ouqvjl5\" target=\"_blank\">https://wandb.ai/oscarscholin/Astro101_Project/sweeps/3ouqvjl5</a>"
      ],
      "text/plain": [
       "<IPython.core.display.HTML object>"
      ]
     },
     "metadata": {},
     "output_type": "display_data"
    },
    {
     "name": "stdout",
     "output_type": "stream",
     "text": [
      "Epoch 1/16\n",
      "807/824 [============================>.] - ETA: 0s - loss: 1.8185INFO:tensorflow:Assets written to: /home/oscar47/Desktop/astro101/wandb/run-20221116_212729-0eqbhmpt/files/model-best/assets\n"
     ]
    },
    {
     "name": "stderr",
     "output_type": "stream",
     "text": [
      "\u001b[34m\u001b[1mwandb\u001b[0m: Adding directory to artifact (/home/oscar47/Desktop/astro101/wandb/run-20221116_212729-0eqbhmpt/files/model-best)... Done. 0.0s\n"
     ]
    },
    {
     "name": "stdout",
     "output_type": "stream",
     "text": [
      "824/824 [==============================] - 3s 3ms/step - loss: 1.7980 - val_loss: 0.7614\n",
      "Epoch 2/16\n",
      "811/824 [============================>.] - ETA: 0s - loss: 0.7820INFO:tensorflow:Assets written to: /home/oscar47/Desktop/astro101/wandb/run-20221116_212729-0eqbhmpt/files/model-best/assets\n"
     ]
    },
    {
     "name": "stderr",
     "output_type": "stream",
     "text": [
      "\u001b[34m\u001b[1mwandb\u001b[0m: Adding directory to artifact (/home/oscar47/Desktop/astro101/wandb/run-20221116_212729-0eqbhmpt/files/model-best)... Done. 0.0s\n"
     ]
    },
    {
     "name": "stdout",
     "output_type": "stream",
     "text": [
      "824/824 [==============================] - 3s 3ms/step - loss: 0.7819 - val_loss: 0.7229\n",
      "Epoch 3/16\n",
      "824/824 [==============================] - 2s 3ms/step - loss: 0.7758 - val_loss: 0.8624\n",
      "Epoch 4/16\n",
      "824/824 [==============================] - 2s 3ms/step - loss: 0.7839 - val_loss: 0.7548\n",
      "Epoch 5/16\n",
      "824/824 [==============================] - 2s 3ms/step - loss: 0.7935 - val_loss: 0.8620\n",
      "Epoch 6/16\n",
      "824/824 [==============================] - 2s 3ms/step - loss: 0.7986 - val_loss: 0.9112\n",
      "Epoch 7/16\n",
      "824/824 [==============================] - 2s 3ms/step - loss: 0.7954 - val_loss: 0.7458\n",
      "Epoch 8/16\n",
      "824/824 [==============================] - 2s 3ms/step - loss: 57488.3984 - val_loss: 230.0961\n",
      "Epoch 9/16\n",
      "824/824 [==============================] - 2s 2ms/step - loss: 235.6579 - val_loss: 142.8309\n",
      "Epoch 10/16\n",
      "824/824 [==============================] - 2s 2ms/step - loss: 148.7560 - val_loss: 116.5770\n",
      "Epoch 11/16\n",
      "824/824 [==============================] - 2s 2ms/step - loss: 61.3725 - val_loss: 36.1849\n",
      "Epoch 12/16\n",
      "824/824 [==============================] - 2s 3ms/step - loss: 56.8777 - val_loss: 16.4617\n",
      "Epoch 13/16\n",
      "824/824 [==============================] - 2s 3ms/step - loss: 24.8844 - val_loss: 14.0383\n",
      "Epoch 14/16\n",
      "824/824 [==============================] - 2s 2ms/step - loss: 20.3758 - val_loss: 11.1438\n",
      "Epoch 15/16\n",
      "824/824 [==============================] - 2s 3ms/step - loss: 12.1073 - val_loss: 8.2625\n",
      "Epoch 16/16\n",
      "824/824 [==============================] - 2s 2ms/step - loss: 7.6059 - val_loss: 3.8248\n"
     ]
    },
    {
     "data": {
      "text/html": [
       "Waiting for W&B process to finish... <strong style=\"color:green\">(success).</strong>"
      ],
      "text/plain": [
       "<IPython.core.display.HTML object>"
      ]
     },
     "metadata": {},
     "output_type": "display_data"
    },
    {
     "data": {
      "text/html": [
       "<style>\n",
       "    table.wandb td:nth-child(1) { padding: 0 10px; text-align: left ; width: auto;} td:nth-child(2) {text-align: left ; width: 100%}\n",
       "    .wandb-row { display: flex; flex-direction: row; flex-wrap: wrap; justify-content: flex-start; width: 100% }\n",
       "    .wandb-col { display: flex; flex-direction: column; flex-basis: 100%; flex: 1; padding: 10px; }\n",
       "    </style>\n",
       "<div class=\"wandb-row\"><div class=\"wandb-col\"><h3>Run history:</h3><br/><table class=\"wandb\"><tr><td>epoch</td><td>▁▁▂▂▃▃▄▄▅▅▆▆▇▇██</td></tr><tr><td>loss</td><td>▁▁▁▁▁▁▁█▁▁▁▁▁▁▁▁</td></tr><tr><td>val_loss</td><td>▁▁▁▁▁▁▁█▅▅▂▁▁▁▁▁</td></tr></table><br/></div><div class=\"wandb-col\"><h3>Run summary:</h3><br/><table class=\"wandb\"><tr><td>best_epoch</td><td>1</td></tr><tr><td>best_val_loss</td><td>0.72292</td></tr><tr><td>epoch</td><td>15</td></tr><tr><td>loss</td><td>7.60594</td></tr><tr><td>val_loss</td><td>3.82485</td></tr></table><br/></div></div>"
      ],
      "text/plain": [
       "<IPython.core.display.HTML object>"
      ]
     },
     "metadata": {},
     "output_type": "display_data"
    },
    {
     "data": {
      "text/html": [
       "Synced <strong style=\"color:#cdcd00\">prime-sweep-11</strong>: <a href=\"https://wandb.ai/oscarscholin/Astro101_Project/runs/0eqbhmpt\" target=\"_blank\">https://wandb.ai/oscarscholin/Astro101_Project/runs/0eqbhmpt</a><br/>Synced 6 W&B file(s), 1 media file(s), 7 artifact file(s) and 1 other file(s)"
      ],
      "text/plain": [
       "<IPython.core.display.HTML object>"
      ]
     },
     "metadata": {},
     "output_type": "display_data"
    },
    {
     "data": {
      "text/html": [
       "Find logs at: <code>./wandb/run-20221116_212729-0eqbhmpt/logs</code>"
      ],
      "text/plain": [
       "<IPython.core.display.HTML object>"
      ]
     },
     "metadata": {},
     "output_type": "display_data"
    },
    {
     "name": "stderr",
     "output_type": "stream",
     "text": [
      "\u001b[34m\u001b[1mwandb\u001b[0m: Agent Starting Run: valskzmo with config:\n",
      "\u001b[34m\u001b[1mwandb\u001b[0m: \tbatch_size: 183\n",
      "\u001b[34m\u001b[1mwandb\u001b[0m: \tdropout: 0.12328322075147248\n",
      "\u001b[34m\u001b[1mwandb\u001b[0m: \tepochs: 13\n",
      "\u001b[34m\u001b[1mwandb\u001b[0m: \tlearning_rate: 0.02208056415594697\n",
      "\u001b[34m\u001b[1mwandb\u001b[0m: \tsize_1: 252\n",
      "\u001b[34m\u001b[1mwandb\u001b[0m: \tsize_2: 93\n",
      "\u001b[34m\u001b[1mwandb\u001b[0m: \tsize_3: 89\n",
      "\u001b[34m\u001b[1mwandb\u001b[0m: \tsize_4: 122\n",
      "\u001b[34m\u001b[1mwandb\u001b[0m: \tsize_5: 124\n"
     ]
    },
    {
     "data": {
      "text/html": [
       "Tracking run with wandb version 0.13.5"
      ],
      "text/plain": [
       "<IPython.core.display.HTML object>"
      ]
     },
     "metadata": {},
     "output_type": "display_data"
    },
    {
     "data": {
      "text/html": [
       "Run data is saved locally in <code>/home/oscar47/Desktop/astro101/wandb/run-20221116_212815-valskzmo</code>"
      ],
      "text/plain": [
       "<IPython.core.display.HTML object>"
      ]
     },
     "metadata": {},
     "output_type": "display_data"
    },
    {
     "data": {
      "text/html": [
       "Syncing run <strong><a href=\"https://wandb.ai/oscarscholin/Astro101_Project/runs/valskzmo\" target=\"_blank\">driven-sweep-12</a></strong> to <a href=\"https://wandb.ai/oscarscholin/Astro101_Project\" target=\"_blank\">Weights & Biases</a> (<a href=\"https://wandb.me/run\" target=\"_blank\">docs</a>)<br/>Sweep page:  <a href=\"https://wandb.ai/oscarscholin/Astro101_Project/sweeps/3ouqvjl5\" target=\"_blank\">https://wandb.ai/oscarscholin/Astro101_Project/sweeps/3ouqvjl5</a>"
      ],
      "text/plain": [
       "<IPython.core.display.HTML object>"
      ]
     },
     "metadata": {},
     "output_type": "display_data"
    },
    {
     "name": "stdout",
     "output_type": "stream",
     "text": [
      "Epoch 1/13\n",
      "773/801 [===========================>..] - ETA: 0s - loss: 1.9335INFO:tensorflow:Assets written to: /home/oscar47/Desktop/astro101/wandb/run-20221116_212815-valskzmo/files/model-best/assets\n"
     ]
    },
    {
     "name": "stderr",
     "output_type": "stream",
     "text": [
      "\u001b[34m\u001b[1mwandb\u001b[0m: Adding directory to artifact (/home/oscar47/Desktop/astro101/wandb/run-20221116_212815-valskzmo/files/model-best)... Done. 0.0s\n"
     ]
    },
    {
     "name": "stdout",
     "output_type": "stream",
     "text": [
      "801/801 [==============================] - 2s 2ms/step - loss: 1.8933 - val_loss: 0.7532\n",
      "Epoch 2/13\n",
      "801/801 [==============================] - 1s 2ms/step - loss: 0.7636 - val_loss: 0.7566\n",
      "Epoch 3/13\n",
      "801/801 [==============================] - 1s 2ms/step - loss: 0.7586 - val_loss: 0.7729\n",
      "Epoch 4/13\n",
      "801/801 [==============================] - 1s 2ms/step - loss: 0.7618 - val_loss: 0.7601\n",
      "Epoch 5/13\n",
      "788/801 [============================>.] - ETA: 0s - loss: 0.7784INFO:tensorflow:Assets written to: /home/oscar47/Desktop/astro101/wandb/run-20221116_212815-valskzmo/files/model-best/assets\n"
     ]
    },
    {
     "name": "stderr",
     "output_type": "stream",
     "text": [
      "\u001b[34m\u001b[1mwandb\u001b[0m: Adding directory to artifact (/home/oscar47/Desktop/astro101/wandb/run-20221116_212815-valskzmo/files/model-best)... Done. 0.0s\n"
     ]
    },
    {
     "name": "stdout",
     "output_type": "stream",
     "text": [
      "801/801 [==============================] - 2s 2ms/step - loss: 0.7784 - val_loss: 0.7355\n",
      "Epoch 6/13\n",
      "801/801 [==============================] - 1s 2ms/step - loss: 0.7879 - val_loss: 0.8290\n",
      "Epoch 7/13\n",
      "801/801 [==============================] - 1s 1ms/step - loss: 0.7746 - val_loss: 0.8573\n",
      "Epoch 8/13\n",
      "801/801 [==============================] - 1s 1ms/step - loss: 0.8075 - val_loss: 0.7412\n",
      "Epoch 9/13\n",
      "801/801 [==============================] - 1s 2ms/step - loss: 78890.7969 - val_loss: 2606.2993\n",
      "Epoch 10/13\n",
      "801/801 [==============================] - 1s 2ms/step - loss: 758.7407 - val_loss: 155.7970\n",
      "Epoch 11/13\n",
      "801/801 [==============================] - 1s 2ms/step - loss: 154.7795 - val_loss: 122.9666\n",
      "Epoch 12/13\n",
      "801/801 [==============================] - 1s 2ms/step - loss: 90.1696 - val_loss: 36.5078\n",
      "Epoch 13/13\n",
      "801/801 [==============================] - 1s 2ms/step - loss: 71.7475 - val_loss: 43.6515\n"
     ]
    },
    {
     "data": {
      "text/html": [
       "Waiting for W&B process to finish... <strong style=\"color:green\">(success).</strong>"
      ],
      "text/plain": [
       "<IPython.core.display.HTML object>"
      ]
     },
     "metadata": {},
     "output_type": "display_data"
    },
    {
     "data": {
      "text/html": [
       "<style>\n",
       "    table.wandb td:nth-child(1) { padding: 0 10px; text-align: left ; width: auto;} td:nth-child(2) {text-align: left ; width: 100%}\n",
       "    .wandb-row { display: flex; flex-direction: row; flex-wrap: wrap; justify-content: flex-start; width: 100% }\n",
       "    .wandb-col { display: flex; flex-direction: column; flex-basis: 100%; flex: 1; padding: 10px; }\n",
       "    </style>\n",
       "<div class=\"wandb-row\"><div class=\"wandb-col\"><h3>Run history:</h3><br/><table class=\"wandb\"><tr><td>epoch</td><td>▁▂▂▃▃▄▅▅▆▆▇▇█</td></tr><tr><td>loss</td><td>▁▁▁▁▁▁▁▁█▁▁▁▁</td></tr><tr><td>val_loss</td><td>▁▁▁▁▁▁▁▁█▁▁▁▁</td></tr></table><br/></div><div class=\"wandb-col\"><h3>Run summary:</h3><br/><table class=\"wandb\"><tr><td>best_epoch</td><td>4</td></tr><tr><td>best_val_loss</td><td>0.73552</td></tr><tr><td>epoch</td><td>12</td></tr><tr><td>loss</td><td>71.74749</td></tr><tr><td>val_loss</td><td>43.65153</td></tr></table><br/></div></div>"
      ],
      "text/plain": [
       "<IPython.core.display.HTML object>"
      ]
     },
     "metadata": {},
     "output_type": "display_data"
    },
    {
     "data": {
      "text/html": [
       "Synced <strong style=\"color:#cdcd00\">driven-sweep-12</strong>: <a href=\"https://wandb.ai/oscarscholin/Astro101_Project/runs/valskzmo\" target=\"_blank\">https://wandb.ai/oscarscholin/Astro101_Project/runs/valskzmo</a><br/>Synced 6 W&B file(s), 1 media file(s), 7 artifact file(s) and 1 other file(s)"
      ],
      "text/plain": [
       "<IPython.core.display.HTML object>"
      ]
     },
     "metadata": {},
     "output_type": "display_data"
    },
    {
     "data": {
      "text/html": [
       "Find logs at: <code>./wandb/run-20221116_212815-valskzmo/logs</code>"
      ],
      "text/plain": [
       "<IPython.core.display.HTML object>"
      ]
     },
     "metadata": {},
     "output_type": "display_data"
    },
    {
     "name": "stderr",
     "output_type": "stream",
     "text": [
      "\u001b[34m\u001b[1mwandb\u001b[0m: Agent Starting Run: dhb909i3 with config:\n",
      "\u001b[34m\u001b[1mwandb\u001b[0m: \tbatch_size: 233\n",
      "\u001b[34m\u001b[1mwandb\u001b[0m: \tdropout: 0.24298793893455328\n",
      "\u001b[34m\u001b[1mwandb\u001b[0m: \tepochs: 12\n",
      "\u001b[34m\u001b[1mwandb\u001b[0m: \tlearning_rate: 0.09882350346218095\n",
      "\u001b[34m\u001b[1mwandb\u001b[0m: \tsize_1: 238\n",
      "\u001b[34m\u001b[1mwandb\u001b[0m: \tsize_2: 134\n",
      "\u001b[34m\u001b[1mwandb\u001b[0m: \tsize_3: 124\n",
      "\u001b[34m\u001b[1mwandb\u001b[0m: \tsize_4: 123\n",
      "\u001b[34m\u001b[1mwandb\u001b[0m: \tsize_5: 235\n"
     ]
    },
    {
     "data": {
      "text/html": [
       "Tracking run with wandb version 0.13.5"
      ],
      "text/plain": [
       "<IPython.core.display.HTML object>"
      ]
     },
     "metadata": {},
     "output_type": "display_data"
    },
    {
     "data": {
      "text/html": [
       "Run data is saved locally in <code>/home/oscar47/Desktop/astro101/wandb/run-20221116_212846-dhb909i3</code>"
      ],
      "text/plain": [
       "<IPython.core.display.HTML object>"
      ]
     },
     "metadata": {},
     "output_type": "display_data"
    },
    {
     "data": {
      "text/html": [
       "Syncing run <strong><a href=\"https://wandb.ai/oscarscholin/Astro101_Project/runs/dhb909i3\" target=\"_blank\">sweet-sweep-13</a></strong> to <a href=\"https://wandb.ai/oscarscholin/Astro101_Project\" target=\"_blank\">Weights & Biases</a> (<a href=\"https://wandb.me/run\" target=\"_blank\">docs</a>)<br/>Sweep page:  <a href=\"https://wandb.ai/oscarscholin/Astro101_Project/sweeps/3ouqvjl5\" target=\"_blank\">https://wandb.ai/oscarscholin/Astro101_Project/sweeps/3ouqvjl5</a>"
      ],
      "text/plain": [
       "<IPython.core.display.HTML object>"
      ]
     },
     "metadata": {},
     "output_type": "display_data"
    },
    {
     "name": "stdout",
     "output_type": "stream",
     "text": [
      "Epoch 1/12\n",
      "628/630 [============================>.] - ETA: 0s - loss: 24101.8340INFO:tensorflow:Assets written to: /home/oscar47/Desktop/astro101/wandb/run-20221116_212846-dhb909i3/files/model-best/assets\n"
     ]
    },
    {
     "name": "stderr",
     "output_type": "stream",
     "text": [
      "\u001b[34m\u001b[1mwandb\u001b[0m: Adding directory to artifact (/home/oscar47/Desktop/astro101/wandb/run-20221116_212846-dhb909i3/files/model-best)... Done. 0.0s\n"
     ]
    },
    {
     "name": "stdout",
     "output_type": "stream",
     "text": [
      "630/630 [==============================] - 2s 3ms/step - loss: 24061.8965 - val_loss: 12.5130\n",
      "Epoch 2/12\n",
      "630/630 [==============================] - 1s 2ms/step - loss: 15.0051 - val_loss: 15.5274\n",
      "Epoch 3/12\n",
      "610/630 [============================>.] - ETA: 0s - loss: 5.6908INFO:tensorflow:Assets written to: /home/oscar47/Desktop/astro101/wandb/run-20221116_212846-dhb909i3/files/model-best/assets\n"
     ]
    },
    {
     "name": "stderr",
     "output_type": "stream",
     "text": [
      "\u001b[34m\u001b[1mwandb\u001b[0m: Adding directory to artifact (/home/oscar47/Desktop/astro101/wandb/run-20221116_212846-dhb909i3/files/model-best)... Done. 0.0s\n"
     ]
    },
    {
     "name": "stdout",
     "output_type": "stream",
     "text": [
      "630/630 [==============================] - 2s 3ms/step - loss: 5.6563 - val_loss: 2.9362\n",
      "Epoch 4/12\n",
      "620/630 [============================>.] - ETA: 0s - loss: 3.1172INFO:tensorflow:Assets written to: /home/oscar47/Desktop/astro101/wandb/run-20221116_212846-dhb909i3/files/model-best/assets\n"
     ]
    },
    {
     "name": "stderr",
     "output_type": "stream",
     "text": [
      "\u001b[34m\u001b[1mwandb\u001b[0m: Adding directory to artifact (/home/oscar47/Desktop/astro101/wandb/run-20221116_212846-dhb909i3/files/model-best)... Done. 0.0s\n"
     ]
    },
    {
     "name": "stdout",
     "output_type": "stream",
     "text": [
      "630/630 [==============================] - 2s 3ms/step - loss: 3.0979 - val_loss: 2.3964\n",
      "Epoch 5/12\n",
      "630/630 [==============================] - 1s 2ms/step - loss: 2.4558 - val_loss: 2.6009\n",
      "Epoch 6/12\n",
      "630/630 [==============================] - 1s 2ms/step - loss: 1.7236 - val_loss: 6.6592\n",
      "Epoch 7/12\n",
      "617/630 [============================>.] - ETA: 0s - loss: 1.5871INFO:tensorflow:Assets written to: /home/oscar47/Desktop/astro101/wandb/run-20221116_212846-dhb909i3/files/model-best/assets\n"
     ]
    },
    {
     "name": "stderr",
     "output_type": "stream",
     "text": [
      "\u001b[34m\u001b[1mwandb\u001b[0m: Adding directory to artifact (/home/oscar47/Desktop/astro101/wandb/run-20221116_212846-dhb909i3/files/model-best)... Done. 0.0s\n"
     ]
    },
    {
     "name": "stdout",
     "output_type": "stream",
     "text": [
      "630/630 [==============================] - 2s 3ms/step - loss: 1.5799 - val_loss: 1.3944\n",
      "Epoch 8/12\n",
      "630/630 [==============================] - 2s 2ms/step - loss: 15774307328.0000 - val_loss: 40189304.0000\n",
      "Epoch 9/12\n",
      "630/630 [==============================] - 1s 2ms/step - loss: 24168180.0000 - val_loss: 15179831.0000\n",
      "Epoch 10/12\n",
      "630/630 [==============================] - 2s 2ms/step - loss: 13956226.0000 - val_loss: 7155580.0000\n",
      "Epoch 11/12\n",
      "630/630 [==============================] - 1s 2ms/step - loss: 7564199.5000 - val_loss: 3678778.7500\n",
      "Epoch 12/12\n",
      "630/630 [==============================] - 1s 2ms/step - loss: 5710446.5000 - val_loss: 3882214.0000\n"
     ]
    },
    {
     "data": {
      "text/html": [
       "Waiting for W&B process to finish... <strong style=\"color:green\">(success).</strong>"
      ],
      "text/plain": [
       "<IPython.core.display.HTML object>"
      ]
     },
     "metadata": {},
     "output_type": "display_data"
    },
    {
     "data": {
      "text/html": [
       "<style>\n",
       "    table.wandb td:nth-child(1) { padding: 0 10px; text-align: left ; width: auto;} td:nth-child(2) {text-align: left ; width: 100%}\n",
       "    .wandb-row { display: flex; flex-direction: row; flex-wrap: wrap; justify-content: flex-start; width: 100% }\n",
       "    .wandb-col { display: flex; flex-direction: column; flex-basis: 100%; flex: 1; padding: 10px; }\n",
       "    </style>\n",
       "<div class=\"wandb-row\"><div class=\"wandb-col\"><h3>Run history:</h3><br/><table class=\"wandb\"><tr><td>epoch</td><td>▁▂▂▃▄▄▅▅▆▇▇█</td></tr><tr><td>loss</td><td>▁▁▁▁▁▁▁█▁▁▁▁</td></tr><tr><td>val_loss</td><td>▁▁▁▁▁▁▁█▄▂▂▂</td></tr></table><br/></div><div class=\"wandb-col\"><h3>Run summary:</h3><br/><table class=\"wandb\"><tr><td>best_epoch</td><td>6</td></tr><tr><td>best_val_loss</td><td>1.39442</td></tr><tr><td>epoch</td><td>11</td></tr><tr><td>loss</td><td>5710446.5</td></tr><tr><td>val_loss</td><td>3882214.0</td></tr></table><br/></div></div>"
      ],
      "text/plain": [
       "<IPython.core.display.HTML object>"
      ]
     },
     "metadata": {},
     "output_type": "display_data"
    },
    {
     "data": {
      "text/html": [
       "Synced <strong style=\"color:#cdcd00\">sweet-sweep-13</strong>: <a href=\"https://wandb.ai/oscarscholin/Astro101_Project/runs/dhb909i3\" target=\"_blank\">https://wandb.ai/oscarscholin/Astro101_Project/runs/dhb909i3</a><br/>Synced 6 W&B file(s), 1 media file(s), 13 artifact file(s) and 1 other file(s)"
      ],
      "text/plain": [
       "<IPython.core.display.HTML object>"
      ]
     },
     "metadata": {},
     "output_type": "display_data"
    },
    {
     "data": {
      "text/html": [
       "Find logs at: <code>./wandb/run-20221116_212846-dhb909i3/logs</code>"
      ],
      "text/plain": [
       "<IPython.core.display.HTML object>"
      ]
     },
     "metadata": {},
     "output_type": "display_data"
    },
    {
     "name": "stderr",
     "output_type": "stream",
     "text": [
      "\u001b[34m\u001b[1mwandb\u001b[0m: Agent Starting Run: 742jh92r with config:\n",
      "\u001b[34m\u001b[1mwandb\u001b[0m: \tbatch_size: 232\n",
      "\u001b[34m\u001b[1mwandb\u001b[0m: \tdropout: 0.5370776895514997\n",
      "\u001b[34m\u001b[1mwandb\u001b[0m: \tepochs: 15\n",
      "\u001b[34m\u001b[1mwandb\u001b[0m: \tlearning_rate: 0.000737596809946961\n",
      "\u001b[34m\u001b[1mwandb\u001b[0m: \tsize_1: 225\n",
      "\u001b[34m\u001b[1mwandb\u001b[0m: \tsize_2: 185\n",
      "\u001b[34m\u001b[1mwandb\u001b[0m: \tsize_3: 221\n",
      "\u001b[34m\u001b[1mwandb\u001b[0m: \tsize_4: 201\n",
      "\u001b[34m\u001b[1mwandb\u001b[0m: \tsize_5: 222\n"
     ]
    },
    {
     "data": {
      "text/html": [
       "Tracking run with wandb version 0.13.5"
      ],
      "text/plain": [
       "<IPython.core.display.HTML object>"
      ]
     },
     "metadata": {},
     "output_type": "display_data"
    },
    {
     "data": {
      "text/html": [
       "Run data is saved locally in <code>/home/oscar47/Desktop/astro101/wandb/run-20221116_212917-742jh92r</code>"
      ],
      "text/plain": [
       "<IPython.core.display.HTML object>"
      ]
     },
     "metadata": {},
     "output_type": "display_data"
    },
    {
     "data": {
      "text/html": [
       "Syncing run <strong><a href=\"https://wandb.ai/oscarscholin/Astro101_Project/runs/742jh92r\" target=\"_blank\">fluent-sweep-14</a></strong> to <a href=\"https://wandb.ai/oscarscholin/Astro101_Project\" target=\"_blank\">Weights & Biases</a> (<a href=\"https://wandb.me/run\" target=\"_blank\">docs</a>)<br/>Sweep page:  <a href=\"https://wandb.ai/oscarscholin/Astro101_Project/sweeps/3ouqvjl5\" target=\"_blank\">https://wandb.ai/oscarscholin/Astro101_Project/sweeps/3ouqvjl5</a>"
      ],
      "text/plain": [
       "<IPython.core.display.HTML object>"
      ]
     },
     "metadata": {},
     "output_type": "display_data"
    },
    {
     "name": "stdout",
     "output_type": "stream",
     "text": [
      "Epoch 1/15\n",
      "630/632 [============================>.] - ETA: 0s - loss: 0.9064INFO:tensorflow:Assets written to: /home/oscar47/Desktop/astro101/wandb/run-20221116_212917-742jh92r/files/model-best/assets\n"
     ]
    },
    {
     "name": "stderr",
     "output_type": "stream",
     "text": [
      "\u001b[34m\u001b[1mwandb\u001b[0m: Adding directory to artifact (/home/oscar47/Desktop/astro101/wandb/run-20221116_212917-742jh92r/files/model-best)... Done. 0.0s\n"
     ]
    },
    {
     "name": "stdout",
     "output_type": "stream",
     "text": [
      "632/632 [==============================] - 3s 5ms/step - loss: 0.9059 - val_loss: 0.8040\n",
      "Epoch 2/15\n",
      "622/632 [============================>.] - ETA: 0s - loss: 0.7659INFO:tensorflow:Assets written to: /home/oscar47/Desktop/astro101/wandb/run-20221116_212917-742jh92r/files/model-best/assets\n"
     ]
    },
    {
     "name": "stderr",
     "output_type": "stream",
     "text": [
      "\u001b[34m\u001b[1mwandb\u001b[0m: Adding directory to artifact (/home/oscar47/Desktop/astro101/wandb/run-20221116_212917-742jh92r/files/model-best)... Done. 0.0s\n"
     ]
    },
    {
     "name": "stdout",
     "output_type": "stream",
     "text": [
      "632/632 [==============================] - 3s 5ms/step - loss: 0.7658 - val_loss: 0.7332\n",
      "Epoch 3/15\n",
      "624/632 [============================>.] - ETA: 0s - loss: 0.7480INFO:tensorflow:Assets written to: /home/oscar47/Desktop/astro101/wandb/run-20221116_212917-742jh92r/files/model-best/assets\n"
     ]
    },
    {
     "name": "stderr",
     "output_type": "stream",
     "text": [
      "\u001b[34m\u001b[1mwandb\u001b[0m: Adding directory to artifact (/home/oscar47/Desktop/astro101/wandb/run-20221116_212917-742jh92r/files/model-best)... Done. 0.0s\n"
     ]
    },
    {
     "name": "stdout",
     "output_type": "stream",
     "text": [
      "632/632 [==============================] - 3s 5ms/step - loss: 0.7476 - val_loss: 0.7129\n",
      "Epoch 4/15\n",
      "619/632 [============================>.] - ETA: 0s - loss: 0.7243INFO:tensorflow:Assets written to: /home/oscar47/Desktop/astro101/wandb/run-20221116_212917-742jh92r/files/model-best/assets\n"
     ]
    },
    {
     "name": "stderr",
     "output_type": "stream",
     "text": [
      "\u001b[34m\u001b[1mwandb\u001b[0m: Adding directory to artifact (/home/oscar47/Desktop/astro101/wandb/run-20221116_212917-742jh92r/files/model-best)... Done. 0.0s\n"
     ]
    },
    {
     "name": "stdout",
     "output_type": "stream",
     "text": [
      "632/632 [==============================] - 3s 5ms/step - loss: 0.7243 - val_loss: 0.6808\n",
      "Epoch 5/15\n",
      "632/632 [==============================] - 2s 4ms/step - loss: 0.7134 - val_loss: 0.7029\n",
      "Epoch 6/15\n",
      "632/632 [==============================] - 3s 4ms/step - loss: 0.7006 - val_loss: 0.6836\n",
      "Epoch 7/15\n",
      "632/632 [==============================] - ETA: 0s - loss: 0.6958INFO:tensorflow:Assets written to: /home/oscar47/Desktop/astro101/wandb/run-20221116_212917-742jh92r/files/model-best/assets\n"
     ]
    },
    {
     "name": "stderr",
     "output_type": "stream",
     "text": [
      "\u001b[34m\u001b[1mwandb\u001b[0m: Adding directory to artifact (/home/oscar47/Desktop/astro101/wandb/run-20221116_212917-742jh92r/files/model-best)... Done. 0.0s\n"
     ]
    },
    {
     "name": "stdout",
     "output_type": "stream",
     "text": [
      "632/632 [==============================] - 3s 5ms/step - loss: 0.6958 - val_loss: 0.6652\n",
      "Epoch 8/15\n",
      "632/632 [==============================] - 3s 4ms/step - loss: 0.6889 - val_loss: 0.6787\n",
      "Epoch 9/15\n",
      "632/632 [==============================] - 2s 4ms/step - loss: 0.6848 - val_loss: 0.7023\n",
      "Epoch 10/15\n",
      "632/632 [==============================] - 2s 4ms/step - loss: 0.6814 - val_loss: 0.6658\n",
      "Epoch 11/15\n",
      "632/632 [==============================] - 2s 4ms/step - loss: 0.6786 - val_loss: 0.6770\n",
      "Epoch 12/15\n",
      "632/632 [==============================] - 2s 4ms/step - loss: 0.6734 - val_loss: 0.6684\n",
      "Epoch 13/15\n",
      "632/632 [==============================] - 2s 4ms/step - loss: 0.6777 - val_loss: 0.6706\n",
      "Epoch 14/15\n",
      "629/632 [============================>.] - ETA: 0s - loss: 0.6729INFO:tensorflow:Assets written to: /home/oscar47/Desktop/astro101/wandb/run-20221116_212917-742jh92r/files/model-best/assets\n"
     ]
    },
    {
     "name": "stderr",
     "output_type": "stream",
     "text": [
      "\u001b[34m\u001b[1mwandb\u001b[0m: Adding directory to artifact (/home/oscar47/Desktop/astro101/wandb/run-20221116_212917-742jh92r/files/model-best)... Done. 0.0s\n"
     ]
    },
    {
     "name": "stdout",
     "output_type": "stream",
     "text": [
      "632/632 [==============================] - 3s 5ms/step - loss: 0.6729 - val_loss: 0.6608\n",
      "Epoch 15/15\n",
      "632/632 [==============================] - 2s 4ms/step - loss: 0.6718 - val_loss: 0.6789\n"
     ]
    },
    {
     "data": {
      "text/html": [
       "Waiting for W&B process to finish... <strong style=\"color:green\">(success).</strong>"
      ],
      "text/plain": [
       "<IPython.core.display.HTML object>"
      ]
     },
     "metadata": {},
     "output_type": "display_data"
    },
    {
     "data": {
      "application/vnd.jupyter.widget-view+json": {
       "model_id": "916fba3f974b4b3d80218c9d4b272b33",
       "version_major": 2,
       "version_minor": 0
      },
      "text/plain": [
       "VBox(children=(Label(value='15.806 MB of 15.806 MB uploaded (0.016 MB deduped)\\r'), FloatProgress(value=1.0, m…"
      ]
     },
     "metadata": {},
     "output_type": "display_data"
    },
    {
     "data": {
      "text/html": [
       "<style>\n",
       "    table.wandb td:nth-child(1) { padding: 0 10px; text-align: left ; width: auto;} td:nth-child(2) {text-align: left ; width: 100%}\n",
       "    .wandb-row { display: flex; flex-direction: row; flex-wrap: wrap; justify-content: flex-start; width: 100% }\n",
       "    .wandb-col { display: flex; flex-direction: column; flex-basis: 100%; flex: 1; padding: 10px; }\n",
       "    </style>\n",
       "<div class=\"wandb-row\"><div class=\"wandb-col\"><h3>Run history:</h3><br/><table class=\"wandb\"><tr><td>epoch</td><td>▁▁▂▃▃▃▄▅▅▅▆▇▇▇█</td></tr><tr><td>loss</td><td>█▄▃▃▂▂▂▂▁▁▁▁▁▁▁</td></tr><tr><td>val_loss</td><td>█▅▄▂▃▂▁▂▃▁▂▁▁▁▂</td></tr></table><br/></div><div class=\"wandb-col\"><h3>Run summary:</h3><br/><table class=\"wandb\"><tr><td>best_epoch</td><td>13</td></tr><tr><td>best_val_loss</td><td>0.66084</td></tr><tr><td>epoch</td><td>14</td></tr><tr><td>loss</td><td>0.67181</td></tr><tr><td>val_loss</td><td>0.67886</td></tr></table><br/></div></div>"
      ],
      "text/plain": [
       "<IPython.core.display.HTML object>"
      ]
     },
     "metadata": {},
     "output_type": "display_data"
    },
    {
     "data": {
      "text/html": [
       "Synced <strong style=\"color:#cdcd00\">fluent-sweep-14</strong>: <a href=\"https://wandb.ai/oscarscholin/Astro101_Project/runs/742jh92r\" target=\"_blank\">https://wandb.ai/oscarscholin/Astro101_Project/runs/742jh92r</a><br/>Synced 6 W&B file(s), 1 media file(s), 19 artifact file(s) and 1 other file(s)"
      ],
      "text/plain": [
       "<IPython.core.display.HTML object>"
      ]
     },
     "metadata": {},
     "output_type": "display_data"
    },
    {
     "data": {
      "text/html": [
       "Find logs at: <code>./wandb/run-20221116_212917-742jh92r/logs</code>"
      ],
      "text/plain": [
       "<IPython.core.display.HTML object>"
      ]
     },
     "metadata": {},
     "output_type": "display_data"
    },
    {
     "name": "stderr",
     "output_type": "stream",
     "text": [
      "\u001b[34m\u001b[1mwandb\u001b[0m: Agent Starting Run: 7ux4gmvu with config:\n",
      "\u001b[34m\u001b[1mwandb\u001b[0m: \tbatch_size: 115\n",
      "\u001b[34m\u001b[1mwandb\u001b[0m: \tdropout: 0.0006338728297395013\n",
      "\u001b[34m\u001b[1mwandb\u001b[0m: \tepochs: 11\n",
      "\u001b[34m\u001b[1mwandb\u001b[0m: \tlearning_rate: 0.036492128530878624\n",
      "\u001b[34m\u001b[1mwandb\u001b[0m: \tsize_1: 226\n",
      "\u001b[34m\u001b[1mwandb\u001b[0m: \tsize_2: 219\n",
      "\u001b[34m\u001b[1mwandb\u001b[0m: \tsize_3: 152\n",
      "\u001b[34m\u001b[1mwandb\u001b[0m: \tsize_4: 194\n",
      "\u001b[34m\u001b[1mwandb\u001b[0m: \tsize_5: 239\n"
     ]
    },
    {
     "data": {
      "text/html": [
       "Tracking run with wandb version 0.13.5"
      ],
      "text/plain": [
       "<IPython.core.display.HTML object>"
      ]
     },
     "metadata": {},
     "output_type": "display_data"
    },
    {
     "data": {
      "text/html": [
       "Run data is saved locally in <code>/home/oscar47/Desktop/astro101/wandb/run-20221116_213010-7ux4gmvu</code>"
      ],
      "text/plain": [
       "<IPython.core.display.HTML object>"
      ]
     },
     "metadata": {},
     "output_type": "display_data"
    },
    {
     "data": {
      "text/html": [
       "Syncing run <strong><a href=\"https://wandb.ai/oscarscholin/Astro101_Project/runs/7ux4gmvu\" target=\"_blank\">morning-sweep-15</a></strong> to <a href=\"https://wandb.ai/oscarscholin/Astro101_Project\" target=\"_blank\">Weights & Biases</a> (<a href=\"https://wandb.me/run\" target=\"_blank\">docs</a>)<br/>Sweep page:  <a href=\"https://wandb.ai/oscarscholin/Astro101_Project/sweeps/3ouqvjl5\" target=\"_blank\">https://wandb.ai/oscarscholin/Astro101_Project/sweeps/3ouqvjl5</a>"
      ],
      "text/plain": [
       "<IPython.core.display.HTML object>"
      ]
     },
     "metadata": {},
     "output_type": "display_data"
    },
    {
     "name": "stdout",
     "output_type": "stream",
     "text": [
      "Epoch 1/11\n",
      "1251/1275 [============================>.] - ETA: 0s - loss: 94.7923INFO:tensorflow:Assets written to: /home/oscar47/Desktop/astro101/wandb/run-20221116_213010-7ux4gmvu/files/model-best/assets\n"
     ]
    },
    {
     "name": "stderr",
     "output_type": "stream",
     "text": [
      "\u001b[34m\u001b[1mwandb\u001b[0m: Adding directory to artifact (/home/oscar47/Desktop/astro101/wandb/run-20221116_213010-7ux4gmvu/files/model-best)... Done. 0.0s\n"
     ]
    },
    {
     "name": "stdout",
     "output_type": "stream",
     "text": [
      "1275/1275 [==============================] - 3s 3ms/step - loss: 93.0602 - val_loss: 0.8713\n",
      "Epoch 2/11\n",
      "1250/1275 [============================>.] - ETA: 0s - loss: 0.7978INFO:tensorflow:Assets written to: /home/oscar47/Desktop/astro101/wandb/run-20221116_213010-7ux4gmvu/files/model-best/assets\n"
     ]
    },
    {
     "name": "stderr",
     "output_type": "stream",
     "text": [
      "\u001b[34m\u001b[1mwandb\u001b[0m: Adding directory to artifact (/home/oscar47/Desktop/astro101/wandb/run-20221116_213010-7ux4gmvu/files/model-best)... Done. 0.0s\n"
     ]
    },
    {
     "name": "stdout",
     "output_type": "stream",
     "text": [
      "1275/1275 [==============================] - 3s 3ms/step - loss: 0.7975 - val_loss: 0.7768\n",
      "Epoch 3/11\n",
      "1265/1275 [============================>.] - ETA: 0s - loss: 0.7726INFO:tensorflow:Assets written to: /home/oscar47/Desktop/astro101/wandb/run-20221116_213010-7ux4gmvu/files/model-best/assets\n"
     ]
    },
    {
     "name": "stderr",
     "output_type": "stream",
     "text": [
      "\u001b[34m\u001b[1mwandb\u001b[0m: Adding directory to artifact (/home/oscar47/Desktop/astro101/wandb/run-20221116_213010-7ux4gmvu/files/model-best)... Done. 0.0s\n"
     ]
    },
    {
     "name": "stdout",
     "output_type": "stream",
     "text": [
      "1275/1275 [==============================] - 4s 3ms/step - loss: 0.7736 - val_loss: 0.7647\n",
      "Epoch 4/11\n",
      "1260/1275 [============================>.] - ETA: 0s - loss: 0.7599INFO:tensorflow:Assets written to: /home/oscar47/Desktop/astro101/wandb/run-20221116_213010-7ux4gmvu/files/model-best/assets\n"
     ]
    },
    {
     "name": "stderr",
     "output_type": "stream",
     "text": [
      "\u001b[34m\u001b[1mwandb\u001b[0m: Adding directory to artifact (/home/oscar47/Desktop/astro101/wandb/run-20221116_213010-7ux4gmvu/files/model-best)... Done. 0.0s\n"
     ]
    },
    {
     "name": "stdout",
     "output_type": "stream",
     "text": [
      "1275/1275 [==============================] - 3s 3ms/step - loss: 0.7596 - val_loss: 0.7167\n",
      "Epoch 5/11\n",
      "1275/1275 [==============================] - 3s 2ms/step - loss: 0.7517 - val_loss: 0.7249\n",
      "Epoch 6/11\n",
      "1275/1275 [==============================] - 3s 2ms/step - loss: 0.7590 - val_loss: 0.7396\n",
      "Epoch 7/11\n",
      "1275/1275 [==============================] - 3s 2ms/step - loss: 20471030.0000 - val_loss: 206521.0312\n",
      "Epoch 8/11\n",
      "1275/1275 [==============================] - 3s 2ms/step - loss: 54458.9844 - val_loss: 20801.2227\n",
      "Epoch 9/11\n",
      "1275/1275 [==============================] - 3s 2ms/step - loss: 19485.9609 - val_loss: 27223.9102\n",
      "Epoch 10/11\n",
      "1275/1275 [==============================] - 3s 2ms/step - loss: 68987.1719 - val_loss: 1088.0634\n",
      "Epoch 11/11\n",
      "1275/1275 [==============================] - 3s 2ms/step - loss: 934.2314 - val_loss: 1796.7755\n"
     ]
    },
    {
     "data": {
      "text/html": [
       "Waiting for W&B process to finish... <strong style=\"color:green\">(success).</strong>"
      ],
      "text/plain": [
       "<IPython.core.display.HTML object>"
      ]
     },
     "metadata": {},
     "output_type": "display_data"
    },
    {
     "data": {
      "text/html": [
       "<style>\n",
       "    table.wandb td:nth-child(1) { padding: 0 10px; text-align: left ; width: auto;} td:nth-child(2) {text-align: left ; width: 100%}\n",
       "    .wandb-row { display: flex; flex-direction: row; flex-wrap: wrap; justify-content: flex-start; width: 100% }\n",
       "    .wandb-col { display: flex; flex-direction: column; flex-basis: 100%; flex: 1; padding: 10px; }\n",
       "    </style>\n",
       "<div class=\"wandb-row\"><div class=\"wandb-col\"><h3>Run history:</h3><br/><table class=\"wandb\"><tr><td>epoch</td><td>▁▂▂▃▄▅▅▆▇▇█</td></tr><tr><td>loss</td><td>▁▁▁▁▁▁█▁▁▁▁</td></tr><tr><td>val_loss</td><td>▁▁▁▁▁▁█▂▂▁▁</td></tr></table><br/></div><div class=\"wandb-col\"><h3>Run summary:</h3><br/><table class=\"wandb\"><tr><td>best_epoch</td><td>3</td></tr><tr><td>best_val_loss</td><td>0.71669</td></tr><tr><td>epoch</td><td>10</td></tr><tr><td>loss</td><td>934.23138</td></tr><tr><td>val_loss</td><td>1796.77551</td></tr></table><br/></div></div>"
      ],
      "text/plain": [
       "<IPython.core.display.HTML object>"
      ]
     },
     "metadata": {},
     "output_type": "display_data"
    },
    {
     "data": {
      "text/html": [
       "Synced <strong style=\"color:#cdcd00\">morning-sweep-15</strong>: <a href=\"https://wandb.ai/oscarscholin/Astro101_Project/runs/7ux4gmvu\" target=\"_blank\">https://wandb.ai/oscarscholin/Astro101_Project/runs/7ux4gmvu</a><br/>Synced 6 W&B file(s), 1 media file(s), 13 artifact file(s) and 1 other file(s)"
      ],
      "text/plain": [
       "<IPython.core.display.HTML object>"
      ]
     },
     "metadata": {},
     "output_type": "display_data"
    },
    {
     "data": {
      "text/html": [
       "Find logs at: <code>./wandb/run-20221116_213010-7ux4gmvu/logs</code>"
      ],
      "text/plain": [
       "<IPython.core.display.HTML object>"
      ]
     },
     "metadata": {},
     "output_type": "display_data"
    },
    {
     "name": "stderr",
     "output_type": "stream",
     "text": [
      "\u001b[34m\u001b[1mwandb\u001b[0m: Agent Starting Run: e3vcxiuo with config:\n",
      "\u001b[34m\u001b[1mwandb\u001b[0m: \tbatch_size: 97\n",
      "\u001b[34m\u001b[1mwandb\u001b[0m: \tdropout: 0.38467902275796795\n",
      "\u001b[34m\u001b[1mwandb\u001b[0m: \tepochs: 12\n",
      "\u001b[34m\u001b[1mwandb\u001b[0m: \tlearning_rate: 0.08992250483574521\n",
      "\u001b[34m\u001b[1mwandb\u001b[0m: \tsize_1: 75\n",
      "\u001b[34m\u001b[1mwandb\u001b[0m: \tsize_2: 72\n",
      "\u001b[34m\u001b[1mwandb\u001b[0m: \tsize_3: 148\n",
      "\u001b[34m\u001b[1mwandb\u001b[0m: \tsize_4: 222\n",
      "\u001b[34m\u001b[1mwandb\u001b[0m: \tsize_5: 76\n"
     ]
    },
    {
     "data": {
      "text/html": [
       "Tracking run with wandb version 0.13.5"
      ],
      "text/plain": [
       "<IPython.core.display.HTML object>"
      ]
     },
     "metadata": {},
     "output_type": "display_data"
    },
    {
     "data": {
      "text/html": [
       "Run data is saved locally in <code>/home/oscar47/Desktop/astro101/wandb/run-20221116_213056-e3vcxiuo</code>"
      ],
      "text/plain": [
       "<IPython.core.display.HTML object>"
      ]
     },
     "metadata": {},
     "output_type": "display_data"
    },
    {
     "data": {
      "text/html": [
       "Syncing run <strong><a href=\"https://wandb.ai/oscarscholin/Astro101_Project/runs/e3vcxiuo\" target=\"_blank\">tough-sweep-16</a></strong> to <a href=\"https://wandb.ai/oscarscholin/Astro101_Project\" target=\"_blank\">Weights & Biases</a> (<a href=\"https://wandb.me/run\" target=\"_blank\">docs</a>)<br/>Sweep page:  <a href=\"https://wandb.ai/oscarscholin/Astro101_Project/sweeps/3ouqvjl5\" target=\"_blank\">https://wandb.ai/oscarscholin/Astro101_Project/sweeps/3ouqvjl5</a>"
      ],
      "text/plain": [
       "<IPython.core.display.HTML object>"
      ]
     },
     "metadata": {},
     "output_type": "display_data"
    },
    {
     "name": "stdout",
     "output_type": "stream",
     "text": [
      "Epoch 1/12\n",
      "1484/1511 [============================>.] - ETA: 0s - loss: 217.9780INFO:tensorflow:Assets written to: /home/oscar47/Desktop/astro101/wandb/run-20221116_213056-e3vcxiuo/files/model-best/assets\n"
     ]
    },
    {
     "name": "stderr",
     "output_type": "stream",
     "text": [
      "\u001b[34m\u001b[1mwandb\u001b[0m: Adding directory to artifact (/home/oscar47/Desktop/astro101/wandb/run-20221116_213056-e3vcxiuo/files/model-best)... Done. 0.0s\n"
     ]
    },
    {
     "name": "stdout",
     "output_type": "stream",
     "text": [
      "1511/1511 [==============================] - 3s 2ms/step - loss: 214.1024 - val_loss: 0.8370\n",
      "Epoch 2/12\n",
      "1476/1511 [============================>.] - ETA: 0s - loss: 0.9596INFO:tensorflow:Assets written to: /home/oscar47/Desktop/astro101/wandb/run-20221116_213056-e3vcxiuo/files/model-best/assets\n"
     ]
    },
    {
     "name": "stderr",
     "output_type": "stream",
     "text": [
      "\u001b[34m\u001b[1mwandb\u001b[0m: Adding directory to artifact (/home/oscar47/Desktop/astro101/wandb/run-20221116_213056-e3vcxiuo/files/model-best)... Done. 0.0s\n"
     ]
    },
    {
     "name": "stdout",
     "output_type": "stream",
     "text": [
      "1511/1511 [==============================] - 2s 2ms/step - loss: 0.9587 - val_loss: 0.7717\n",
      "Epoch 3/12\n",
      "1483/1511 [============================>.] - ETA: 0s - loss: 0.8508INFO:tensorflow:Assets written to: /home/oscar47/Desktop/astro101/wandb/run-20221116_213056-e3vcxiuo/files/model-best/assets\n"
     ]
    },
    {
     "name": "stderr",
     "output_type": "stream",
     "text": [
      "\u001b[34m\u001b[1mwandb\u001b[0m: Adding directory to artifact (/home/oscar47/Desktop/astro101/wandb/run-20221116_213056-e3vcxiuo/files/model-best)... Done. 0.0s\n"
     ]
    },
    {
     "name": "stdout",
     "output_type": "stream",
     "text": [
      "1511/1511 [==============================] - 3s 2ms/step - loss: 0.8508 - val_loss: 0.7359\n",
      "Epoch 4/12\n",
      "1511/1511 [==============================] - 2s 1ms/step - loss: 0.8386 - val_loss: 0.8786\n",
      "Epoch 5/12\n",
      "1511/1511 [==============================] - 2s 1ms/step - loss: 0.8436 - val_loss: 0.7661\n",
      "Epoch 6/12\n",
      "1511/1511 [==============================] - 2s 1ms/step - loss: 0.8649 - val_loss: 0.8131\n",
      "Epoch 7/12\n",
      "1511/1511 [==============================] - 2s 1ms/step - loss: 120315672.0000 - val_loss: 189515.1406\n",
      "Epoch 8/12\n",
      "1511/1511 [==============================] - 2s 1ms/step - loss: 225556.2344 - val_loss: 76123.3438\n",
      "Epoch 9/12\n",
      "1511/1511 [==============================] - 2s 1ms/step - loss: 82731.3906 - val_loss: 41527.1602\n",
      "Epoch 10/12\n",
      "1511/1511 [==============================] - 2s 1ms/step - loss: 29496.7988 - val_loss: 26213.0605\n",
      "Epoch 11/12\n",
      "1511/1511 [==============================] - 2s 1ms/step - loss: 14268.3447 - val_loss: 5678.0083\n",
      "Epoch 12/12\n",
      "1511/1511 [==============================] - 2s 1ms/step - loss: 129542656.0000 - val_loss: 288276.5000\n"
     ]
    },
    {
     "data": {
      "text/html": [
       "Waiting for W&B process to finish... <strong style=\"color:green\">(success).</strong>"
      ],
      "text/plain": [
       "<IPython.core.display.HTML object>"
      ]
     },
     "metadata": {},
     "output_type": "display_data"
    },
    {
     "data": {
      "text/html": [
       "<style>\n",
       "    table.wandb td:nth-child(1) { padding: 0 10px; text-align: left ; width: auto;} td:nth-child(2) {text-align: left ; width: 100%}\n",
       "    .wandb-row { display: flex; flex-direction: row; flex-wrap: wrap; justify-content: flex-start; width: 100% }\n",
       "    .wandb-col { display: flex; flex-direction: column; flex-basis: 100%; flex: 1; padding: 10px; }\n",
       "    </style>\n",
       "<div class=\"wandb-row\"><div class=\"wandb-col\"><h3>Run history:</h3><br/><table class=\"wandb\"><tr><td>epoch</td><td>▁▂▂▃▄▄▅▅▆▇▇█</td></tr><tr><td>loss</td><td>▁▁▁▁▁▁█▁▁▁▁█</td></tr><tr><td>val_loss</td><td>▁▁▁▁▁▁▆▃▂▂▁█</td></tr></table><br/></div><div class=\"wandb-col\"><h3>Run summary:</h3><br/><table class=\"wandb\"><tr><td>best_epoch</td><td>2</td></tr><tr><td>best_val_loss</td><td>0.73592</td></tr><tr><td>epoch</td><td>11</td></tr><tr><td>loss</td><td>129542656.0</td></tr><tr><td>val_loss</td><td>288276.5</td></tr></table><br/></div></div>"
      ],
      "text/plain": [
       "<IPython.core.display.HTML object>"
      ]
     },
     "metadata": {},
     "output_type": "display_data"
    },
    {
     "data": {
      "text/html": [
       "Synced <strong style=\"color:#cdcd00\">tough-sweep-16</strong>: <a href=\"https://wandb.ai/oscarscholin/Astro101_Project/runs/e3vcxiuo\" target=\"_blank\">https://wandb.ai/oscarscholin/Astro101_Project/runs/e3vcxiuo</a><br/>Synced 6 W&B file(s), 1 media file(s), 10 artifact file(s) and 1 other file(s)"
      ],
      "text/plain": [
       "<IPython.core.display.HTML object>"
      ]
     },
     "metadata": {},
     "output_type": "display_data"
    },
    {
     "data": {
      "text/html": [
       "Find logs at: <code>./wandb/run-20221116_213056-e3vcxiuo/logs</code>"
      ],
      "text/plain": [
       "<IPython.core.display.HTML object>"
      ]
     },
     "metadata": {},
     "output_type": "display_data"
    },
    {
     "name": "stderr",
     "output_type": "stream",
     "text": [
      "\u001b[34m\u001b[1mwandb\u001b[0m: Agent Starting Run: 59x1ybiy with config:\n",
      "\u001b[34m\u001b[1mwandb\u001b[0m: \tbatch_size: 72\n",
      "\u001b[34m\u001b[1mwandb\u001b[0m: \tdropout: 0.3254052853269001\n",
      "\u001b[34m\u001b[1mwandb\u001b[0m: \tepochs: 10\n",
      "\u001b[34m\u001b[1mwandb\u001b[0m: \tlearning_rate: 0.06385007993781693\n",
      "\u001b[34m\u001b[1mwandb\u001b[0m: \tsize_1: 117\n",
      "\u001b[34m\u001b[1mwandb\u001b[0m: \tsize_2: 111\n",
      "\u001b[34m\u001b[1mwandb\u001b[0m: \tsize_3: 96\n",
      "\u001b[34m\u001b[1mwandb\u001b[0m: \tsize_4: 229\n",
      "\u001b[34m\u001b[1mwandb\u001b[0m: \tsize_5: 117\n"
     ]
    },
    {
     "data": {
      "text/html": [
       "Tracking run with wandb version 0.13.5"
      ],
      "text/plain": [
       "<IPython.core.display.HTML object>"
      ]
     },
     "metadata": {},
     "output_type": "display_data"
    },
    {
     "data": {
      "text/html": [
       "Run data is saved locally in <code>/home/oscar47/Desktop/astro101/wandb/run-20221116_213132-59x1ybiy</code>"
      ],
      "text/plain": [
       "<IPython.core.display.HTML object>"
      ]
     },
     "metadata": {},
     "output_type": "display_data"
    },
    {
     "data": {
      "text/html": [
       "Syncing run <strong><a href=\"https://wandb.ai/oscarscholin/Astro101_Project/runs/59x1ybiy\" target=\"_blank\">fanciful-sweep-17</a></strong> to <a href=\"https://wandb.ai/oscarscholin/Astro101_Project\" target=\"_blank\">Weights & Biases</a> (<a href=\"https://wandb.me/run\" target=\"_blank\">docs</a>)<br/>Sweep page:  <a href=\"https://wandb.ai/oscarscholin/Astro101_Project/sweeps/3ouqvjl5\" target=\"_blank\">https://wandb.ai/oscarscholin/Astro101_Project/sweeps/3ouqvjl5</a>"
      ],
      "text/plain": [
       "<IPython.core.display.HTML object>"
      ]
     },
     "metadata": {},
     "output_type": "display_data"
    },
    {
     "name": "stdout",
     "output_type": "stream",
     "text": [
      "Epoch 1/10\n",
      "2010/2036 [============================>.] - ETA: 0s - loss: 101.3690INFO:tensorflow:Assets written to: /home/oscar47/Desktop/astro101/wandb/run-20221116_213132-59x1ybiy/files/model-best/assets\n"
     ]
    },
    {
     "name": "stderr",
     "output_type": "stream",
     "text": [
      "\u001b[34m\u001b[1mwandb\u001b[0m: Adding directory to artifact (/home/oscar47/Desktop/astro101/wandb/run-20221116_213132-59x1ybiy/files/model-best)... Done. 0.0s\n"
     ]
    },
    {
     "name": "stdout",
     "output_type": "stream",
     "text": [
      "2036/2036 [==============================] - 3s 2ms/step - loss: 100.1032 - val_loss: 0.8008\n",
      "Epoch 2/10\n",
      "2032/2036 [============================>.] - ETA: 0s - loss: 0.8508INFO:tensorflow:Assets written to: /home/oscar47/Desktop/astro101/wandb/run-20221116_213132-59x1ybiy/files/model-best/assets\n"
     ]
    },
    {
     "name": "stderr",
     "output_type": "stream",
     "text": [
      "\u001b[34m\u001b[1mwandb\u001b[0m: Adding directory to artifact (/home/oscar47/Desktop/astro101/wandb/run-20221116_213132-59x1ybiy/files/model-best)... Done. 0.0s\n"
     ]
    },
    {
     "name": "stdout",
     "output_type": "stream",
     "text": [
      "2036/2036 [==============================] - 3s 2ms/step - loss: 0.8510 - val_loss: 0.7990\n",
      "Epoch 3/10\n",
      "2017/2036 [============================>.] - ETA: 0s - loss: 0.8119INFO:tensorflow:Assets written to: /home/oscar47/Desktop/astro101/wandb/run-20221116_213132-59x1ybiy/files/model-best/assets\n"
     ]
    },
    {
     "name": "stderr",
     "output_type": "stream",
     "text": [
      "\u001b[34m\u001b[1mwandb\u001b[0m: Adding directory to artifact (/home/oscar47/Desktop/astro101/wandb/run-20221116_213132-59x1ybiy/files/model-best)... Done. 0.0s\n"
     ]
    },
    {
     "name": "stdout",
     "output_type": "stream",
     "text": [
      "2036/2036 [==============================] - 3s 2ms/step - loss: 0.8128 - val_loss: 0.7553\n",
      "Epoch 4/10\n",
      "2036/2036 [==============================] - 3s 1ms/step - loss: 0.8383 - val_loss: 1.0669\n",
      "Epoch 5/10\n",
      "2036/2036 [==============================] - 3s 1ms/step - loss: 40821708.0000 - val_loss: 85285.9297\n",
      "Epoch 6/10\n",
      "2036/2036 [==============================] - 3s 1ms/step - loss: 146339.8438 - val_loss: 108703.3125\n",
      "Epoch 7/10\n",
      "2036/2036 [==============================] - 3s 1ms/step - loss: 48944.3008 - val_loss: 28894.9453\n",
      "Epoch 8/10\n",
      "2036/2036 [==============================] - 3s 1ms/step - loss: 640455.8125 - val_loss: 3395.2039\n",
      "Epoch 9/10\n",
      "2036/2036 [==============================] - 3s 1ms/step - loss: 4455.9004 - val_loss: 1498.6747\n",
      "Epoch 10/10\n",
      "2036/2036 [==============================] - 3s 1ms/step - loss: 5519.7563 - val_loss: 909.4592\n"
     ]
    },
    {
     "data": {
      "text/html": [
       "Waiting for W&B process to finish... <strong style=\"color:green\">(success).</strong>"
      ],
      "text/plain": [
       "<IPython.core.display.HTML object>"
      ]
     },
     "metadata": {},
     "output_type": "display_data"
    },
    {
     "data": {
      "application/vnd.jupyter.widget-view+json": {
       "model_id": "aa1c81b1b65b44479f83319968ce19e5",
       "version_major": 2,
       "version_minor": 0
      },
      "text/plain": [
       "VBox(children=(Label(value='4.230 MB of 4.230 MB uploaded (0.016 MB deduped)\\r'), FloatProgress(value=1.0, max…"
      ]
     },
     "metadata": {},
     "output_type": "display_data"
    },
    {
     "data": {
      "text/html": [
       "<style>\n",
       "    table.wandb td:nth-child(1) { padding: 0 10px; text-align: left ; width: auto;} td:nth-child(2) {text-align: left ; width: 100%}\n",
       "    .wandb-row { display: flex; flex-direction: row; flex-wrap: wrap; justify-content: flex-start; width: 100% }\n",
       "    .wandb-col { display: flex; flex-direction: column; flex-basis: 100%; flex: 1; padding: 10px; }\n",
       "    </style>\n",
       "<div class=\"wandb-row\"><div class=\"wandb-col\"><h3>Run history:</h3><br/><table class=\"wandb\"><tr><td>epoch</td><td>▁▂▃▃▄▅▆▆▇█</td></tr><tr><td>loss</td><td>▁▁▁▁█▁▁▁▁▁</td></tr><tr><td>val_loss</td><td>▁▁▁▁▆█▃▁▁▁</td></tr></table><br/></div><div class=\"wandb-col\"><h3>Run summary:</h3><br/><table class=\"wandb\"><tr><td>best_epoch</td><td>2</td></tr><tr><td>best_val_loss</td><td>0.75532</td></tr><tr><td>epoch</td><td>9</td></tr><tr><td>loss</td><td>5519.75635</td></tr><tr><td>val_loss</td><td>909.45923</td></tr></table><br/></div></div>"
      ],
      "text/plain": [
       "<IPython.core.display.HTML object>"
      ]
     },
     "metadata": {},
     "output_type": "display_data"
    },
    {
     "data": {
      "text/html": [
       "Synced <strong style=\"color:#cdcd00\">fanciful-sweep-17</strong>: <a href=\"https://wandb.ai/oscarscholin/Astro101_Project/runs/59x1ybiy\" target=\"_blank\">https://wandb.ai/oscarscholin/Astro101_Project/runs/59x1ybiy</a><br/>Synced 6 W&B file(s), 1 media file(s), 10 artifact file(s) and 1 other file(s)"
      ],
      "text/plain": [
       "<IPython.core.display.HTML object>"
      ]
     },
     "metadata": {},
     "output_type": "display_data"
    },
    {
     "data": {
      "text/html": [
       "Find logs at: <code>./wandb/run-20221116_213132-59x1ybiy/logs</code>"
      ],
      "text/plain": [
       "<IPython.core.display.HTML object>"
      ]
     },
     "metadata": {},
     "output_type": "display_data"
    },
    {
     "name": "stderr",
     "output_type": "stream",
     "text": [
      "\u001b[34m\u001b[1mwandb\u001b[0m: Agent Starting Run: q0pxba27 with config:\n",
      "\u001b[34m\u001b[1mwandb\u001b[0m: \tbatch_size: 85\n",
      "\u001b[34m\u001b[1mwandb\u001b[0m: \tdropout: 0.22146412408304345\n",
      "\u001b[34m\u001b[1mwandb\u001b[0m: \tepochs: 16\n",
      "\u001b[34m\u001b[1mwandb\u001b[0m: \tlearning_rate: 0.060983567722005465\n",
      "\u001b[34m\u001b[1mwandb\u001b[0m: \tsize_1: 229\n",
      "\u001b[34m\u001b[1mwandb\u001b[0m: \tsize_2: 209\n",
      "\u001b[34m\u001b[1mwandb\u001b[0m: \tsize_3: 98\n",
      "\u001b[34m\u001b[1mwandb\u001b[0m: \tsize_4: 231\n",
      "\u001b[34m\u001b[1mwandb\u001b[0m: \tsize_5: 149\n"
     ]
    },
    {
     "data": {
      "text/html": [
       "Tracking run with wandb version 0.13.5"
      ],
      "text/plain": [
       "<IPython.core.display.HTML object>"
      ]
     },
     "metadata": {},
     "output_type": "display_data"
    },
    {
     "data": {
      "text/html": [
       "Run data is saved locally in <code>/home/oscar47/Desktop/astro101/wandb/run-20221116_213212-q0pxba27</code>"
      ],
      "text/plain": [
       "<IPython.core.display.HTML object>"
      ]
     },
     "metadata": {},
     "output_type": "display_data"
    },
    {
     "data": {
      "text/html": [
       "Syncing run <strong><a href=\"https://wandb.ai/oscarscholin/Astro101_Project/runs/q0pxba27\" target=\"_blank\">wandering-sweep-18</a></strong> to <a href=\"https://wandb.ai/oscarscholin/Astro101_Project\" target=\"_blank\">Weights & Biases</a> (<a href=\"https://wandb.me/run\" target=\"_blank\">docs</a>)<br/>Sweep page:  <a href=\"https://wandb.ai/oscarscholin/Astro101_Project/sweeps/3ouqvjl5\" target=\"_blank\">https://wandb.ai/oscarscholin/Astro101_Project/sweeps/3ouqvjl5</a>"
      ],
      "text/plain": [
       "<IPython.core.display.HTML object>"
      ]
     },
     "metadata": {},
     "output_type": "display_data"
    },
    {
     "name": "stdout",
     "output_type": "stream",
     "text": [
      "Epoch 1/16\n",
      "1720/1725 [============================>.] - ETA: 0s - loss: 655.3777INFO:tensorflow:Assets written to: /home/oscar47/Desktop/astro101/wandb/run-20221116_213212-q0pxba27/files/model-best/assets\n"
     ]
    },
    {
     "name": "stderr",
     "output_type": "stream",
     "text": [
      "\u001b[34m\u001b[1mwandb\u001b[0m: Adding directory to artifact (/home/oscar47/Desktop/astro101/wandb/run-20221116_213212-q0pxba27/files/model-best)... Done. 0.0s\n"
     ]
    },
    {
     "name": "stdout",
     "output_type": "stream",
     "text": [
      "1725/1725 [==============================] - 5s 3ms/step - loss: 653.7394 - val_loss: 1.1106\n",
      "Epoch 2/16\n",
      "1725/1725 [==============================] - 3s 2ms/step - loss: 390715744.0000 - val_loss: 3085174.5000\n",
      "Epoch 3/16\n",
      "1725/1725 [==============================] - 3s 2ms/step - loss: 1854102.8750 - val_loss: 623872.1250\n",
      "Epoch 4/16\n",
      "1725/1725 [==============================] - 3s 2ms/step - loss: 587608.0000 - val_loss: 139353.5312\n",
      "Epoch 5/16\n",
      "1725/1725 [==============================] - 3s 2ms/step - loss: 225126.3750 - val_loss: 74700.5859\n",
      "Epoch 6/16\n",
      "1725/1725 [==============================] - 3s 2ms/step - loss: 324747968.0000 - val_loss: 3406477.5000\n",
      "Epoch 7/16\n",
      "1725/1725 [==============================] - 3s 2ms/step - loss: 2337879.7500 - val_loss: 613356.1875\n",
      "Epoch 8/16\n",
      "1725/1725 [==============================] - 3s 2ms/step - loss: 745281.0625 - val_loss: 271068.8438\n",
      "Epoch 9/16\n",
      "1725/1725 [==============================] - 3s 2ms/step - loss: 317546.3750 - val_loss: 187463.7656\n",
      "Epoch 10/16\n",
      "1725/1725 [==============================] - 3s 2ms/step - loss: 198430304.0000 - val_loss: 4434821.5000\n",
      "Epoch 11/16\n",
      "1725/1725 [==============================] - 3s 2ms/step - loss: 1475997.7500 - val_loss: 404832.1562\n",
      "Epoch 12/16\n",
      "1725/1725 [==============================] - 3s 2ms/step - loss: 481810.7500 - val_loss: 252836.4219\n",
      "Epoch 13/16\n",
      "1725/1725 [==============================] - 3s 2ms/step - loss: 258905.8125 - val_loss: 164111.9375\n",
      "Epoch 14/16\n",
      "1725/1725 [==============================] - 3s 2ms/step - loss: 180174080.0000 - val_loss: 1947371.7500\n",
      "Epoch 15/16\n",
      "1725/1725 [==============================] - 3s 2ms/step - loss: 678171.1875 - val_loss: 335279.4688\n",
      "Epoch 16/16\n",
      "1725/1725 [==============================] - 3s 2ms/step - loss: 345389.2812 - val_loss: 79357.6641\n"
     ]
    },
    {
     "data": {
      "text/html": [
       "Waiting for W&B process to finish... <strong style=\"color:green\">(success).</strong>"
      ],
      "text/plain": [
       "<IPython.core.display.HTML object>"
      ]
     },
     "metadata": {},
     "output_type": "display_data"
    },
    {
     "data": {
      "text/html": [
       "<style>\n",
       "    table.wandb td:nth-child(1) { padding: 0 10px; text-align: left ; width: auto;} td:nth-child(2) {text-align: left ; width: 100%}\n",
       "    .wandb-row { display: flex; flex-direction: row; flex-wrap: wrap; justify-content: flex-start; width: 100% }\n",
       "    .wandb-col { display: flex; flex-direction: column; flex-basis: 100%; flex: 1; padding: 10px; }\n",
       "    </style>\n",
       "<div class=\"wandb-row\"><div class=\"wandb-col\"><h3>Run history:</h3><br/><table class=\"wandb\"><tr><td>epoch</td><td>▁▁▂▂▃▃▄▄▅▅▆▆▇▇██</td></tr><tr><td>loss</td><td>▁█▁▁▁▇▁▁▁▅▁▁▁▄▁▁</td></tr><tr><td>val_loss</td><td>▁▆▂▁▁▆▂▁▁█▂▁▁▄▂▁</td></tr></table><br/></div><div class=\"wandb-col\"><h3>Run summary:</h3><br/><table class=\"wandb\"><tr><td>best_epoch</td><td>0</td></tr><tr><td>best_val_loss</td><td>1.11057</td></tr><tr><td>epoch</td><td>15</td></tr><tr><td>loss</td><td>345389.28125</td></tr><tr><td>val_loss</td><td>79357.66406</td></tr></table><br/></div></div>"
      ],
      "text/plain": [
       "<IPython.core.display.HTML object>"
      ]
     },
     "metadata": {},
     "output_type": "display_data"
    },
    {
     "data": {
      "text/html": [
       "Synced <strong style=\"color:#cdcd00\">wandering-sweep-18</strong>: <a href=\"https://wandb.ai/oscarscholin/Astro101_Project/runs/q0pxba27\" target=\"_blank\">https://wandb.ai/oscarscholin/Astro101_Project/runs/q0pxba27</a><br/>Synced 6 W&B file(s), 1 media file(s), 4 artifact file(s) and 1 other file(s)"
      ],
      "text/plain": [
       "<IPython.core.display.HTML object>"
      ]
     },
     "metadata": {},
     "output_type": "display_data"
    },
    {
     "data": {
      "text/html": [
       "Find logs at: <code>./wandb/run-20221116_213212-q0pxba27/logs</code>"
      ],
      "text/plain": [
       "<IPython.core.display.HTML object>"
      ]
     },
     "metadata": {},
     "output_type": "display_data"
    },
    {
     "name": "stderr",
     "output_type": "stream",
     "text": [
      "\u001b[34m\u001b[1mwandb\u001b[0m: Agent Starting Run: bpkjyw60 with config:\n",
      "\u001b[34m\u001b[1mwandb\u001b[0m: \tbatch_size: 199\n",
      "\u001b[34m\u001b[1mwandb\u001b[0m: \tdropout: 0.45907357867594795\n",
      "\u001b[34m\u001b[1mwandb\u001b[0m: \tepochs: 11\n",
      "\u001b[34m\u001b[1mwandb\u001b[0m: \tlearning_rate: 0.03210890510015785\n",
      "\u001b[34m\u001b[1mwandb\u001b[0m: \tsize_1: 165\n",
      "\u001b[34m\u001b[1mwandb\u001b[0m: \tsize_2: 214\n",
      "\u001b[34m\u001b[1mwandb\u001b[0m: \tsize_3: 171\n",
      "\u001b[34m\u001b[1mwandb\u001b[0m: \tsize_4: 175\n",
      "\u001b[34m\u001b[1mwandb\u001b[0m: \tsize_5: 79\n"
     ]
    },
    {
     "data": {
      "text/html": [
       "Tracking run with wandb version 0.13.5"
      ],
      "text/plain": [
       "<IPython.core.display.HTML object>"
      ]
     },
     "metadata": {},
     "output_type": "display_data"
    },
    {
     "data": {
      "text/html": [
       "Run data is saved locally in <code>/home/oscar47/Desktop/astro101/wandb/run-20221116_213319-bpkjyw60</code>"
      ],
      "text/plain": [
       "<IPython.core.display.HTML object>"
      ]
     },
     "metadata": {},
     "output_type": "display_data"
    },
    {
     "data": {
      "text/html": [
       "Syncing run <strong><a href=\"https://wandb.ai/oscarscholin/Astro101_Project/runs/bpkjyw60\" target=\"_blank\">lunar-sweep-19</a></strong> to <a href=\"https://wandb.ai/oscarscholin/Astro101_Project\" target=\"_blank\">Weights & Biases</a> (<a href=\"https://wandb.me/run\" target=\"_blank\">docs</a>)<br/>Sweep page:  <a href=\"https://wandb.ai/oscarscholin/Astro101_Project/sweeps/3ouqvjl5\" target=\"_blank\">https://wandb.ai/oscarscholin/Astro101_Project/sweeps/3ouqvjl5</a>"
      ],
      "text/plain": [
       "<IPython.core.display.HTML object>"
      ]
     },
     "metadata": {},
     "output_type": "display_data"
    },
    {
     "name": "stdout",
     "output_type": "stream",
     "text": [
      "Epoch 1/11\n",
      "733/737 [============================>.] - ETA: 0s - loss: 4.3218INFO:tensorflow:Assets written to: /home/oscar47/Desktop/astro101/wandb/run-20221116_213319-bpkjyw60/files/model-best/assets\n"
     ]
    },
    {
     "name": "stderr",
     "output_type": "stream",
     "text": [
      "\u001b[34m\u001b[1mwandb\u001b[0m: Adding directory to artifact (/home/oscar47/Desktop/astro101/wandb/run-20221116_213319-bpkjyw60/files/model-best)... Done. 0.0s\n"
     ]
    },
    {
     "name": "stdout",
     "output_type": "stream",
     "text": [
      "737/737 [==============================] - 3s 3ms/step - loss: 4.3050 - val_loss: 0.7881\n",
      "Epoch 2/11\n",
      "728/737 [============================>.] - ETA: 0s - loss: 0.7923INFO:tensorflow:Assets written to: /home/oscar47/Desktop/astro101/wandb/run-20221116_213319-bpkjyw60/files/model-best/assets\n"
     ]
    },
    {
     "name": "stderr",
     "output_type": "stream",
     "text": [
      "\u001b[34m\u001b[1mwandb\u001b[0m: Adding directory to artifact (/home/oscar47/Desktop/astro101/wandb/run-20221116_213319-bpkjyw60/files/model-best)... Done. 0.0s\n"
     ]
    },
    {
     "name": "stdout",
     "output_type": "stream",
     "text": [
      "737/737 [==============================] - 2s 3ms/step - loss: 0.7923 - val_loss: 0.7412\n",
      "Epoch 3/11\n",
      "737/737 [==============================] - ETA: 0s - loss: 0.7778INFO:tensorflow:Assets written to: /home/oscar47/Desktop/astro101/wandb/run-20221116_213319-bpkjyw60/files/model-best/assets\n"
     ]
    },
    {
     "name": "stderr",
     "output_type": "stream",
     "text": [
      "\u001b[34m\u001b[1mwandb\u001b[0m: Adding directory to artifact (/home/oscar47/Desktop/astro101/wandb/run-20221116_213319-bpkjyw60/files/model-best)... Done. 0.0s\n"
     ]
    },
    {
     "name": "stdout",
     "output_type": "stream",
     "text": [
      "737/737 [==============================] - 3s 3ms/step - loss: 0.7778 - val_loss: 0.7320\n",
      "Epoch 4/11\n",
      "723/737 [============================>.] - ETA: 0s - loss: 0.7976INFO:tensorflow:Assets written to: /home/oscar47/Desktop/astro101/wandb/run-20221116_213319-bpkjyw60/files/model-best/assets\n"
     ]
    },
    {
     "name": "stderr",
     "output_type": "stream",
     "text": [
      "\u001b[34m\u001b[1mwandb\u001b[0m: Adding directory to artifact (/home/oscar47/Desktop/astro101/wandb/run-20221116_213319-bpkjyw60/files/model-best)... Done. 0.0s\n"
     ]
    },
    {
     "name": "stdout",
     "output_type": "stream",
     "text": [
      "737/737 [==============================] - 3s 4ms/step - loss: 0.7967 - val_loss: 0.7177\n",
      "Epoch 5/11\n",
      "737/737 [==============================] - 2s 3ms/step - loss: 0.8067 - val_loss: 0.7223\n",
      "Epoch 6/11\n",
      "737/737 [==============================] - 2s 3ms/step - loss: 0.8161 - val_loss: 0.7679\n",
      "Epoch 7/11\n",
      "737/737 [==============================] - 2s 3ms/step - loss: 0.8281 - val_loss: 0.7862\n",
      "Epoch 8/11\n",
      "737/737 [==============================] - 2s 3ms/step - loss: 0.8246 - val_loss: 0.7625\n",
      "Epoch 9/11\n",
      "737/737 [==============================] - 2s 3ms/step - loss: 1905503.0000 - val_loss: 148235.4062\n",
      "Epoch 10/11\n",
      "737/737 [==============================] - 2s 3ms/step - loss: 19159.0293 - val_loss: 2849.5632\n",
      "Epoch 11/11\n",
      "737/737 [==============================] - 2s 3ms/step - loss: 4853.8823 - val_loss: 2137.1475\n"
     ]
    },
    {
     "data": {
      "text/html": [
       "Waiting for W&B process to finish... <strong style=\"color:green\">(success).</strong>"
      ],
      "text/plain": [
       "<IPython.core.display.HTML object>"
      ]
     },
     "metadata": {},
     "output_type": "display_data"
    },
    {
     "data": {
      "text/html": [
       "<style>\n",
       "    table.wandb td:nth-child(1) { padding: 0 10px; text-align: left ; width: auto;} td:nth-child(2) {text-align: left ; width: 100%}\n",
       "    .wandb-row { display: flex; flex-direction: row; flex-wrap: wrap; justify-content: flex-start; width: 100% }\n",
       "    .wandb-col { display: flex; flex-direction: column; flex-basis: 100%; flex: 1; padding: 10px; }\n",
       "    </style>\n",
       "<div class=\"wandb-row\"><div class=\"wandb-col\"><h3>Run history:</h3><br/><table class=\"wandb\"><tr><td>epoch</td><td>▁▂▂▃▄▅▅▆▇▇█</td></tr><tr><td>loss</td><td>▁▁▁▁▁▁▁▁█▁▁</td></tr><tr><td>val_loss</td><td>▁▁▁▁▁▁▁▁█▁▁</td></tr></table><br/></div><div class=\"wandb-col\"><h3>Run summary:</h3><br/><table class=\"wandb\"><tr><td>best_epoch</td><td>3</td></tr><tr><td>best_val_loss</td><td>0.71774</td></tr><tr><td>epoch</td><td>10</td></tr><tr><td>loss</td><td>4853.88232</td></tr><tr><td>val_loss</td><td>2137.14746</td></tr></table><br/></div></div>"
      ],
      "text/plain": [
       "<IPython.core.display.HTML object>"
      ]
     },
     "metadata": {},
     "output_type": "display_data"
    },
    {
     "data": {
      "text/html": [
       "Synced <strong style=\"color:#cdcd00\">lunar-sweep-19</strong>: <a href=\"https://wandb.ai/oscarscholin/Astro101_Project/runs/bpkjyw60\" target=\"_blank\">https://wandb.ai/oscarscholin/Astro101_Project/runs/bpkjyw60</a><br/>Synced 6 W&B file(s), 1 media file(s), 13 artifact file(s) and 1 other file(s)"
      ],
      "text/plain": [
       "<IPython.core.display.HTML object>"
      ]
     },
     "metadata": {},
     "output_type": "display_data"
    },
    {
     "data": {
      "text/html": [
       "Find logs at: <code>./wandb/run-20221116_213319-bpkjyw60/logs</code>"
      ],
      "text/plain": [
       "<IPython.core.display.HTML object>"
      ]
     },
     "metadata": {},
     "output_type": "display_data"
    },
    {
     "name": "stderr",
     "output_type": "stream",
     "text": [
      "\u001b[34m\u001b[1mwandb\u001b[0m: Agent Starting Run: ntlzhju0 with config:\n",
      "\u001b[34m\u001b[1mwandb\u001b[0m: \tbatch_size: 158\n",
      "\u001b[34m\u001b[1mwandb\u001b[0m: \tdropout: 0.35013900533503434\n",
      "\u001b[34m\u001b[1mwandb\u001b[0m: \tepochs: 18\n",
      "\u001b[34m\u001b[1mwandb\u001b[0m: \tlearning_rate: 0.09795491921186954\n",
      "\u001b[34m\u001b[1mwandb\u001b[0m: \tsize_1: 135\n",
      "\u001b[34m\u001b[1mwandb\u001b[0m: \tsize_2: 201\n",
      "\u001b[34m\u001b[1mwandb\u001b[0m: \tsize_3: 196\n",
      "\u001b[34m\u001b[1mwandb\u001b[0m: \tsize_4: 252\n",
      "\u001b[34m\u001b[1mwandb\u001b[0m: \tsize_5: 78\n"
     ]
    },
    {
     "data": {
      "text/html": [
       "Tracking run with wandb version 0.13.5"
      ],
      "text/plain": [
       "<IPython.core.display.HTML object>"
      ]
     },
     "metadata": {},
     "output_type": "display_data"
    },
    {
     "data": {
      "text/html": [
       "Run data is saved locally in <code>/home/oscar47/Desktop/astro101/wandb/run-20221116_213355-ntlzhju0</code>"
      ],
      "text/plain": [
       "<IPython.core.display.HTML object>"
      ]
     },
     "metadata": {},
     "output_type": "display_data"
    },
    {
     "data": {
      "text/html": [
       "Syncing run <strong><a href=\"https://wandb.ai/oscarscholin/Astro101_Project/runs/ntlzhju0\" target=\"_blank\">pious-sweep-20</a></strong> to <a href=\"https://wandb.ai/oscarscholin/Astro101_Project\" target=\"_blank\">Weights & Biases</a> (<a href=\"https://wandb.me/run\" target=\"_blank\">docs</a>)<br/>Sweep page:  <a href=\"https://wandb.ai/oscarscholin/Astro101_Project/sweeps/3ouqvjl5\" target=\"_blank\">https://wandb.ai/oscarscholin/Astro101_Project/sweeps/3ouqvjl5</a>"
      ],
      "text/plain": [
       "<IPython.core.display.HTML object>"
      ]
     },
     "metadata": {},
     "output_type": "display_data"
    },
    {
     "name": "stdout",
     "output_type": "stream",
     "text": [
      "Epoch 1/18\n",
      "910/928 [============================>.] - ETA: 0s - loss: 13712.6777INFO:tensorflow:Assets written to: /home/oscar47/Desktop/astro101/wandb/run-20221116_213355-ntlzhju0/files/model-best/assets\n"
     ]
    },
    {
     "name": "stderr",
     "output_type": "stream",
     "text": [
      "\u001b[34m\u001b[1mwandb\u001b[0m: Adding directory to artifact (/home/oscar47/Desktop/astro101/wandb/run-20221116_213355-ntlzhju0/files/model-best)... Done. 0.0s\n"
     ]
    },
    {
     "name": "stdout",
     "output_type": "stream",
     "text": [
      "928/928 [==============================] - 3s 3ms/step - loss: 13452.1875 - val_loss: 7.8858\n",
      "Epoch 2/18\n",
      "923/928 [============================>.] - ETA: 0s - loss: 10.7347INFO:tensorflow:Assets written to: /home/oscar47/Desktop/astro101/wandb/run-20221116_213355-ntlzhju0/files/model-best/assets\n"
     ]
    },
    {
     "name": "stderr",
     "output_type": "stream",
     "text": [
      "\u001b[34m\u001b[1mwandb\u001b[0m: Adding directory to artifact (/home/oscar47/Desktop/astro101/wandb/run-20221116_213355-ntlzhju0/files/model-best)... Done. 0.0s\n"
     ]
    },
    {
     "name": "stdout",
     "output_type": "stream",
     "text": [
      "928/928 [==============================] - 3s 3ms/step - loss: 10.7143 - val_loss: 4.6670\n",
      "Epoch 3/18\n",
      "921/928 [============================>.] - ETA: 0s - loss: 5.4427INFO:tensorflow:Assets written to: /home/oscar47/Desktop/astro101/wandb/run-20221116_213355-ntlzhju0/files/model-best/assets\n"
     ]
    },
    {
     "name": "stderr",
     "output_type": "stream",
     "text": [
      "\u001b[34m\u001b[1mwandb\u001b[0m: Adding directory to artifact (/home/oscar47/Desktop/astro101/wandb/run-20221116_213355-ntlzhju0/files/model-best)... Done. 0.0s\n"
     ]
    },
    {
     "name": "stdout",
     "output_type": "stream",
     "text": [
      "928/928 [==============================] - 3s 3ms/step - loss: 5.4256 - val_loss: 2.1196\n",
      "Epoch 4/18\n",
      "926/928 [============================>.] - ETA: 0s - loss: 2.8655INFO:tensorflow:Assets written to: /home/oscar47/Desktop/astro101/wandb/run-20221116_213355-ntlzhju0/files/model-best/assets\n"
     ]
    },
    {
     "name": "stderr",
     "output_type": "stream",
     "text": [
      "\u001b[34m\u001b[1mwandb\u001b[0m: Adding directory to artifact (/home/oscar47/Desktop/astro101/wandb/run-20221116_213355-ntlzhju0/files/model-best)... Done. 0.0s\n"
     ]
    },
    {
     "name": "stdout",
     "output_type": "stream",
     "text": [
      "928/928 [==============================] - 3s 3ms/step - loss: 2.8642 - val_loss: 1.6710\n",
      "Epoch 5/18\n",
      "928/928 [==============================] - 2s 2ms/step - loss: 1425887360.0000 - val_loss: 1638371.1250\n",
      "Epoch 6/18\n",
      "928/928 [==============================] - 2s 3ms/step - loss: 2644385.5000 - val_loss: 1711067.8750\n",
      "Epoch 7/18\n",
      "928/928 [==============================] - 2s 3ms/step - loss: 1620116.1250 - val_loss: 924650.0625\n",
      "Epoch 8/18\n",
      "928/928 [==============================] - 2s 3ms/step - loss: 1066104.0000 - val_loss: 493537.2500\n",
      "Epoch 9/18\n",
      "928/928 [==============================] - 2s 2ms/step - loss: 600759.3125 - val_loss: 242742.5000\n",
      "Epoch 10/18\n",
      "928/928 [==============================] - 2s 2ms/step - loss: 5582215168.0000 - val_loss: 31657304.0000\n",
      "Epoch 11/18\n",
      "928/928 [==============================] - 2s 3ms/step - loss: 26138306.0000 - val_loss: 17118998.0000\n",
      "Epoch 12/18\n",
      "928/928 [==============================] - 2s 3ms/step - loss: 9560774.0000 - val_loss: 3625709.2500\n",
      "Epoch 13/18\n",
      "928/928 [==============================] - 2s 3ms/step - loss: 4869602.0000 - val_loss: 3564884.7500\n",
      "Epoch 14/18\n",
      "928/928 [==============================] - 2s 2ms/step - loss: 2989796.2500 - val_loss: 1530029.7500\n",
      "Epoch 15/18\n",
      "928/928 [==============================] - 2s 3ms/step - loss: 2635632896.0000 - val_loss: 20680936.0000\n",
      "Epoch 16/18\n",
      "928/928 [==============================] - 2s 3ms/step - loss: 9931348.0000 - val_loss: 5165552.0000\n",
      "Epoch 17/18\n",
      "928/928 [==============================] - 2s 3ms/step - loss: 5081415.0000 - val_loss: 2155997.5000\n",
      "Epoch 18/18\n",
      "928/928 [==============================] - 2s 2ms/step - loss: 3423986.7500 - val_loss: 1051302.5000\n"
     ]
    },
    {
     "data": {
      "text/html": [
       "Waiting for W&B process to finish... <strong style=\"color:green\">(success).</strong>"
      ],
      "text/plain": [
       "<IPython.core.display.HTML object>"
      ]
     },
     "metadata": {},
     "output_type": "display_data"
    },
    {
     "data": {
      "text/html": [
       "<style>\n",
       "    table.wandb td:nth-child(1) { padding: 0 10px; text-align: left ; width: auto;} td:nth-child(2) {text-align: left ; width: 100%}\n",
       "    .wandb-row { display: flex; flex-direction: row; flex-wrap: wrap; justify-content: flex-start; width: 100% }\n",
       "    .wandb-col { display: flex; flex-direction: column; flex-basis: 100%; flex: 1; padding: 10px; }\n",
       "    </style>\n",
       "<div class=\"wandb-row\"><div class=\"wandb-col\"><h3>Run history:</h3><br/><table class=\"wandb\"><tr><td>epoch</td><td>▁▁▂▂▃▃▃▄▄▅▅▆▆▆▇▇██</td></tr><tr><td>loss</td><td>▁▁▁▁▃▁▁▁▁█▁▁▁▁▄▁▁▁</td></tr><tr><td>val_loss</td><td>▁▁▁▁▁▁▁▁▁█▅▂▂▁▆▂▁▁</td></tr></table><br/></div><div class=\"wandb-col\"><h3>Run summary:</h3><br/><table class=\"wandb\"><tr><td>best_epoch</td><td>3</td></tr><tr><td>best_val_loss</td><td>1.671</td></tr><tr><td>epoch</td><td>17</td></tr><tr><td>loss</td><td>3423986.75</td></tr><tr><td>val_loss</td><td>1051302.5</td></tr></table><br/></div></div>"
      ],
      "text/plain": [
       "<IPython.core.display.HTML object>"
      ]
     },
     "metadata": {},
     "output_type": "display_data"
    },
    {
     "data": {
      "text/html": [
       "Synced <strong style=\"color:#cdcd00\">pious-sweep-20</strong>: <a href=\"https://wandb.ai/oscarscholin/Astro101_Project/runs/ntlzhju0\" target=\"_blank\">https://wandb.ai/oscarscholin/Astro101_Project/runs/ntlzhju0</a><br/>Synced 6 W&B file(s), 1 media file(s), 13 artifact file(s) and 1 other file(s)"
      ],
      "text/plain": [
       "<IPython.core.display.HTML object>"
      ]
     },
     "metadata": {},
     "output_type": "display_data"
    },
    {
     "data": {
      "text/html": [
       "Find logs at: <code>./wandb/run-20221116_213355-ntlzhju0/logs</code>"
      ],
      "text/plain": [
       "<IPython.core.display.HTML object>"
      ]
     },
     "metadata": {},
     "output_type": "display_data"
    },
    {
     "name": "stdout",
     "output_type": "stream",
     "text": [
      "Error in callback <function _WandbInit._pause_backend at 0x7f08487509d0> (for post_run_cell):\n"
     ]
    },
    {
     "ename": "BrokenPipeError",
     "evalue": "[Errno 32] Broken pipe",
     "output_type": "error",
     "traceback": [
      "\u001b[0;31m---------------------------------------------------------------------------\u001b[0m",
      "\u001b[0;31mBrokenPipeError\u001b[0m                           Traceback (most recent call last)",
      "\u001b[0;32m~/anaconda3/lib/python3.9/site-packages/backcall/backcall.py\u001b[0m in \u001b[0;36madapted\u001b[0;34m(*args, **kwargs)\u001b[0m\n\u001b[1;32m    102\u001b[0m                 \u001b[0mkwargs\u001b[0m\u001b[0;34m.\u001b[0m\u001b[0mpop\u001b[0m\u001b[0;34m(\u001b[0m\u001b[0mname\u001b[0m\u001b[0;34m)\u001b[0m\u001b[0;34m\u001b[0m\u001b[0;34m\u001b[0m\u001b[0m\n\u001b[1;32m    103\u001b[0m \u001b[0;31m#            print(args, kwargs, unmatched_pos, cut_positional, unmatched_kw)\u001b[0m\u001b[0;34m\u001b[0m\u001b[0;34m\u001b[0m\u001b[0m\n\u001b[0;32m--> 104\u001b[0;31m             \u001b[0;32mreturn\u001b[0m \u001b[0mcallback\u001b[0m\u001b[0;34m(\u001b[0m\u001b[0;34m*\u001b[0m\u001b[0margs\u001b[0m\u001b[0;34m,\u001b[0m \u001b[0;34m**\u001b[0m\u001b[0mkwargs\u001b[0m\u001b[0;34m)\u001b[0m\u001b[0;34m\u001b[0m\u001b[0;34m\u001b[0m\u001b[0m\n\u001b[0m\u001b[1;32m    105\u001b[0m \u001b[0;34m\u001b[0m\u001b[0m\n\u001b[1;32m    106\u001b[0m         \u001b[0;32mreturn\u001b[0m \u001b[0madapted\u001b[0m\u001b[0;34m\u001b[0m\u001b[0;34m\u001b[0m\u001b[0m\n",
      "\u001b[0;32m~/anaconda3/lib/python3.9/site-packages/wandb/sdk/wandb_init.py\u001b[0m in \u001b[0;36m_pause_backend\u001b[0;34m(self)\u001b[0m\n\u001b[1;32m    392\u001b[0m                 \u001b[0mres\u001b[0m \u001b[0;34m=\u001b[0m \u001b[0mself\u001b[0m\u001b[0;34m.\u001b[0m\u001b[0mrun\u001b[0m\u001b[0;34m.\u001b[0m\u001b[0mlog_code\u001b[0m\u001b[0;34m(\u001b[0m\u001b[0mroot\u001b[0m\u001b[0;34m=\u001b[0m\u001b[0;32mNone\u001b[0m\u001b[0;34m)\u001b[0m\u001b[0;34m\u001b[0m\u001b[0;34m\u001b[0m\u001b[0m\n\u001b[1;32m    393\u001b[0m                 \u001b[0mlogger\u001b[0m\u001b[0;34m.\u001b[0m\u001b[0minfo\u001b[0m\u001b[0;34m(\u001b[0m\u001b[0;34m\"saved code: %s\"\u001b[0m\u001b[0;34m,\u001b[0m \u001b[0mres\u001b[0m\u001b[0;34m)\u001b[0m\u001b[0;34m\u001b[0m\u001b[0;34m\u001b[0m\u001b[0m\n\u001b[0;32m--> 394\u001b[0;31m             \u001b[0mself\u001b[0m\u001b[0;34m.\u001b[0m\u001b[0mbackend\u001b[0m\u001b[0;34m.\u001b[0m\u001b[0minterface\u001b[0m\u001b[0;34m.\u001b[0m\u001b[0mpublish_pause\u001b[0m\u001b[0;34m(\u001b[0m\u001b[0;34m)\u001b[0m\u001b[0;34m\u001b[0m\u001b[0;34m\u001b[0m\u001b[0m\n\u001b[0m\u001b[1;32m    395\u001b[0m \u001b[0;34m\u001b[0m\u001b[0m\n\u001b[1;32m    396\u001b[0m     \u001b[0;32mdef\u001b[0m \u001b[0m_resume_backend\u001b[0m\u001b[0;34m(\u001b[0m\u001b[0mself\u001b[0m\u001b[0;34m)\u001b[0m\u001b[0;34m:\u001b[0m\u001b[0;34m\u001b[0m\u001b[0;34m\u001b[0m\u001b[0m\n",
      "\u001b[0;32m~/anaconda3/lib/python3.9/site-packages/wandb/sdk/interface/interface.py\u001b[0m in \u001b[0;36mpublish_pause\u001b[0;34m(self)\u001b[0m\n\u001b[1;32m    634\u001b[0m     \u001b[0;32mdef\u001b[0m \u001b[0mpublish_pause\u001b[0m\u001b[0;34m(\u001b[0m\u001b[0mself\u001b[0m\u001b[0;34m)\u001b[0m \u001b[0;34m->\u001b[0m \u001b[0;32mNone\u001b[0m\u001b[0;34m:\u001b[0m\u001b[0;34m\u001b[0m\u001b[0;34m\u001b[0m\u001b[0m\n\u001b[1;32m    635\u001b[0m         \u001b[0mpause\u001b[0m \u001b[0;34m=\u001b[0m \u001b[0mpb\u001b[0m\u001b[0;34m.\u001b[0m\u001b[0mPauseRequest\u001b[0m\u001b[0;34m(\u001b[0m\u001b[0;34m)\u001b[0m\u001b[0;34m\u001b[0m\u001b[0;34m\u001b[0m\u001b[0m\n\u001b[0;32m--> 636\u001b[0;31m         \u001b[0mself\u001b[0m\u001b[0;34m.\u001b[0m\u001b[0m_publish_pause\u001b[0m\u001b[0;34m(\u001b[0m\u001b[0mpause\u001b[0m\u001b[0;34m)\u001b[0m\u001b[0;34m\u001b[0m\u001b[0;34m\u001b[0m\u001b[0m\n\u001b[0m\u001b[1;32m    637\u001b[0m \u001b[0;34m\u001b[0m\u001b[0m\n\u001b[1;32m    638\u001b[0m     \u001b[0;34m@\u001b[0m\u001b[0mabstractmethod\u001b[0m\u001b[0;34m\u001b[0m\u001b[0;34m\u001b[0m\u001b[0m\n",
      "\u001b[0;32m~/anaconda3/lib/python3.9/site-packages/wandb/sdk/interface/interface_shared.py\u001b[0m in \u001b[0;36m_publish_pause\u001b[0;34m(self, pause)\u001b[0m\n\u001b[1;32m    306\u001b[0m     \u001b[0;32mdef\u001b[0m \u001b[0m_publish_pause\u001b[0m\u001b[0;34m(\u001b[0m\u001b[0mself\u001b[0m\u001b[0;34m,\u001b[0m \u001b[0mpause\u001b[0m\u001b[0;34m:\u001b[0m \u001b[0mpb\u001b[0m\u001b[0;34m.\u001b[0m\u001b[0mPauseRequest\u001b[0m\u001b[0;34m)\u001b[0m \u001b[0;34m->\u001b[0m \u001b[0;32mNone\u001b[0m\u001b[0;34m:\u001b[0m\u001b[0;34m\u001b[0m\u001b[0;34m\u001b[0m\u001b[0m\n\u001b[1;32m    307\u001b[0m         \u001b[0mrec\u001b[0m \u001b[0;34m=\u001b[0m \u001b[0mself\u001b[0m\u001b[0;34m.\u001b[0m\u001b[0m_make_request\u001b[0m\u001b[0;34m(\u001b[0m\u001b[0mpause\u001b[0m\u001b[0;34m=\u001b[0m\u001b[0mpause\u001b[0m\u001b[0;34m)\u001b[0m\u001b[0;34m\u001b[0m\u001b[0;34m\u001b[0m\u001b[0m\n\u001b[0;32m--> 308\u001b[0;31m         \u001b[0mself\u001b[0m\u001b[0;34m.\u001b[0m\u001b[0m_publish\u001b[0m\u001b[0;34m(\u001b[0m\u001b[0mrec\u001b[0m\u001b[0;34m)\u001b[0m\u001b[0;34m\u001b[0m\u001b[0;34m\u001b[0m\u001b[0m\n\u001b[0m\u001b[1;32m    309\u001b[0m \u001b[0;34m\u001b[0m\u001b[0m\n\u001b[1;32m    310\u001b[0m     \u001b[0;32mdef\u001b[0m \u001b[0m_publish_resume\u001b[0m\u001b[0;34m(\u001b[0m\u001b[0mself\u001b[0m\u001b[0;34m,\u001b[0m \u001b[0mresume\u001b[0m\u001b[0;34m:\u001b[0m \u001b[0mpb\u001b[0m\u001b[0;34m.\u001b[0m\u001b[0mResumeRequest\u001b[0m\u001b[0;34m)\u001b[0m \u001b[0;34m->\u001b[0m \u001b[0;32mNone\u001b[0m\u001b[0;34m:\u001b[0m\u001b[0;34m\u001b[0m\u001b[0;34m\u001b[0m\u001b[0m\n",
      "\u001b[0;32m~/anaconda3/lib/python3.9/site-packages/wandb/sdk/interface/interface_sock.py\u001b[0m in \u001b[0;36m_publish\u001b[0;34m(self, record, local)\u001b[0m\n\u001b[1;32m     49\u001b[0m     \u001b[0;32mdef\u001b[0m \u001b[0m_publish\u001b[0m\u001b[0;34m(\u001b[0m\u001b[0mself\u001b[0m\u001b[0;34m,\u001b[0m \u001b[0mrecord\u001b[0m\u001b[0;34m:\u001b[0m \u001b[0;34m\"pb.Record\"\u001b[0m\u001b[0;34m,\u001b[0m \u001b[0mlocal\u001b[0m\u001b[0;34m:\u001b[0m \u001b[0mbool\u001b[0m \u001b[0;34m=\u001b[0m \u001b[0;32mNone\u001b[0m\u001b[0;34m)\u001b[0m \u001b[0;34m->\u001b[0m \u001b[0;32mNone\u001b[0m\u001b[0;34m:\u001b[0m\u001b[0;34m\u001b[0m\u001b[0;34m\u001b[0m\u001b[0m\n\u001b[1;32m     50\u001b[0m         \u001b[0mself\u001b[0m\u001b[0;34m.\u001b[0m\u001b[0m_assign\u001b[0m\u001b[0;34m(\u001b[0m\u001b[0mrecord\u001b[0m\u001b[0;34m)\u001b[0m\u001b[0;34m\u001b[0m\u001b[0;34m\u001b[0m\u001b[0m\n\u001b[0;32m---> 51\u001b[0;31m         \u001b[0mself\u001b[0m\u001b[0;34m.\u001b[0m\u001b[0m_sock_client\u001b[0m\u001b[0;34m.\u001b[0m\u001b[0msend_record_publish\u001b[0m\u001b[0;34m(\u001b[0m\u001b[0mrecord\u001b[0m\u001b[0;34m)\u001b[0m\u001b[0;34m\u001b[0m\u001b[0;34m\u001b[0m\u001b[0m\n\u001b[0m\u001b[1;32m     52\u001b[0m \u001b[0;34m\u001b[0m\u001b[0m\n\u001b[1;32m     53\u001b[0m     \u001b[0;32mdef\u001b[0m \u001b[0m_communicate_async\u001b[0m\u001b[0;34m(\u001b[0m\u001b[0mself\u001b[0m\u001b[0;34m,\u001b[0m \u001b[0mrec\u001b[0m\u001b[0;34m:\u001b[0m \u001b[0;34m\"pb.Record\"\u001b[0m\u001b[0;34m,\u001b[0m \u001b[0mlocal\u001b[0m\u001b[0;34m:\u001b[0m \u001b[0mbool\u001b[0m \u001b[0;34m=\u001b[0m \u001b[0;32mNone\u001b[0m\u001b[0;34m)\u001b[0m \u001b[0;34m->\u001b[0m \u001b[0mMessageFuture\u001b[0m\u001b[0;34m:\u001b[0m\u001b[0;34m\u001b[0m\u001b[0;34m\u001b[0m\u001b[0m\n",
      "\u001b[0;32m~/anaconda3/lib/python3.9/site-packages/wandb/sdk/lib/sock_client.py\u001b[0m in \u001b[0;36msend_record_publish\u001b[0;34m(self, record)\u001b[0m\n\u001b[1;32m    219\u001b[0m         \u001b[0mserver_req\u001b[0m \u001b[0;34m=\u001b[0m \u001b[0mspb\u001b[0m\u001b[0;34m.\u001b[0m\u001b[0mServerRequest\u001b[0m\u001b[0;34m(\u001b[0m\u001b[0;34m)\u001b[0m\u001b[0;34m\u001b[0m\u001b[0;34m\u001b[0m\u001b[0m\n\u001b[1;32m    220\u001b[0m         \u001b[0mserver_req\u001b[0m\u001b[0;34m.\u001b[0m\u001b[0mrecord_publish\u001b[0m\u001b[0;34m.\u001b[0m\u001b[0mCopyFrom\u001b[0m\u001b[0;34m(\u001b[0m\u001b[0mrecord\u001b[0m\u001b[0;34m)\u001b[0m\u001b[0;34m\u001b[0m\u001b[0;34m\u001b[0m\u001b[0m\n\u001b[0;32m--> 221\u001b[0;31m         \u001b[0mself\u001b[0m\u001b[0;34m.\u001b[0m\u001b[0msend_server_request\u001b[0m\u001b[0;34m(\u001b[0m\u001b[0mserver_req\u001b[0m\u001b[0;34m)\u001b[0m\u001b[0;34m\u001b[0m\u001b[0;34m\u001b[0m\u001b[0m\n\u001b[0m\u001b[1;32m    222\u001b[0m \u001b[0;34m\u001b[0m\u001b[0m\n\u001b[1;32m    223\u001b[0m     \u001b[0;32mdef\u001b[0m \u001b[0m_extract_packet_bytes\u001b[0m\u001b[0;34m(\u001b[0m\u001b[0mself\u001b[0m\u001b[0;34m)\u001b[0m \u001b[0;34m->\u001b[0m \u001b[0mOptional\u001b[0m\u001b[0;34m[\u001b[0m\u001b[0mbytes\u001b[0m\u001b[0;34m]\u001b[0m\u001b[0;34m:\u001b[0m\u001b[0;34m\u001b[0m\u001b[0;34m\u001b[0m\u001b[0m\n",
      "\u001b[0;32m~/anaconda3/lib/python3.9/site-packages/wandb/sdk/lib/sock_client.py\u001b[0m in \u001b[0;36msend_server_request\u001b[0;34m(self, msg)\u001b[0m\n\u001b[1;32m    153\u001b[0m \u001b[0;34m\u001b[0m\u001b[0m\n\u001b[1;32m    154\u001b[0m     \u001b[0;32mdef\u001b[0m \u001b[0msend_server_request\u001b[0m\u001b[0;34m(\u001b[0m\u001b[0mself\u001b[0m\u001b[0;34m,\u001b[0m \u001b[0mmsg\u001b[0m\u001b[0;34m:\u001b[0m \u001b[0mAny\u001b[0m\u001b[0;34m)\u001b[0m \u001b[0;34m->\u001b[0m \u001b[0;32mNone\u001b[0m\u001b[0;34m:\u001b[0m\u001b[0;34m\u001b[0m\u001b[0;34m\u001b[0m\u001b[0m\n\u001b[0;32m--> 155\u001b[0;31m         \u001b[0mself\u001b[0m\u001b[0;34m.\u001b[0m\u001b[0m_send_message\u001b[0m\u001b[0;34m(\u001b[0m\u001b[0mmsg\u001b[0m\u001b[0;34m)\u001b[0m\u001b[0;34m\u001b[0m\u001b[0;34m\u001b[0m\u001b[0m\n\u001b[0m\u001b[1;32m    156\u001b[0m \u001b[0;34m\u001b[0m\u001b[0m\n\u001b[1;32m    157\u001b[0m     \u001b[0;32mdef\u001b[0m \u001b[0msend_server_response\u001b[0m\u001b[0;34m(\u001b[0m\u001b[0mself\u001b[0m\u001b[0;34m,\u001b[0m \u001b[0mmsg\u001b[0m\u001b[0;34m:\u001b[0m \u001b[0mAny\u001b[0m\u001b[0;34m)\u001b[0m \u001b[0;34m->\u001b[0m \u001b[0;32mNone\u001b[0m\u001b[0;34m:\u001b[0m\u001b[0;34m\u001b[0m\u001b[0;34m\u001b[0m\u001b[0m\n",
      "\u001b[0;32m~/anaconda3/lib/python3.9/site-packages/wandb/sdk/lib/sock_client.py\u001b[0m in \u001b[0;36m_send_message\u001b[0;34m(self, msg)\u001b[0m\n\u001b[1;32m    150\u001b[0m         \u001b[0mheader\u001b[0m \u001b[0;34m=\u001b[0m \u001b[0mstruct\u001b[0m\u001b[0;34m.\u001b[0m\u001b[0mpack\u001b[0m\u001b[0;34m(\u001b[0m\u001b[0;34m\"<BI\"\u001b[0m\u001b[0;34m,\u001b[0m \u001b[0mord\u001b[0m\u001b[0;34m(\u001b[0m\u001b[0;34m\"W\"\u001b[0m\u001b[0;34m)\u001b[0m\u001b[0;34m,\u001b[0m \u001b[0mraw_size\u001b[0m\u001b[0;34m)\u001b[0m\u001b[0;34m\u001b[0m\u001b[0;34m\u001b[0m\u001b[0m\n\u001b[1;32m    151\u001b[0m         \u001b[0;32mwith\u001b[0m \u001b[0mself\u001b[0m\u001b[0;34m.\u001b[0m\u001b[0m_lock\u001b[0m\u001b[0;34m:\u001b[0m\u001b[0;34m\u001b[0m\u001b[0;34m\u001b[0m\u001b[0m\n\u001b[0;32m--> 152\u001b[0;31m             \u001b[0mself\u001b[0m\u001b[0;34m.\u001b[0m\u001b[0m_sendall_with_error_handle\u001b[0m\u001b[0;34m(\u001b[0m\u001b[0mheader\u001b[0m \u001b[0;34m+\u001b[0m \u001b[0mdata\u001b[0m\u001b[0;34m)\u001b[0m\u001b[0;34m\u001b[0m\u001b[0;34m\u001b[0m\u001b[0m\n\u001b[0m\u001b[1;32m    153\u001b[0m \u001b[0;34m\u001b[0m\u001b[0m\n\u001b[1;32m    154\u001b[0m     \u001b[0;32mdef\u001b[0m \u001b[0msend_server_request\u001b[0m\u001b[0;34m(\u001b[0m\u001b[0mself\u001b[0m\u001b[0;34m,\u001b[0m \u001b[0mmsg\u001b[0m\u001b[0;34m:\u001b[0m \u001b[0mAny\u001b[0m\u001b[0;34m)\u001b[0m \u001b[0;34m->\u001b[0m \u001b[0;32mNone\u001b[0m\u001b[0;34m:\u001b[0m\u001b[0;34m\u001b[0m\u001b[0;34m\u001b[0m\u001b[0m\n",
      "\u001b[0;32m~/anaconda3/lib/python3.9/site-packages/wandb/sdk/lib/sock_client.py\u001b[0m in \u001b[0;36m_sendall_with_error_handle\u001b[0;34m(self, data)\u001b[0m\n\u001b[1;32m    128\u001b[0m             \u001b[0mstart_time\u001b[0m \u001b[0;34m=\u001b[0m \u001b[0mtime\u001b[0m\u001b[0;34m.\u001b[0m\u001b[0mmonotonic\u001b[0m\u001b[0;34m(\u001b[0m\u001b[0;34m)\u001b[0m\u001b[0;34m\u001b[0m\u001b[0;34m\u001b[0m\u001b[0m\n\u001b[1;32m    129\u001b[0m             \u001b[0;32mtry\u001b[0m\u001b[0;34m:\u001b[0m\u001b[0;34m\u001b[0m\u001b[0;34m\u001b[0m\u001b[0m\n\u001b[0;32m--> 130\u001b[0;31m                 \u001b[0msent\u001b[0m \u001b[0;34m=\u001b[0m \u001b[0mself\u001b[0m\u001b[0;34m.\u001b[0m\u001b[0m_sock\u001b[0m\u001b[0;34m.\u001b[0m\u001b[0msend\u001b[0m\u001b[0;34m(\u001b[0m\u001b[0mdata\u001b[0m\u001b[0;34m)\u001b[0m\u001b[0;34m\u001b[0m\u001b[0;34m\u001b[0m\u001b[0m\n\u001b[0m\u001b[1;32m    131\u001b[0m                 \u001b[0;31m# sent equal to 0 indicates a closed socket\u001b[0m\u001b[0;34m\u001b[0m\u001b[0;34m\u001b[0m\u001b[0m\n\u001b[1;32m    132\u001b[0m                 \u001b[0;32mif\u001b[0m \u001b[0msent\u001b[0m \u001b[0;34m==\u001b[0m \u001b[0;36m0\u001b[0m\u001b[0;34m:\u001b[0m\u001b[0;34m\u001b[0m\u001b[0;34m\u001b[0m\u001b[0m\n",
      "\u001b[0;31mBrokenPipeError\u001b[0m: [Errno 32] Broken pipe"
     ]
    }
   ],
   "source": [
    "# file to load the nn\n",
    "\n",
    "import pandas as pd\n",
    "import numpy as np\n",
    "import os\n",
    "import tensorflow as tf\n",
    "from keras import layers\n",
    "from keras.models import Model, Sequential, load_model\n",
    "from keras.optimizers import Adam\n",
    "from keras.callbacks import ModelCheckpoint\n",
    "import wandb\n",
    "from wandb.keras import WandbCallback\n",
    "\n",
    "# read in our data\n",
    "DATA_DIR = '/home/oscar47/Desktop/astro101/data/g_band/var_output/'\n",
    "\n",
    "# check if keras recognizes gpu\n",
    "print(\"Num GPUs Available: \", len(tf.config.list_physical_devices('GPU')))\n",
    "\n",
    "train_x_ds = np.load(os.path.join(DATA_DIR, 'train_x_ds.npy'))\n",
    "val_x_ds = np.load(os.path.join(DATA_DIR, 'val_x_ds.npy'))\n",
    "train_y_ds = np.load(os.path.join(DATA_DIR, 'train_y_ds.npy'))\n",
    "val_y_ds = np.load(os.path.join(DATA_DIR, 'val_y_ds.npy'))\n",
    "\n",
    "input_shape = train_x_ds[0].shape\n",
    "output_len = len(train_y_ds[0])\n",
    "\n",
    "# build model functions--------------------------------\n",
    "def build_model(size1, size2, size3, size4, size5, dropout, learning_rate):\n",
    "    model = Sequential()\n",
    "\n",
    "    model.add(layers.Dense(size1))\n",
    "    model.add(layers.Dense(size2))\n",
    "    model.add(layers.Dense(size3))\n",
    "    model.add(layers.Dense(size4))\n",
    "    model.add(layers.Dense(size5))\n",
    "\n",
    "    model.add(layers.Dropout(dropout))\n",
    "    model.add(layers.Dense(output_len))\n",
    "\n",
    "    # return len of class size\n",
    "    model.add(layers.Dense(output_len))\n",
    "    model.add(layers.Activation('softmax'))\n",
    "\n",
    "    optimizer = Adam(learning_rate = learning_rate)\n",
    "    model.compile(optimizer=optimizer, loss='categorical_crossentropy')\n",
    "\n",
    "    return model\n",
    "\n",
    "\n",
    "def train(config=None):\n",
    "    with wandb.init(config=config):\n",
    "    # If called by wandb.agent, as below,\n",
    "    # this config will be set by Sweep Controller\n",
    "      config = wandb.config\n",
    "\n",
    "      #pprint.pprint(config)\n",
    "\n",
    "      #initialize the neural net; \n",
    "      global model\n",
    "      model = build_model(config.size_1,  config.size_2, config.size_3, \n",
    "              config.size_4, config.size_5, \n",
    "              config.dropout, config.learning_rate)\n",
    "      \n",
    "      #now run training\n",
    "      history = model.fit(\n",
    "        train_x_ds, train_y_ds,\n",
    "        batch_size = config.batch_size,\n",
    "        validation_data=(val_x_ds, val_y_ds),\n",
    "        epochs=config.epochs,\n",
    "        callbacks=[WandbCallback()] #use callbacks to have w&b log stats; will automatically save best model                     \n",
    "      )\n",
    "\n",
    "def train_manual():\n",
    "    global model\n",
    "    model = build_model(128, 128, 128, \n",
    "            128, 128, \n",
    "            .1, .001)\n",
    "    \n",
    "    #now run training\n",
    "    history = model.fit(\n",
    "    train_x_ds, train_y_ds,\n",
    "    batch_size = 64,\n",
    "    validation_data=(val_x_ds, val_y_ds),\n",
    "    epochs=10\n",
    "    )\n",
    "\n",
    "# set dictionary with random search; optimizing val_loss--------------------------\n",
    "sweep_config= {\n",
    "    'method': 'random',\n",
    "    'name': 'val_accuracy',\n",
    "    'goal': 'maximize'\n",
    "}\n",
    "\n",
    "sweep_config['metric']= 'val_accuracy'\n",
    "\n",
    "# now name hyperparameters with nested dictionary\n",
    "# parameters_dict = {\n",
    "#     'epochs': {\n",
    "#        'distribution': 'int_uniform',\n",
    "#        'min': 10,\n",
    "#        'max': 20\n",
    "#     },\n",
    "#     # for build_dataset\n",
    "#      'batch_size': {\n",
    "#        'distribution': 'q_log_uniform',  #we want to specify a distribution type to more efficiently iterate through these hyperparams\n",
    "#        'q': 8,\n",
    "#        'min': np.log(64),\n",
    "#        'max': np.log(256)\n",
    "#     },\n",
    "#     'size_1': {\n",
    "#        'distribution': 'q_log_uniform',\n",
    "#        'q': 8,\n",
    "#        'min': np.log(64),\n",
    "#        'max': np.log(256)\n",
    "#     },\n",
    "#     'size_2': {\n",
    "#        'distribution': 'q_log_uniform',\n",
    "#        'q': 8,\n",
    "#        'min': np.log(64),\n",
    "#        'max': np.log(256)\n",
    "#     },\n",
    "#      'size_3': {\n",
    "#        'distribution': 'q_log_uniform',\n",
    "#        'q': 8,\n",
    "#        'min': np.log(64),\n",
    "#        'max': np.log(256)\n",
    "#     },\n",
    "#      'size_4': {\n",
    "#        'distribution': 'q_log_uniform',\n",
    "#        'q': 8,\n",
    "#        'min': np.log(64),\n",
    "#        'max': np.log(256)\n",
    "#     },\n",
    "#      'size_5': {\n",
    "#        'distribution': 'q_log_uniform',\n",
    "#        'q': 8,\n",
    "#        'min': np.log(64),\n",
    "#        'max': np.log(256)\n",
    "#     },\n",
    "#     'dropout': {\n",
    "#       'distribution': 'uniform',\n",
    "#        'min': 0,\n",
    "#        'max': 0.6\n",
    "#     },\n",
    "#     'learning_rate':{\n",
    "#          #uniform distribution between 0 and 1\n",
    "#          'distribution': 'uniform', \n",
    "#          'min': 0,\n",
    "#          'max': 0.1\n",
    "#      }\n",
    "# }\n",
    "\n",
    "parameters_dict = {\n",
    "    'epochs': {\n",
    "       'distribution': 'int_uniform',\n",
    "       'min': 10,\n",
    "       'max': 20\n",
    "    },\n",
    "    # for build_dataset\n",
    "     'batch_size': {\n",
    "       'distribution': 'int_uniform',  #we want to specify a distribution type to more efficiently iterate through these hyperparams\n",
    "       'min': 64,\n",
    "       'max': 256\n",
    "    },\n",
    "    'size_1': {\n",
    "       'distribution': 'int_uniform',\n",
    "       'min': 64,\n",
    "       'max': 256\n",
    "    },\n",
    "    'size_2': {\n",
    "       'distribution': 'int_uniform',\n",
    "       'min': 64,\n",
    "       'max': 256\n",
    "    },'size_3': {\n",
    "       'distribution': 'int_uniform',\n",
    "       'min': 64,\n",
    "       'max': 256\n",
    "    },'size_4': {\n",
    "       'distribution': 'int_uniform',\n",
    "       'min': 64,\n",
    "       'max': 256\n",
    "    },'size_5': {\n",
    "       'distribution': 'int_uniform',\n",
    "       'min': 64,\n",
    "       'max': 256\n",
    "    },\n",
    "    'dropout': {\n",
    "      'distribution': 'uniform',\n",
    "       'min': 0,\n",
    "       'max': 0.6\n",
    "    },\n",
    "    'learning_rate':{\n",
    "         #uniform distribution between 0 and 1\n",
    "         'distribution': 'uniform', \n",
    "         'min': 0,\n",
    "         'max': 0.1\n",
    "     }\n",
    "}\n",
    "\n",
    "# append parameters to sweep config\n",
    "sweep_config['parameters'] = parameters_dict \n",
    "\n",
    "# login to wandb----------------\n",
    "wandb.init(project=\"Astro101_Project\", entity=\"oscarscholin\")\n",
    "\n",
    "# initialize sweep agent\n",
    "sweep_id = wandb.sweep(sweep_config, project='Astro101_Project', entity=\"oscarscholin\")\n",
    "wandb.agent(sweep_id, train, count=20)\n",
    "\n",
    "#train_manual()"
   ]
  },
  {
   "cell_type": "code",
   "execution_count": null,
   "metadata": {},
   "outputs": [],
   "source": []
  }
 ],
 "metadata": {
  "kernelspec": {
   "display_name": "Python 3.9.13 ('base')",
   "language": "python",
   "name": "python3"
  },
  "language_info": {
   "codemirror_mode": {
    "name": "ipython",
    "version": 3
   },
   "file_extension": ".py",
   "mimetype": "text/x-python",
   "name": "python",
   "nbconvert_exporter": "python",
   "pygments_lexer": "ipython3",
   "version": "3.9.13"
  },
  "orig_nbformat": 4,
  "vscode": {
   "interpreter": {
    "hash": "aaf8a3611b879056867134183afc22ea709e115b10fb7684e1dbf805b3500c4a"
   }
  }
 },
 "nbformat": 4,
 "nbformat_minor": 2
}
