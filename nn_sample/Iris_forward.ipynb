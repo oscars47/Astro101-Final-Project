{
 "cells": [
  {
   "cell_type": "markdown",
   "metadata": {},
   "source": [
    "# Sample custom neural net architecture on iris data\n",
    "### Oscar Scholin"
   ]
  },
  {
   "cell_type": "code",
   "execution_count": 2,
   "metadata": {},
   "outputs": [
    {
     "data": {
      "text/html": [
       "<div>\n",
       "<style scoped>\n",
       "    .dataframe tbody tr th:only-of-type {\n",
       "        vertical-align: middle;\n",
       "    }\n",
       "\n",
       "    .dataframe tbody tr th {\n",
       "        vertical-align: top;\n",
       "    }\n",
       "\n",
       "    .dataframe thead th {\n",
       "        text-align: right;\n",
       "    }\n",
       "</style>\n",
       "<table border=\"1\" class=\"dataframe\">\n",
       "  <thead>\n",
       "    <tr style=\"text-align: right;\">\n",
       "      <th></th>\n",
       "      <th>Id</th>\n",
       "      <th>SepalLengthCm</th>\n",
       "      <th>SepalWidthCm</th>\n",
       "      <th>PetalLengthCm</th>\n",
       "      <th>PetalWidthCm</th>\n",
       "      <th>Species</th>\n",
       "    </tr>\n",
       "  </thead>\n",
       "  <tbody>\n",
       "    <tr>\n",
       "      <th>0</th>\n",
       "      <td>1</td>\n",
       "      <td>5.1</td>\n",
       "      <td>3.5</td>\n",
       "      <td>1.4</td>\n",
       "      <td>0.2</td>\n",
       "      <td>Iris-setosa</td>\n",
       "    </tr>\n",
       "    <tr>\n",
       "      <th>1</th>\n",
       "      <td>2</td>\n",
       "      <td>4.9</td>\n",
       "      <td>3.0</td>\n",
       "      <td>1.4</td>\n",
       "      <td>0.2</td>\n",
       "      <td>Iris-setosa</td>\n",
       "    </tr>\n",
       "    <tr>\n",
       "      <th>2</th>\n",
       "      <td>3</td>\n",
       "      <td>4.7</td>\n",
       "      <td>3.2</td>\n",
       "      <td>1.3</td>\n",
       "      <td>0.2</td>\n",
       "      <td>Iris-setosa</td>\n",
       "    </tr>\n",
       "    <tr>\n",
       "      <th>3</th>\n",
       "      <td>4</td>\n",
       "      <td>4.6</td>\n",
       "      <td>3.1</td>\n",
       "      <td>1.5</td>\n",
       "      <td>0.2</td>\n",
       "      <td>Iris-setosa</td>\n",
       "    </tr>\n",
       "    <tr>\n",
       "      <th>4</th>\n",
       "      <td>5</td>\n",
       "      <td>5.0</td>\n",
       "      <td>3.6</td>\n",
       "      <td>1.4</td>\n",
       "      <td>0.2</td>\n",
       "      <td>Iris-setosa</td>\n",
       "    </tr>\n",
       "    <tr>\n",
       "      <th>5</th>\n",
       "      <td>6</td>\n",
       "      <td>5.4</td>\n",
       "      <td>3.9</td>\n",
       "      <td>1.7</td>\n",
       "      <td>0.4</td>\n",
       "      <td>Iris-setosa</td>\n",
       "    </tr>\n",
       "    <tr>\n",
       "      <th>6</th>\n",
       "      <td>7</td>\n",
       "      <td>4.6</td>\n",
       "      <td>3.4</td>\n",
       "      <td>1.4</td>\n",
       "      <td>0.3</td>\n",
       "      <td>Iris-setosa</td>\n",
       "    </tr>\n",
       "    <tr>\n",
       "      <th>7</th>\n",
       "      <td>8</td>\n",
       "      <td>5.0</td>\n",
       "      <td>3.4</td>\n",
       "      <td>1.5</td>\n",
       "      <td>0.2</td>\n",
       "      <td>Iris-setosa</td>\n",
       "    </tr>\n",
       "    <tr>\n",
       "      <th>8</th>\n",
       "      <td>9</td>\n",
       "      <td>4.4</td>\n",
       "      <td>2.9</td>\n",
       "      <td>1.4</td>\n",
       "      <td>0.2</td>\n",
       "      <td>Iris-setosa</td>\n",
       "    </tr>\n",
       "    <tr>\n",
       "      <th>9</th>\n",
       "      <td>10</td>\n",
       "      <td>4.9</td>\n",
       "      <td>3.1</td>\n",
       "      <td>1.5</td>\n",
       "      <td>0.1</td>\n",
       "      <td>Iris-setosa</td>\n",
       "    </tr>\n",
       "  </tbody>\n",
       "</table>\n",
       "</div>"
      ],
      "text/plain": [
       "   Id  SepalLengthCm  SepalWidthCm  PetalLengthCm  PetalWidthCm      Species\n",
       "0   1            5.1           3.5            1.4           0.2  Iris-setosa\n",
       "1   2            4.9           3.0            1.4           0.2  Iris-setosa\n",
       "2   3            4.7           3.2            1.3           0.2  Iris-setosa\n",
       "3   4            4.6           3.1            1.5           0.2  Iris-setosa\n",
       "4   5            5.0           3.6            1.4           0.2  Iris-setosa\n",
       "5   6            5.4           3.9            1.7           0.4  Iris-setosa\n",
       "6   7            4.6           3.4            1.4           0.3  Iris-setosa\n",
       "7   8            5.0           3.4            1.5           0.2  Iris-setosa\n",
       "8   9            4.4           2.9            1.4           0.2  Iris-setosa\n",
       "9  10            4.9           3.1            1.5           0.1  Iris-setosa"
      ]
     },
     "execution_count": 2,
     "metadata": {},
     "output_type": "execute_result"
    }
   ],
   "source": [
    "# imports\n",
    "import os # for paths\n",
    "import pandas as pd # for managing the dataset\n",
    "import numpy as np # for doing lin alg\n",
    "\n",
    "# load in data\n",
    "iris = pd.read_csv('/Users/oscarscholin/Downloads/iris_master.csv')\n",
    "iris.head(10)"
   ]
  },
  {
   "cell_type": "markdown",
   "metadata": {},
   "source": [
    "## Single hidden layer, batch of 1"
   ]
  },
  {
   "cell_type": "code",
   "execution_count": 28,
   "metadata": {},
   "outputs": [
    {
     "name": "stdout",
     "output_type": "stream",
     "text": [
      "[5.1 3.5 1.4 0.2]\n",
      "['Iris-setosa', 'Iris-versicolor', 'Iris-virginica']\n",
      "Iris-setosa\n",
      "[1 0 0]\n"
     ]
    }
   ],
   "source": [
    "# get single input vector corresponding to first row; output target is species one-hot encoded \n",
    "input = np.array(iris.iloc[:1, 1:-1])[0]\n",
    "print(input)\n",
    "\n",
    "# for output, we want a 3 dimenional vector with 1 in position of the species\n",
    "species_list = list(iris['Species'].unique())\n",
    "print(species_list)\n",
    "species = str(np.array(iris.iloc[:1, -1:])[0][0])\n",
    "print(species)\n",
    "\n",
    "# now make one-hot encoded (i.e., 1 at class location and 0 everywhere else)\n",
    "target = np.zeros(3, dtype=int)\n",
    "index = species_list.index(species)\n",
    "target[index]=1\n",
    "print(target)\n"
   ]
  },
  {
   "cell_type": "code",
   "execution_count": 43,
   "metadata": {},
   "outputs": [
    {
     "name": "stdout",
     "output_type": "stream",
     "text": [
      "weights1: [[-0.20110904 -0.16360342  0.72501694 -0.39025517]\n",
      " [-0.13413757 -0.59175585 -0.58734769  0.5912798 ]]\n",
      "-------\n",
      "biases1: [2.30429604 3.40198756]\n",
      "-------\n",
      "out1: [ 1.64300063 -0.05729033]\n"
     ]
    }
   ],
   "source": [
    "# time for hidden layer!\n",
    "# we want 5 neurons, so we will have a list of length 2 containins 4 values each for the weights\n",
    "# and then a list with 2 elements for biases\n",
    "\n",
    "# choose randomly: initialize weights!\n",
    "weights = []\n",
    "for i in range(2):\n",
    "    neuron_list = []\n",
    "    for i in range(4):\n",
    "        neuron_list.append((np.random.random())*2 -1)\n",
    "    weights.append(neuron_list)\n",
    "\n",
    "# now for biases\n",
    "biases=[]\n",
    "for i in range(2):\n",
    "    biases.append(((np.random.random())*5))\n",
    "\n",
    "print('weights1:', np.array(weights))\n",
    "print('-------')\n",
    "print('biases1:', np.array(biases))\n",
    "print('-------')\n",
    "\n",
    "# now pass the data through the network\n",
    "out = np.dot(weights, input) + biases\n",
    "print('out1:', np.array(out))\n"
   ]
  },
  {
   "cell_type": "code",
   "execution_count": 44,
   "metadata": {},
   "outputs": [
    {
     "name": "stdout",
     "output_type": "stream",
     "text": [
      "weights2 [[-0.83067328  0.1859269 ]\n",
      " [-0.89465394 -0.23354587]\n",
      " [-0.89055185 -0.8597818 ]]\n",
      "-------\n",
      "biases2 [1.45533064 0.60915228 1.3253844 ]\n",
      "-------\n",
      "out2 [ 0.0798821  -0.84738478 -0.08853566]\n"
     ]
    }
   ],
   "source": [
    "# now need feed through another layer to be the outputs; has 3 layers bc 3 classes\n",
    "# choose randomly: initialize weights!\n",
    "weights = []\n",
    "for i in range(3):\n",
    "    neuron_list = []\n",
    "    for i in range(len(out)):\n",
    "        neuron_list.append((np.random.random())*2 -1)\n",
    "    weights.append(neuron_list)\n",
    "\n",
    "# now for biases\n",
    "biases=[]\n",
    "for i in range(3):\n",
    "    biases.append(((np.random.random())*5))\n",
    "\n",
    "print('weights2', np.array(weights))\n",
    "print('-------')\n",
    "print('biases2', np.array(biases))\n",
    "print('-------')\n",
    "\n",
    "# now pass the data through the network\n",
    "out2 = np.dot(weights, out) + biases\n",
    "print('out2', np.array(out2))\n"
   ]
  },
  {
   "cell_type": "code",
   "execution_count": 45,
   "metadata": {},
   "outputs": [
    {
     "name": "stdout",
     "output_type": "stream",
     "text": [
      "[0.44630219 0.17657212 0.37712569]\n",
      "------\n",
      "chosen class: Iris-setosa\n"
     ]
    }
   ],
   "source": [
    "# now need to pass through activation function to get values bn 0 and 1\n",
    "# here use softmax\n",
    "exp_vals = np.exp(out2 - np.max(out2)) #subtract max per row\n",
    "probabilites = exp_vals / np.sum(exp_vals)\n",
    "print(probabilites)\n",
    "print('------')\n",
    "print('chosen class:', species_list[np.argmax(probabilites)])"
   ]
  },
  {
   "cell_type": "code",
   "execution_count": 46,
   "metadata": {},
   "outputs": [
    {
     "name": "stdout",
     "output_type": "stream",
     "text": [
      "0.8067589938167536\n"
     ]
    }
   ],
   "source": [
    "# need to compute loss\n",
    "# use categorical cross entropy loss\n",
    "y_pred_clipped = np.clip(probabilites, 1e-7, 1-1e-7) #need to clip close to 0\n",
    "correct_confidences = np.sum(y_pred_clipped*target)\n",
    "negative_log_likelihoods = -np.log(correct_confidences)\n",
    "print(negative_log_likelihoods)"
   ]
  },
  {
   "cell_type": "code",
   "execution_count": null,
   "metadata": {},
   "outputs": [],
   "source": []
  }
 ],
 "metadata": {
  "kernelspec": {
   "display_name": "Python 3.9.7 ('base')",
   "language": "python",
   "name": "python3"
  },
  "language_info": {
   "codemirror_mode": {
    "name": "ipython",
    "version": 3
   },
   "file_extension": ".py",
   "mimetype": "text/x-python",
   "name": "python",
   "nbconvert_exporter": "python",
   "pygments_lexer": "ipython3",
   "version": "3.9.7"
  },
  "orig_nbformat": 4,
  "vscode": {
   "interpreter": {
    "hash": "40d3a090f54c6569ab1632332b64b2c03c39dcf918b08424e98f38b5ae0af88f"
   }
  }
 },
 "nbformat": 4,
 "nbformat_minor": 2
}
